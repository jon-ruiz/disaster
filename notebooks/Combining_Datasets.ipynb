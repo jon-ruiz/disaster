{
 "cells": [
  {
   "cell_type": "code",
   "execution_count": 1,
   "metadata": {},
   "outputs": [],
   "source": [
    "#import pandas\n",
    "import pandas as pd\n",
    "#import the pickled data\n",
    "train1 = pd.read_pickle(\"../data/train.pkl\")\n",
    "train2 = pd.read_pickle(\"../data/train2.pkl\")\n",
    "#create dummy for train1\n",
    "train1[\"informative\"] = train1.text_info.map({\"informative\":1,\"not_informative\":0, \"dont_know_or_cant_judge\":0})\n",
    "#isolate relevant columns\n",
    "train1 = train1[[\"tweet_text\", \"informative\"]]\n",
    "train2 = train2[[\"tweet\", \"informative\"]]\n",
    "#reindex train2\n",
    "train2 = train2.reset_index().drop(columns=\"_unit_id\")\n",
    "#rename tweet column in train2\n",
    "train2 = train2.rename(columns={\"tweet\":\"tweet_text\"})\n",
    "#combine datasets\n",
    "combined_train = pd.concat([train1, train2], ignore_index=True)\n",
    "#reindex datasets\n",
    "combined_train = combined_train.reset_index().drop(columns=\"index\")\n",
    "#pickle dataset\n",
    "combined_train.to_pickle(\"../data/combined_train.pkl\")"
   ]
  }
 ],
 "metadata": {
  "kernelspec": {
   "display_name": "Python 3",
   "language": "python",
   "name": "python3"
  },
  "language_info": {
   "codemirror_mode": {
    "name": "ipython",
    "version": 3
   },
   "file_extension": ".py",
   "mimetype": "text/x-python",
   "name": "python",
   "nbconvert_exporter": "python",
   "pygments_lexer": "ipython3",
   "version": "3.6.8"
  }
 },
 "nbformat": 4,
 "nbformat_minor": 2
}
