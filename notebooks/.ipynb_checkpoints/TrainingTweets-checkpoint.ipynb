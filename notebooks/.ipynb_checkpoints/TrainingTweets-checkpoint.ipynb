{
 "cells": [
  {
   "cell_type": "code",
   "execution_count": 1,
   "metadata": {},
   "outputs": [],
   "source": [
    "import pandas as pd"
   ]
  },
  {
   "cell_type": "code",
   "execution_count": 26,
   "metadata": {},
   "outputs": [],
   "source": [
    "harvey = pd.read_csv('./data/annotations/hurricane_harvey_final_data.tsv',delimiter='\\t')"
   ]
  },
  {
   "cell_type": "code",
   "execution_count": 62,
   "metadata": {},
   "outputs": [
    {
     "name": "stdout",
     "output_type": "stream",
     "text": [
      "<class 'pandas.core.frame.DataFrame'>\n",
      "RangeIndex: 4443 entries, 0 to 4442\n",
      "Data columns (total 16 columns):\n",
      "tweet_id             4443 non-null int64\n",
      "image_id             4443 non-null object\n",
      "text_info            4443 non-null object\n",
      "text_info_conf       4443 non-null float64\n",
      "image_info           4443 non-null object\n",
      "image_info_conf      4443 non-null float64\n",
      "text_human           3533 non-null object\n",
      "text_human_conf      3533 non-null float64\n",
      "image_human          3533 non-null object\n",
      "image_human_conf     3533 non-null float64\n",
      "image_damage         916 non-null object\n",
      "image_damage_conf    916 non-null float64\n",
      "tweet_text           4443 non-null object\n",
      "image_url            4443 non-null object\n",
      "image_path           4443 non-null object\n",
      "event                4443 non-null object\n",
      "dtypes: float64(5), int64(1), object(10)\n",
      "memory usage: 555.5+ KB\n"
     ]
    }
   ],
   "source": [
    "harvey.info()"
   ]
  },
  {
   "cell_type": "code",
   "execution_count": 63,
   "metadata": {},
   "outputs": [
    {
     "data": {
      "text/plain": [
       "(4443, 16)"
      ]
     },
     "execution_count": 63,
     "metadata": {},
     "output_type": "execute_result"
    }
   ],
   "source": [
    "harvey.shape"
   ]
  },
  {
   "cell_type": "code",
   "execution_count": 45,
   "metadata": {},
   "outputs": [],
   "source": [
    "harvey['event'] = 'harvey'"
   ]
  },
  {
   "cell_type": "code",
   "execution_count": 31,
   "metadata": {},
   "outputs": [],
   "source": [
    "irma = pd.read_csv('./data/annotations/hurricane_irma_final_data.tsv',delimiter='\\t')"
   ]
  },
  {
   "cell_type": "code",
   "execution_count": 64,
   "metadata": {},
   "outputs": [
    {
     "data": {
      "text/plain": [
       "(4525, 16)"
      ]
     },
     "execution_count": 64,
     "metadata": {},
     "output_type": "execute_result"
    }
   ],
   "source": [
    "irma.shape"
   ]
  },
  {
   "cell_type": "code",
   "execution_count": 60,
   "metadata": {},
   "outputs": [
    {
     "name": "stdout",
     "output_type": "stream",
     "text": [
      "<class 'pandas.core.frame.DataFrame'>\n",
      "RangeIndex: 4525 entries, 0 to 4524\n",
      "Data columns (total 16 columns):\n",
      "tweet_id             4525 non-null int64\n",
      "image_id             4525 non-null object\n",
      "text_info            4525 non-null object\n",
      "text_info_conf       4525 non-null float64\n",
      "image_info           4525 non-null object\n",
      "image_info_conf      4525 non-null float64\n",
      "text_human           3754 non-null object\n",
      "text_human_conf      3754 non-null float64\n",
      "image_human          3754 non-null object\n",
      "image_human_conf     3754 non-null float64\n",
      "image_damage         819 non-null object\n",
      "image_damage_conf    819 non-null float64\n",
      "tweet_text           4525 non-null object\n",
      "image_url            4525 non-null object\n",
      "image_path           4525 non-null object\n",
      "event                4525 non-null object\n",
      "dtypes: float64(5), int64(1), object(10)\n",
      "memory usage: 565.7+ KB\n"
     ]
    }
   ],
   "source": [
    "irma.info()"
   ]
  },
  {
   "cell_type": "code",
   "execution_count": 47,
   "metadata": {},
   "outputs": [],
   "source": [
    "irma['event'] = 'irma'"
   ]
  },
  {
   "cell_type": "code",
   "execution_count": 65,
   "metadata": {},
   "outputs": [],
   "source": [
    "maria = pd.read_csv('./data/annotations/hurricane_maria_final_data.tsv',delimiter='\\t')"
   ]
  },
  {
   "cell_type": "code",
   "execution_count": 66,
   "metadata": {},
   "outputs": [
    {
     "data": {
      "text/plain": [
       "(4562, 15)"
      ]
     },
     "execution_count": 66,
     "metadata": {},
     "output_type": "execute_result"
    }
   ],
   "source": [
    "maria.shape"
   ]
  },
  {
   "cell_type": "code",
   "execution_count": 75,
   "metadata": {},
   "outputs": [],
   "source": [
    "maria['event'] = 'maria'"
   ]
  },
  {
   "cell_type": "code",
   "execution_count": 76,
   "metadata": {},
   "outputs": [],
   "source": [
    "train = pd.concat([harvey,irma,maria], axis=0)"
   ]
  },
  {
   "cell_type": "code",
   "execution_count": 77,
   "metadata": {},
   "outputs": [
    {
     "data": {
      "text/plain": [
       "(13530, 16)"
      ]
     },
     "execution_count": 77,
     "metadata": {},
     "output_type": "execute_result"
    }
   ],
   "source": [
    "train.shape"
   ]
  },
  {
   "cell_type": "code",
   "execution_count": 78,
   "metadata": {},
   "outputs": [
    {
     "data": {
      "text/plain": [
       "maria     4562\n",
       "irma      4525\n",
       "harvey    4443\n",
       "Name: event, dtype: int64"
      ]
     },
     "execution_count": 78,
     "metadata": {},
     "output_type": "execute_result"
    }
   ],
   "source": [
    "train.event.value_counts()"
   ]
  },
  {
   "cell_type": "code",
   "execution_count": 79,
   "metadata": {},
   "outputs": [
    {
     "data": {
      "text/plain": [
       "other_relevant_information                5048\n",
       "rescue_volunteering_or_donation_effort    3015\n",
       "infrastructure_and_utility_damage         1083\n",
       "not_relevant_or_cant_judge                 808\n",
       "affected_individuals                       356\n",
       "injured_or_dead_people                     167\n",
       "vehicle_damage                              57\n",
       "missing_or_found_people                     16\n",
       "Name: text_human, dtype: int64"
      ]
     },
     "execution_count": 79,
     "metadata": {},
     "output_type": "execute_result"
    }
   ],
   "source": [
    "train.text_human.value_counts()"
   ]
  },
  {
   "cell_type": "code",
   "execution_count": 80,
   "metadata": {},
   "outputs": [
    {
     "data": {
      "text/plain": [
       "informative                9742\n",
       "not_informative            3784\n",
       "dont_know_or_cant_judge       4\n",
       "Name: text_info, dtype: int64"
      ]
     },
     "execution_count": 80,
     "metadata": {},
     "output_type": "execute_result"
    }
   ],
   "source": [
    "train.text_info.value_counts()"
   ]
  },
  {
   "cell_type": "code",
   "execution_count": null,
   "metadata": {},
   "outputs": [],
   "source": [
    "train['y'] = train['category'].map(\n",
    "    {\"Casualties and damage\":1,\"Caution and advice\":2, \n",
    "     \"Unknown\":3, \"Information Source\":4, \"Donations of money, goods or services\":5})"
   ]
  },
  {
   "cell_type": "code",
   "execution_count": null,
   "metadata": {},
   "outputs": [],
   "source": []
  },
  {
   "cell_type": "code",
   "execution_count": 81,
   "metadata": {},
   "outputs": [],
   "source": [
    "train.to_pickle('train.pkl')"
   ]
  }
 ],
 "metadata": {
  "kernelspec": {
   "display_name": "Python 3",
   "language": "python",
   "name": "python3"
  },
  "language_info": {
   "codemirror_mode": {
    "name": "ipython",
    "version": 3
   },
   "file_extension": ".py",
   "mimetype": "text/x-python",
   "name": "python",
   "nbconvert_exporter": "python",
   "pygments_lexer": "ipython3",
   "version": "3.6.5"
  }
 },
 "nbformat": 4,
 "nbformat_minor": 2
}
