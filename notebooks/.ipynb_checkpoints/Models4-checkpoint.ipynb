{
 "cells": [
  {
   "cell_type": "code",
   "execution_count": 1,
   "metadata": {},
   "outputs": [
    {
     "name": "stderr",
     "output_type": "stream",
     "text": [
      "C:\\Users\\pauls\\Anaconda3\\envs\\dsi\\lib\\site-packages\\smart_open\\ssh.py:34: UserWarning: paramiko missing, opening SSH/SCP/SFTP paths will be disabled.  `pip install paramiko` to suppress\n",
      "  warnings.warn('paramiko missing, opening SSH/SCP/SFTP paths will be disabled.  `pip install paramiko` to suppress')\n"
     ]
    }
   ],
   "source": [
    "from sklearn import svm\n",
    "from sklearn.naive_bayes import MultinomialNB\n",
    "from sklearn.linear_model import LogisticRegression\n",
    "from sklearn.model_selection import train_test_split\n",
    "from sklearn.model_selection import cross_val_score\n",
    "from sklearn.feature_extraction.text import CountVectorizer, TfidfVectorizer\n",
    "from sklearn.neighbors import KNeighborsClassifier\n",
    "from sklearn.metrics import confusion_matrix, classification_report,classification\n",
    "from sklearn.ensemble import BaggingClassifier,RandomForestClassifier,ExtraTreesClassifier,AdaBoostClassifier,GradientBoostingClassifier\n",
    "from sklearn.tree import DecisionTreeClassifier\n",
    "from nltk import TweetTokenizer\n",
    "from nltk.corpus import stopwords\n",
    "from gensim.test.utils import common_dictionary, common_corpus\n",
    "from gensim.models import LsiModel\n",
    "import pandas as pd\n",
    "import re"
   ]
  },
  {
   "cell_type": "code",
   "execution_count": 3,
   "metadata": {},
   "outputs": [
    {
     "name": "stdout",
     "output_type": "stream",
     "text": [
      "[nltk_data] Downloading package stopwords to\n",
      "[nltk_data]     C:\\Users\\pauls\\AppData\\Roaming\\nltk_data...\n",
      "[nltk_data]   Package stopwords is already up-to-date!\n"
     ]
    },
    {
     "data": {
      "text/plain": [
       "True"
      ]
     },
     "execution_count": 3,
     "metadata": {},
     "output_type": "execute_result"
    }
   ],
   "source": [
    "import nltk\n",
    "nltk.download('stopwords')"
   ]
  },
  {
   "cell_type": "code",
   "execution_count": 2,
   "metadata": {},
   "outputs": [],
   "source": [
    "#read pickled data\n",
    "tweets = pd.read_pickle(\"../data/train.pkl\")"
   ]
  },
  {
   "cell_type": "code",
   "execution_count": 10,
   "metadata": {},
   "outputs": [
    {
     "data": {
      "text/plain": [
       "Index(['tweet_id', 'image_id', 'text_info', 'text_info_conf', 'image_info',\n",
       "       'image_info_conf', 'text_human', 'text_human_conf', 'image_human',\n",
       "       'image_human_conf', 'image_damage', 'image_damage_conf', 'tweet_text',\n",
       "       'image_url', 'image_path', 'event', 'y', 'clean_text'],\n",
       "      dtype='object')"
      ]
     },
     "execution_count": 10,
     "metadata": {},
     "output_type": "execute_result"
    }
   ],
   "source": [
    "tweets.columns"
   ]
  },
  {
   "cell_type": "code",
   "execution_count": 11,
   "metadata": {},
   "outputs": [],
   "source": [
    "# drop unneeded columns\n",
    "cols = ['tweet_id', 'text_info', 'text_human', 'tweet_text', 'event', 'y']\n",
    "\n",
    "tweets = tweets[cols]"
   ]
  },
  {
   "cell_type": "code",
   "execution_count": 16,
   "metadata": {},
   "outputs": [],
   "source": [
    "# drop duplicates\n",
    "tweets.drop_duplicates(inplace=True)\n",
    "tweets.dropna(inplace=True)"
   ]
  },
  {
   "cell_type": "code",
   "execution_count": 17,
   "metadata": {},
   "outputs": [
    {
     "data": {
      "text/plain": [
       "1.0    0.491601\n",
       "2.0    0.278394\n",
       "3.0    0.095827\n",
       "4.0    0.075753\n",
       "5.0    0.034760\n",
       "6.0    0.016799\n",
       "0.0    0.005283\n",
       "7.0    0.001585\n",
       "Name: y, dtype: float64"
      ]
     },
     "execution_count": 17,
     "metadata": {},
     "output_type": "execute_result"
    }
   ],
   "source": [
    "#baseline accuracy\n",
    "tweets.y.value_counts(1)"
   ]
  },
  {
   "cell_type": "code",
   "execution_count": 18,
   "metadata": {},
   "outputs": [
    {
     "data": {
      "text/html": [
       "<div>\n",
       "<style scoped>\n",
       "    .dataframe tbody tr th:only-of-type {\n",
       "        vertical-align: middle;\n",
       "    }\n",
       "\n",
       "    .dataframe tbody tr th {\n",
       "        vertical-align: top;\n",
       "    }\n",
       "\n",
       "    .dataframe thead th {\n",
       "        text-align: right;\n",
       "    }\n",
       "</style>\n",
       "<table border=\"1\" class=\"dataframe\">\n",
       "  <thead>\n",
       "    <tr style=\"text-align: right;\">\n",
       "      <th></th>\n",
       "      <th>tweet_id</th>\n",
       "      <th>text_info</th>\n",
       "      <th>text_human</th>\n",
       "      <th>tweet_text</th>\n",
       "      <th>event</th>\n",
       "      <th>y</th>\n",
       "    </tr>\n",
       "  </thead>\n",
       "  <tbody>\n",
       "    <tr>\n",
       "      <th>0</th>\n",
       "      <td>905274232590004225</td>\n",
       "      <td>not_informative</td>\n",
       "      <td>not_relevant_or_cant_judge</td>\n",
       "      <td>CONGRATS ON HITTING YOIR GOAL GUYS, I'm sure t...</td>\n",
       "      <td>harvey</td>\n",
       "      <td>4.0</td>\n",
       "    </tr>\n",
       "    <tr>\n",
       "      <th>1</th>\n",
       "      <td>901646074527535105</td>\n",
       "      <td>informative</td>\n",
       "      <td>injured_or_dead_people</td>\n",
       "      <td>RT @ajwamood: #ajwamood : Harvey the first maj...</td>\n",
       "      <td>harvey</td>\n",
       "      <td>6.0</td>\n",
       "    </tr>\n",
       "    <tr>\n",
       "      <th>8</th>\n",
       "      <td>901646123080830976</td>\n",
       "      <td>informative</td>\n",
       "      <td>other_relevant_information</td>\n",
       "      <td>RT @yIIeza: When we get back to SCHS after Har...</td>\n",
       "      <td>harvey</td>\n",
       "      <td>1.0</td>\n",
       "    </tr>\n",
       "    <tr>\n",
       "      <th>9</th>\n",
       "      <td>901646127895863296</td>\n",
       "      <td>informative</td>\n",
       "      <td>other_relevant_information</td>\n",
       "      <td>Not always good when your city shows up on a s...</td>\n",
       "      <td>harvey</td>\n",
       "      <td>1.0</td>\n",
       "    </tr>\n",
       "    <tr>\n",
       "      <th>10</th>\n",
       "      <td>901646131628830721</td>\n",
       "      <td>informative</td>\n",
       "      <td>other_relevant_information</td>\n",
       "      <td>RT @MSNBC: Side by side satellite images compa...</td>\n",
       "      <td>harvey</td>\n",
       "      <td>1.0</td>\n",
       "    </tr>\n",
       "  </tbody>\n",
       "</table>\n",
       "</div>"
      ],
      "text/plain": [
       "              tweet_id        text_info                  text_human  \\\n",
       "0   905274232590004225  not_informative  not_relevant_or_cant_judge   \n",
       "1   901646074527535105      informative      injured_or_dead_people   \n",
       "8   901646123080830976      informative  other_relevant_information   \n",
       "9   901646127895863296      informative  other_relevant_information   \n",
       "10  901646131628830721      informative  other_relevant_information   \n",
       "\n",
       "                                           tweet_text   event    y  \n",
       "0   CONGRATS ON HITTING YOIR GOAL GUYS, I'm sure t...  harvey  4.0  \n",
       "1   RT @ajwamood: #ajwamood : Harvey the first maj...  harvey  6.0  \n",
       "8   RT @yIIeza: When we get back to SCHS after Har...  harvey  1.0  \n",
       "9   Not always good when your city shows up on a s...  harvey  1.0  \n",
       "10  RT @MSNBC: Side by side satellite images compa...  harvey  1.0  "
      ]
     },
     "execution_count": 18,
     "metadata": {},
     "output_type": "execute_result"
    }
   ],
   "source": [
    "tweets.head()"
   ]
  },
  {
   "cell_type": "code",
   "execution_count": 19,
   "metadata": {},
   "outputs": [],
   "source": [
    "# convert text to lower case\n",
    "tweets['clean_text'] = tweets['tweet_text'].str.lower()\n",
    "\n",
    "# remove URLs\n",
    "tweets['clean_text'] = tweets['clean_text'].apply(lambda x: re.split('https:\\/\\/.*', str(x))[0])\n",
    "\n",
    "#remove \"RT\" string\n",
    "tweets['clean_text'] = tweets['clean_text'].map(lambda x: x.lstrip('rt'))\n",
    "\n",
    "# #remove remaining punctuation except for \"#\"\n",
    "# tweets['clean_text'] = tweets['clean_text'].str.replace(\"[^a-zA-Z]\", \" \")"
   ]
  },
  {
   "cell_type": "code",
   "execution_count": 47,
   "metadata": {},
   "outputs": [],
   "source": [
    "tweets['tweet_chars']=tweets['clean_text'].map(lambda x: len(x))"
   ]
  },
  {
   "cell_type": "code",
   "execution_count": 48,
   "metadata": {},
   "outputs": [
    {
     "data": {
      "text/plain": [
       "count    9465.000000\n",
       "mean       78.757739\n",
       "std        22.795045\n",
       "min         0.000000\n",
       "25%        63.000000\n",
       "50%        78.000000\n",
       "75%        93.000000\n",
       "max       153.000000\n",
       "Name: tweet_chars, dtype: float64"
      ]
     },
     "execution_count": 48,
     "metadata": {},
     "output_type": "execute_result"
    }
   ],
   "source": [
    "tweets['tweet_chars'].describe()"
   ]
  },
  {
   "cell_type": "code",
   "execution_count": 50,
   "metadata": {},
   "outputs": [],
   "source": [
    "#Name variables \n",
    "\n",
    "X = tweets[[\"clean_text\",\"tweet_chars\"]]\n",
    "y = tweets[\"y\"]\n",
    "\n",
    "#train test split\n",
    "X_train, X_test, y_train, y_test = train_test_split(X,\n",
    "                                                    y,\n",
    "                                                    test_size=0.25,\n",
    "                                                    random_state=42,\n",
    "                                                    stratify=y)"
   ]
  },
  {
   "cell_type": "code",
   "execution_count": 22,
   "metadata": {},
   "outputs": [],
   "source": [
    "# Load stopwords from NLTK and add custom words\n",
    "mystopwords = stopwords.words('english')\n",
    "mystopwords.extend(['hurricane','tornado','harvey','irma','joplin','sandy','maria',\n",
    "                    'like','would','get','x200b','https','one','www','com','org','etc','could'])"
   ]
  },
  {
   "cell_type": "code",
   "execution_count": 23,
   "metadata": {},
   "outputs": [
    {
     "name": "stdout",
     "output_type": "stream",
     "text": [
      "Naive Bayes model with Count Vectorizer\n",
      "Train data accuracy: 0.773\n",
      "Test data accuracy: 0.663\n"
     ]
    }
   ],
   "source": [
    "# Naive Bayes with CVEC\n",
    "tknzr = TweetTokenizer()\n",
    "cvec = CountVectorizer(tokenizer=tknzr.tokenize,stop_words=mystopwords,\n",
    "                       max_features=3000,max_df=1.0,min_df=2, \n",
    "                       ngram_range=(1,1))\n",
    "\n",
    "# Fit  CountVectorizer on the training data and transform training data.\n",
    "X_train_cvec = pd.DataFrame(cvec.fit_transform(X_train['clean_text']).todense(),\n",
    "                            columns = cvec.get_feature_names())\n",
    "# Transform our testing data with the already-fit CountVectorizer.\n",
    "X_test_cvec = pd.DataFrame(cvec.transform(X_test['clean_text']).todense(),\n",
    "                           columns = cvec.get_feature_names())\n",
    "\n",
    "# instantiate and fit model \n",
    "nb = MultinomialNB(alpha=1)\n",
    "nb.fit(X_train_cvec, y_train)\n",
    "\n",
    "# Score model on the training set.\n",
    "print('Naive Bayes model with Count Vectorizer')\n",
    "print(f'Train data accuracy: {nb.score(X_train_cvec,y_train):.3f}')\n",
    "\n",
    "# Score our model on the testing set.\n",
    "print(f'Test data accuracy: {nb.score(X_test_cvec,y_test):.3f}')"
   ]
  },
  {
   "cell_type": "code",
   "execution_count": 24,
   "metadata": {},
   "outputs": [
    {
     "name": "stdout",
     "output_type": "stream",
     "text": [
      "Naive Bayes model with TF-IDF Vectorizer\n",
      "Train data accuracy: 0.702\n",
      "Test data accuracy: 0.662\n"
     ]
    }
   ],
   "source": [
    "# Naive Bayes Bernouilli with Tfidf\n",
    "tvec = TfidfVectorizer(tokenizer=tknzr.tokenize,stop_words=None,max_features=3000,max_df=1.0,min_df=2, ngram_range=(1,1))\n",
    "\n",
    "# Fit our CountVectorizer on the training data and transform training data.\n",
    "X_train_tvec = pd.DataFrame(tvec.fit_transform(X_train['clean_text']).todense(),\n",
    "                            columns = tvec.get_feature_names())\n",
    "# Transform our testing data with the already-fit CountVectorizer.\n",
    "X_test_tvec = pd.DataFrame(tvec.transform(X_test['clean_text']).todense(),\n",
    "                           columns = tvec.get_feature_names())\n",
    "\n",
    "# instantiate and fit model \n",
    "nb = MultinomialNB(alpha=1)\n",
    "nb.fit(X_train_tvec, y_train)\n",
    "\n",
    "# Score model on the training set.\n",
    "print('Naive Bayes model with TF-IDF Vectorizer')\n",
    "print(f'Train data accuracy: {nb.score(X_train_tvec,y_train):.3f}')\n",
    "\n",
    "# Score our model on the testing set.\n",
    "print(f'Test data accuracy: {nb.score(X_test_tvec,y_test):.3f}')"
   ]
  },
  {
   "cell_type": "code",
   "execution_count": null,
   "metadata": {},
   "outputs": [],
   "source": [
    "# SVM model with CVEC\n",
    "cvec = CountVectorizer(stop_words=mystopwords,max_features=800, ngram_range=(1,1))\n",
    "\n",
    "# Fit  CountVectorizer on the training data and transform training data.\n",
    "X_train_cvec = pd.DataFrame(cvec.fit_transform(X_train['clean_text']).todense(),\n",
    "                            columns = cvec.get_feature_names())\n",
    "# Transform our testing data with the already-fit CountVectorizer.\n",
    "X_test_cvec = pd.DataFrame(cvec.transform(X_test['clean_text']).todense(),\n",
    "                           columns = cvec.get_feature_names())\n",
    "# Instantiate SVM.\n",
    "# svc = svm.SVC(kernel='poly', C = 1.8, gamma = .05) \n",
    "svc = svm.SVC(kernel='rbf', C = 2, gamma = .2)  \n",
    "\n",
    "# Fit on training data.\n",
    "svc.fit(X_train_cvec,y_train)\n",
    "\n",
    "# Score model on the training set.\n",
    "print('Support Vector Machine model with Count Vectorizer')\n",
    "print(f'Train data accuracy: {svc.score(X_train_cvec,y_train):.3f}')\n",
    "\n",
    "# Score our model on the testing set.\n",
    "print(f'Test data accuracy: {svc.score(X_test_cvec,y_test):.3f}')"
   ]
  },
  {
   "cell_type": "code",
   "execution_count": 53,
   "metadata": {},
   "outputs": [
    {
     "name": "stdout",
     "output_type": "stream",
     "text": [
      "Logistic Regression model with Count Vectorizer and TweetTokenzer\n",
      "Train data accuracy: 0.959\n",
      "Test data accuracy: 0.709\n"
     ]
    }
   ],
   "source": [
    "# Add in number of characters per tweet\n",
    "#CountVectorizer \n",
    "tknzr = TweetTokenizer()\n",
    "cvec = CountVectorizer(stop_words=\"english\", tokenizer=tknzr.tokenize)\n",
    "X_train_cvec = pd.DataFrame(cvec.fit_transform(X_train['clean_text']).todense(), columns = cvec.get_feature_names())\n",
    "X_train_cvec[\"tweet_chars\"] = X_train[\"tweet_chars\"].values\n",
    "X_test_cvec = pd.DataFrame(cvec.transform(X_test['clean_text']).todense(), columns = cvec.get_feature_names())\n",
    "X_test_cvec[\"tweet_chars\"] = X_test[\"tweet_chars\"].values\n",
    "lr = LogisticRegression(penalty='l2',C=1.5,random_state=42, solver='liblinear', multi_class='ovr')\n",
    "lr_model = lr.fit(X_train_cvec, y_train)\n",
    "\n",
    "# Score model on the training set.\n",
    "print('Logistic Regression model with Count Vectorizer and TweetTokenzer')\n",
    "print(f'Train data accuracy: {lr.score(X_train_cvec,y_train):.3f}')\n",
    "\n",
    "# Score our model on the testing set.\n",
    "print(f'Test data accuracy: {lr.score(X_test_cvec,y_test):.3f}')"
   ]
  },
  {
   "cell_type": "code",
   "execution_count": 61,
   "metadata": {},
   "outputs": [
    {
     "name": "stdout",
     "output_type": "stream",
     "text": [
      "Logistic Regression model with Count Vectorizer and TweetTokenzer\n",
      "Train data accuracy: 0.944\n",
      "Test data accuracy: 0.710\n"
     ]
    }
   ],
   "source": [
    "#CountVectorizer \n",
    "tknzr = TweetTokenizer()\n",
    "cvec = CountVectorizer(stop_words=\"english\", tokenizer=tknzr.tokenize)\n",
    "X_train_cvec = pd.DataFrame(cvec.fit_transform(X_train['clean_text']).todense(), columns = cvec.get_feature_names())\n",
    "X_test_cvec = pd.DataFrame(cvec.transform(X_test['clean_text']).todense(), columns = cvec.get_feature_names())\n",
    "lr = LogisticRegression(penalty='l2',C=1.2,random_state=42, solver='liblinear', multi_class='ovr')\n",
    "lr_model = lr.fit(X_train_cvec, y_train)\n",
    "\n",
    "# Score model on the training set.\n",
    "print('Logistic Regression model with Count Vectorizer and TweetTokenzer')\n",
    "print(f'Train data accuracy: {lr.score(X_train_cvec,y_train):.3f}')\n",
    "\n",
    "# Score our model on the testing set.\n",
    "print(f'Test data accuracy: {lr.score(X_test_cvec,y_test):.3f}')"
   ]
  },
  {
   "cell_type": "code",
   "execution_count": null,
   "metadata": {},
   "outputs": [],
   "source": [
    "# Latent Semantic Indexing\n",
    "tknzr = TweetTokenizer()\n",
    "cvec = CountVectorizer(stop_words=\"english\", tokenizer=tknzr.tokenize)\n",
    "model = LsiModel(cvec, id2word=common_dictionary)\n",
    "# vectorized_corpus = model[cvec]\n",
    "\n",
    "\n",
    "X_train_cvec = pd.DataFrame(model[X_train['tweet']).todense(), columns = cvec.get_feature_names())\n",
    "X_test_cvec = pd.DataFrame(cvec.transform(X_test['tweet']).todense(), columns = cvec.get_feature_names())\n",
    "lr = LogisticRegression()\n",
    "lr_model = lr.fit(X_train_cvec, y_train)\n",
    "# Score model on the training set.\n",
    "print('Logistic Regression model with Count Vectorizer and TweetTokenzer')\n",
    "print(f'Train data accuracy: {lr.score(X_train_cvec,y_train):.3f}')\n",
    "\n",
    "# Score our model on the testing set.\n",
    "print(f'Test data accuracy: {lr.score(X_test_cvec,y_test):.3f}')"
   ]
  },
  {
   "cell_type": "code",
   "execution_count": 54,
   "metadata": {},
   "outputs": [
    {
     "name": "stdout",
     "output_type": "stream",
     "text": [
      "Training R-sq is: 0.557\n",
      "Testing R-sq is: 0.546\n"
     ]
    }
   ],
   "source": [
    "# random forest\n",
    "model = RandomForestClassifier(max_depth=20,random_state=42,min_samples_leaf=5,n_estimators=10)\n",
    "model.fit(X_train_cvec,y_train)\n",
    "y_pred = model.predict(X_test_cvec)\n",
    "y_pred_train = model.predict(X_train_cvec)\n",
    "\n",
    "print(f'Training R-sq is: {model.score(X_train_cvec,y_train):.3f}')\n",
    "print(f'Testing R-sq is: {model.score(X_test_cvec,y_test):.3f}')"
   ]
  },
  {
   "cell_type": "markdown",
   "metadata": {},
   "source": [
    "### Analyze Results of Best Model"
   ]
  },
  {
   "cell_type": "code",
   "execution_count": 28,
   "metadata": {},
   "outputs": [],
   "source": [
    "# print confusion matrix\n",
    "# y_pred = lr.predict(X_test_cvec)\n",
    "# cm = confusion_matrix(y_test, y_pred)\n",
    "# cm_df = pd.DataFrame(cm, columns=['predict neg', 'predict pos'], index=['actual neg', 'actual pos'])\n",
    "# cm_df"
   ]
  },
  {
   "cell_type": "code",
   "execution_count": 55,
   "metadata": {},
   "outputs": [],
   "source": [
    "michael = pd.read_pickle('../data/hurricane_michael.pkl')"
   ]
  },
  {
   "cell_type": "code",
   "execution_count": 56,
   "metadata": {},
   "outputs": [
    {
     "data": {
      "text/plain": [
       "(50043, 11)"
      ]
     },
     "execution_count": 56,
     "metadata": {},
     "output_type": "execute_result"
    }
   ],
   "source": [
    "michael.shape"
   ]
  },
  {
   "cell_type": "code",
   "execution_count": 57,
   "metadata": {},
   "outputs": [
    {
     "data": {
      "text/html": [
       "<div>\n",
       "<style scoped>\n",
       "    .dataframe tbody tr th:only-of-type {\n",
       "        vertical-align: middle;\n",
       "    }\n",
       "\n",
       "    .dataframe tbody tr th {\n",
       "        vertical-align: top;\n",
       "    }\n",
       "\n",
       "    .dataframe thead th {\n",
       "        text-align: right;\n",
       "    }\n",
       "</style>\n",
       "<table border=\"1\" class=\"dataframe\">\n",
       "  <thead>\n",
       "    <tr style=\"text-align: right;\">\n",
       "      <th></th>\n",
       "      <th>date</th>\n",
       "      <th>favorites</th>\n",
       "      <th>geo</th>\n",
       "      <th>hashtags</th>\n",
       "      <th>id</th>\n",
       "      <th>mentions</th>\n",
       "      <th>permalink</th>\n",
       "      <th>retweets</th>\n",
       "      <th>text</th>\n",
       "      <th>to</th>\n",
       "      <th>username</th>\n",
       "    </tr>\n",
       "  </thead>\n",
       "  <tbody>\n",
       "    <tr>\n",
       "      <th>0</th>\n",
       "      <td>2018-10-12 23:59:57+00:00</td>\n",
       "      <td>4</td>\n",
       "      <td></td>\n",
       "      <td>#HurricaneMichael #blessed #UnitedWeStand #tal...</td>\n",
       "      <td>1050898900582838272</td>\n",
       "      <td>@COTNews</td>\n",
       "      <td>https://twitter.com/joeearenas/status/10508989...</td>\n",
       "      <td>0</td>\n",
       "      <td>@COTNews has been working 24/7 to restore serv...</td>\n",
       "      <td>None</td>\n",
       "      <td>joeearenas</td>\n",
       "    </tr>\n",
       "    <tr>\n",
       "      <th>1</th>\n",
       "      <td>2018-10-12 23:59:53+00:00</td>\n",
       "      <td>1</td>\n",
       "      <td></td>\n",
       "      <td></td>\n",
       "      <td>1050898882526371842</td>\n",
       "      <td></td>\n",
       "      <td>https://twitter.com/LakesideBexley/status/1050...</td>\n",
       "      <td>0</td>\n",
       "      <td>In the wake of Hurricane Michael, we understan...</td>\n",
       "      <td>None</td>\n",
       "      <td>LakesideBexley</td>\n",
       "    </tr>\n",
       "    <tr>\n",
       "      <th>2</th>\n",
       "      <td>2018-10-12 23:59:52+00:00</td>\n",
       "      <td>0</td>\n",
       "      <td></td>\n",
       "      <td>#HurricaneMichael #Florida</td>\n",
       "      <td>1050898882077442048</td>\n",
       "      <td></td>\n",
       "      <td>https://twitter.com/PRAISETRIUNEGOD/status/105...</td>\n",
       "      <td>0</td>\n",
       "      <td>Maybe 17 \" #HurricaneMichael Updates: Body Fou...</td>\n",
       "      <td>None</td>\n",
       "      <td>PRAISETRIUNEGOD</td>\n",
       "    </tr>\n",
       "    <tr>\n",
       "      <th>3</th>\n",
       "      <td>2018-10-12 23:59:49+00:00</td>\n",
       "      <td>0</td>\n",
       "      <td></td>\n",
       "      <td></td>\n",
       "      <td>1050898865988222976</td>\n",
       "      <td></td>\n",
       "      <td>https://twitter.com/aShartee/status/1050898865...</td>\n",
       "      <td>0</td>\n",
       "      <td>In other news praying for those affected by hu...</td>\n",
       "      <td>None</td>\n",
       "      <td>aShartee</td>\n",
       "    </tr>\n",
       "    <tr>\n",
       "      <th>4</th>\n",
       "      <td>2018-10-12 23:59:43+00:00</td>\n",
       "      <td>0</td>\n",
       "      <td></td>\n",
       "      <td>#HurricaneMichael #ExcessiveForce</td>\n",
       "      <td>1050898841879236608</td>\n",
       "      <td></td>\n",
       "      <td>https://twitter.com/MindOfMo/status/1050898841...</td>\n",
       "      <td>0</td>\n",
       "      <td>iSpy 2 or 3 who'd be hard-pressed to RUN in an...</td>\n",
       "      <td>CBSNews</td>\n",
       "      <td>MindOfMo</td>\n",
       "    </tr>\n",
       "  </tbody>\n",
       "</table>\n",
       "</div>"
      ],
      "text/plain": [
       "                       date  favorites geo  \\\n",
       "0 2018-10-12 23:59:57+00:00          4       \n",
       "1 2018-10-12 23:59:53+00:00          1       \n",
       "2 2018-10-12 23:59:52+00:00          0       \n",
       "3 2018-10-12 23:59:49+00:00          0       \n",
       "4 2018-10-12 23:59:43+00:00          0       \n",
       "\n",
       "                                            hashtags                   id  \\\n",
       "0  #HurricaneMichael #blessed #UnitedWeStand #tal...  1050898900582838272   \n",
       "1                                                     1050898882526371842   \n",
       "2                         #HurricaneMichael #Florida  1050898882077442048   \n",
       "3                                                     1050898865988222976   \n",
       "4                  #HurricaneMichael #ExcessiveForce  1050898841879236608   \n",
       "\n",
       "   mentions                                          permalink  retweets  \\\n",
       "0  @COTNews  https://twitter.com/joeearenas/status/10508989...         0   \n",
       "1            https://twitter.com/LakesideBexley/status/1050...         0   \n",
       "2            https://twitter.com/PRAISETRIUNEGOD/status/105...         0   \n",
       "3            https://twitter.com/aShartee/status/1050898865...         0   \n",
       "4            https://twitter.com/MindOfMo/status/1050898841...         0   \n",
       "\n",
       "                                                text       to         username  \n",
       "0  @COTNews has been working 24/7 to restore serv...     None       joeearenas  \n",
       "1  In the wake of Hurricane Michael, we understan...     None   LakesideBexley  \n",
       "2  Maybe 17 \" #HurricaneMichael Updates: Body Fou...     None  PRAISETRIUNEGOD  \n",
       "3  In other news praying for those affected by hu...     None         aShartee  \n",
       "4  iSpy 2 or 3 who'd be hard-pressed to RUN in an...  CBSNews         MindOfMo  "
      ]
     },
     "execution_count": 57,
     "metadata": {},
     "output_type": "execute_result"
    }
   ],
   "source": [
    "michael.head()"
   ]
  },
  {
   "cell_type": "code",
   "execution_count": 58,
   "metadata": {},
   "outputs": [],
   "source": [
    "# convert text to lower case\n",
    "michael['clean_text'] = michael['text'].str.lower()\n",
    "\n",
    "# remove URLs\n",
    "import re\n",
    "michael['clean_text'] = michael['clean_text'].apply(lambda x: re.split('https:\\/\\/.*', str(x))[0])\n",
    "\n",
    "#remove \"RT\" string\n",
    "michael['clean_text'] = michael['clean_text'].map(lambda x: x.lstrip('rt'))\n",
    "\n",
    "# #remove remaining punctuation except for \"#\"\n",
    "# michael['clean_text'] = michael['clean_text'].str.replace(\"[^a-zA-Z]\", \" \")"
   ]
  },
  {
   "cell_type": "code",
   "execution_count": 59,
   "metadata": {},
   "outputs": [],
   "source": [
    "# Transform out-of-event testing data with the already-fit CountVectorizer.\n",
    "michael_cvec = pd.DataFrame(cvec.transform(michael['clean_text']).todense(),\n",
    "                           columns = cvec.get_feature_names())\n"
   ]
  },
  {
   "cell_type": "code",
   "execution_count": 62,
   "metadata": {},
   "outputs": [],
   "source": [
    "michael['inform_pred'] = lr_model.predict(michael_cvec)"
   ]
  },
  {
   "cell_type": "code",
   "execution_count": 64,
   "metadata": {},
   "outputs": [
    {
     "data": {
      "text/plain": [
       "1.0    0.544092\n",
       "2.0    0.211418\n",
       "3.0    0.144156\n",
       "6.0    0.055073\n",
       "4.0    0.030154\n",
       "5.0    0.014847\n",
       "0.0    0.000260\n",
       "Name: inform_pred, dtype: float64"
      ]
     },
     "execution_count": 64,
     "metadata": {},
     "output_type": "execute_result"
    }
   ],
   "source": [
    "michael.inform_pred.value_counts(1)"
   ]
  },
  {
   "cell_type": "code",
   "execution_count": null,
   "metadata": {},
   "outputs": [],
   "source": [
    "# \"Casualties and damage\":1,\"Caution and advice\":2, \n",
    "#      \"Unknown\":3, \"Information Source\":4, \"Donations of money, goods or services\":5})"
   ]
  }
 ],
 "metadata": {
  "kernelspec": {
   "display_name": "Python 3",
   "language": "python",
   "name": "python3"
  },
  "language_info": {
   "codemirror_mode": {
    "name": "ipython",
    "version": 3
   },
   "file_extension": ".py",
   "mimetype": "text/x-python",
   "name": "python",
   "nbconvert_exporter": "python",
   "pygments_lexer": "ipython3",
   "version": "3.6.5"
  }
 },
 "nbformat": 4,
 "nbformat_minor": 2
}
