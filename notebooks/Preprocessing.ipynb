{
 "cells": [
  {
   "cell_type": "code",
   "execution_count": null,
   "metadata": {},
   "outputs": [],
   "source": [
    "#make tweets lowercase\n",
    "#run spell check\n",
    "#truncate elongations\n",
    "#spell out numbers\n",
    "#replace all usernames with 'USERID'\n",
    "#replace all URLs with HTTP\n",
    "#remove \"RT\" string\n",
    "#remove all punctuation marks except periods, semicolons, question and exclamation marks\n",
    "#NLTK TweetTokenizer"
   ]
  }
 ],
 "metadata": {
  "kernelspec": {
   "display_name": "Python 3",
   "language": "python",
   "name": "python3"
  },
  "language_info": {
   "codemirror_mode": {
    "name": "ipython",
    "version": 3
   },
   "file_extension": ".py",
   "mimetype": "text/x-python",
   "name": "python",
   "nbconvert_exporter": "python",
   "pygments_lexer": "ipython3",
   "version": "3.6.8"
  }
 },
 "nbformat": 4,
 "nbformat_minor": 2
}
