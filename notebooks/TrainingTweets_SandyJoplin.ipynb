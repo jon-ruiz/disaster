{
 "cells": [
  {
   "cell_type": "code",
   "execution_count": 1,
   "metadata": {},
   "outputs": [],
   "source": [
    "import pandas as pd"
   ]
  },
  {
   "cell_type": "code",
   "execution_count": 7,
   "metadata": {},
   "outputs": [],
   "source": [
    "joplin = pd.read_csv('../data/Joplin_2011_labeled_data/01_personal-informative-other/a131709.csv',\n",
    "                     index_col='_unit_id')"
   ]
  },
  {
   "cell_type": "code",
   "execution_count": 13,
   "metadata": {},
   "outputs": [
    {
     "data": {
      "text/html": [
       "<div>\n",
       "<style scoped>\n",
       "    .dataframe tbody tr th:only-of-type {\n",
       "        vertical-align: middle;\n",
       "    }\n",
       "\n",
       "    .dataframe tbody tr th {\n",
       "        vertical-align: top;\n",
       "    }\n",
       "\n",
       "    .dataframe thead th {\n",
       "        text-align: right;\n",
       "    }\n",
       "</style>\n",
       "<table border=\"1\" class=\"dataframe\">\n",
       "  <thead>\n",
       "    <tr style=\"text-align: right;\">\n",
       "      <th></th>\n",
       "      <th>_golden</th>\n",
       "      <th>_unit_state</th>\n",
       "      <th>_trusted_judgments</th>\n",
       "      <th>_last_judgment_at</th>\n",
       "      <th>choose_one</th>\n",
       "      <th>choose_one:confidence</th>\n",
       "      <th>choose_one_gold</th>\n",
       "      <th>predicted</th>\n",
       "      <th>text_no_rt</th>\n",
       "      <th>tweet</th>\n",
       "    </tr>\n",
       "    <tr>\n",
       "      <th>_unit_id</th>\n",
       "      <th></th>\n",
       "      <th></th>\n",
       "      <th></th>\n",
       "      <th></th>\n",
       "      <th></th>\n",
       "      <th></th>\n",
       "      <th></th>\n",
       "      <th></th>\n",
       "      <th></th>\n",
       "      <th></th>\n",
       "    </tr>\n",
       "  </thead>\n",
       "  <tbody>\n",
       "    <tr>\n",
       "      <th>204690712</th>\n",
       "      <td>False</td>\n",
       "      <td>finalized</td>\n",
       "      <td>4</td>\n",
       "      <td>10/6/2012 03:35:03</td>\n",
       "      <td>Informative (Direct or Indirect)</td>\n",
       "      <td>0.5133</td>\n",
       "      <td>NaN</td>\n",
       "      <td>Informative (Indirect)</td>\n",
       "      <td>Cruuuuud. Tornado warning for Denton County. A...</td>\n",
       "      <td>Cruuuuud. Tornado warning for Denton County. A...</td>\n",
       "    </tr>\n",
       "    <tr>\n",
       "      <th>204690713</th>\n",
       "      <td>True</td>\n",
       "      <td>golden</td>\n",
       "      <td>129</td>\n",
       "      <td>10/6/2012 03:25:33</td>\n",
       "      <td>Informative (Indirect)</td>\n",
       "      <td>0.4781</td>\n",
       "      <td>Informative (Indirect)</td>\n",
       "      <td>Informative (Indirect)</td>\n",
       "      <td>Tornado WARNING for Tarrant county. Storm spot...</td>\n",
       "      <td>Tornado WARNING for Tarrant county. Storm spot...</td>\n",
       "    </tr>\n",
       "    <tr>\n",
       "      <th>204690714</th>\n",
       "      <td>False</td>\n",
       "      <td>finalized</td>\n",
       "      <td>6</td>\n",
       "      <td>10/5/2012 09:43:16</td>\n",
       "      <td>Informative (Direct or Indirect)</td>\n",
       "      <td>1.0000</td>\n",
       "      <td>NaN</td>\n",
       "      <td>Informative (Indirect)</td>\n",
       "      <td>Tornado on the ground in Azle headed right tow...</td>\n",
       "      <td>RT @AmandaSalinas: Tornado on the ground in Az...</td>\n",
       "    </tr>\n",
       "    <tr>\n",
       "      <th>204690715</th>\n",
       "      <td>True</td>\n",
       "      <td>golden</td>\n",
       "      <td>125</td>\n",
       "      <td>10/6/2012 03:25:33</td>\n",
       "      <td>Informative (Indirect)</td>\n",
       "      <td>0.6346</td>\n",
       "      <td>Informative (Indirect)</td>\n",
       "      <td>Informative (Indirect)</td>\n",
       "      <td>US tornado toll rises to 122 (AFP) http://dlvr...</td>\n",
       "      <td>US tornado toll rises to 122 (AFP) http://dlvr...</td>\n",
       "    </tr>\n",
       "    <tr>\n",
       "      <th>204690716</th>\n",
       "      <td>False</td>\n",
       "      <td>finalized</td>\n",
       "      <td>3</td>\n",
       "      <td>10/6/2012 03:02:15</td>\n",
       "      <td>Informative (Indirect)</td>\n",
       "      <td>1.0000</td>\n",
       "      <td>NaN</td>\n",
       "      <td>Informative (Indirect)</td>\n",
       "      <td>US tornado toll rises to 122 (AFP) http://dlvr...</td>\n",
       "      <td>US tornado toll rises to 122 (AFP) http://dlvr...</td>\n",
       "    </tr>\n",
       "  </tbody>\n",
       "</table>\n",
       "</div>"
      ],
      "text/plain": [
       "           _golden _unit_state  _trusted_judgments   _last_judgment_at  \\\n",
       "_unit_id                                                                 \n",
       "204690712    False   finalized                   4  10/6/2012 03:35:03   \n",
       "204690713     True      golden                 129  10/6/2012 03:25:33   \n",
       "204690714    False   finalized                   6  10/5/2012 09:43:16   \n",
       "204690715     True      golden                 125  10/6/2012 03:25:33   \n",
       "204690716    False   finalized                   3  10/6/2012 03:02:15   \n",
       "\n",
       "                                 choose_one  choose_one:confidence  \\\n",
       "_unit_id                                                             \n",
       "204690712  Informative (Direct or Indirect)                 0.5133   \n",
       "204690713            Informative (Indirect)                 0.4781   \n",
       "204690714  Informative (Direct or Indirect)                 1.0000   \n",
       "204690715            Informative (Indirect)                 0.6346   \n",
       "204690716            Informative (Indirect)                 1.0000   \n",
       "\n",
       "                  choose_one_gold               predicted  \\\n",
       "_unit_id                                                    \n",
       "204690712                     NaN  Informative (Indirect)   \n",
       "204690713  Informative (Indirect)  Informative (Indirect)   \n",
       "204690714                     NaN  Informative (Indirect)   \n",
       "204690715  Informative (Indirect)  Informative (Indirect)   \n",
       "204690716                     NaN  Informative (Indirect)   \n",
       "\n",
       "                                                  text_no_rt  \\\n",
       "_unit_id                                                       \n",
       "204690712  Cruuuuud. Tornado warning for Denton County. A...   \n",
       "204690713  Tornado WARNING for Tarrant county. Storm spot...   \n",
       "204690714  Tornado on the ground in Azle headed right tow...   \n",
       "204690715  US tornado toll rises to 122 (AFP) http://dlvr...   \n",
       "204690716  US tornado toll rises to 122 (AFP) http://dlvr...   \n",
       "\n",
       "                                                       tweet  \n",
       "_unit_id                                                      \n",
       "204690712  Cruuuuud. Tornado warning for Denton County. A...  \n",
       "204690713  Tornado WARNING for Tarrant county. Storm spot...  \n",
       "204690714  RT @AmandaSalinas: Tornado on the ground in Az...  \n",
       "204690715  US tornado toll rises to 122 (AFP) http://dlvr...  \n",
       "204690716  US tornado toll rises to 122 (AFP) http://dlvr...  "
      ]
     },
     "execution_count": 13,
     "metadata": {},
     "output_type": "execute_result"
    }
   ],
   "source": [
    "joplin.head()"
   ]
  },
  {
   "cell_type": "code",
   "execution_count": 8,
   "metadata": {
    "scrolled": true
   },
   "outputs": [
    {
     "data": {
      "text/plain": [
       "Personal only                       794\n",
       "Informative (Direct or Indirect)    762\n",
       "Informative (Indirect)              469\n",
       "Informative (Direct)                265\n",
       "Other                                94\n",
       "Name: choose_one, dtype: int64"
      ]
     },
     "execution_count": 8,
     "metadata": {},
     "output_type": "execute_result"
    }
   ],
   "source": [
    "joplin.choose_one.value_counts()"
   ]
  },
  {
   "cell_type": "code",
   "execution_count": 18,
   "metadata": {},
   "outputs": [
    {
     "data": {
      "text/plain": [
       "Personal message          1055\n",
       "Informative (Direct)       790\n",
       "Informative (Indirect)     447\n",
       "Other                       91\n",
       "Name: predicted, dtype: int64"
      ]
     },
     "execution_count": 18,
     "metadata": {},
     "output_type": "execute_result"
    }
   ],
   "source": [
    "joplin.predicted.value_counts()"
   ]
  },
  {
   "cell_type": "code",
   "execution_count": 19,
   "metadata": {},
   "outputs": [],
   "source": [
    "joplin['event'] = 'joplin'"
   ]
  },
  {
   "cell_type": "code",
   "execution_count": 17,
   "metadata": {},
   "outputs": [
    {
     "data": {
      "text/plain": [
       "204693117"
      ]
     },
     "execution_count": 17,
     "metadata": {},
     "output_type": "execute_result"
    }
   ],
   "source": [
    "max(joplin.index)"
   ]
  },
  {
   "cell_type": "code",
   "execution_count": 9,
   "metadata": {},
   "outputs": [],
   "source": [
    "joplin2 = pd.read_csv('../data/Joplin_2011_labeled_data/02_informative_caution-infosrc-donation-damage-other/a121571.csv',\n",
    "                  index_col='_unit_id')"
   ]
  },
  {
   "cell_type": "code",
   "execution_count": 14,
   "metadata": {},
   "outputs": [
    {
     "data": {
      "text/plain": [
       "191082764"
      ]
     },
     "execution_count": 14,
     "metadata": {},
     "output_type": "execute_result"
    }
   ],
   "source": [
    "min(joplin2.index)"
   ]
  },
  {
   "cell_type": "code",
   "execution_count": 15,
   "metadata": {},
   "outputs": [
    {
     "data": {
      "text/plain": [
       "191083996"
      ]
     },
     "execution_count": 15,
     "metadata": {},
     "output_type": "execute_result"
    }
   ],
   "source": [
    "max(joplin2.index)"
   ]
  },
  {
   "cell_type": "code",
   "execution_count": 10,
   "metadata": {},
   "outputs": [
    {
     "data": {
      "text/html": [
       "<div>\n",
       "<style scoped>\n",
       "    .dataframe tbody tr th:only-of-type {\n",
       "        vertical-align: middle;\n",
       "    }\n",
       "\n",
       "    .dataframe tbody tr th {\n",
       "        vertical-align: top;\n",
       "    }\n",
       "\n",
       "    .dataframe thead th {\n",
       "        text-align: right;\n",
       "    }\n",
       "</style>\n",
       "<table border=\"1\" class=\"dataframe\">\n",
       "  <thead>\n",
       "    <tr style=\"text-align: right;\">\n",
       "      <th></th>\n",
       "      <th>_golden</th>\n",
       "      <th>_unit_state</th>\n",
       "      <th>_trusted_judgments</th>\n",
       "      <th>_last_judgment_at</th>\n",
       "      <th>choose_one</th>\n",
       "      <th>choose_one:confidence</th>\n",
       "      <th>choose_one_gold</th>\n",
       "      <th>id</th>\n",
       "      <th>retweetcount</th>\n",
       "      <th>screenname</th>\n",
       "      <th>text</th>\n",
       "      <th>userid</th>\n",
       "    </tr>\n",
       "    <tr>\n",
       "      <th>_unit_id</th>\n",
       "      <th></th>\n",
       "      <th></th>\n",
       "      <th></th>\n",
       "      <th></th>\n",
       "      <th></th>\n",
       "      <th></th>\n",
       "      <th></th>\n",
       "      <th></th>\n",
       "      <th></th>\n",
       "      <th></th>\n",
       "      <th></th>\n",
       "      <th></th>\n",
       "    </tr>\n",
       "  </thead>\n",
       "  <tbody>\n",
       "    <tr>\n",
       "      <th>191082764</th>\n",
       "      <td>False</td>\n",
       "      <td>finalized</td>\n",
       "      <td>3</td>\n",
       "      <td>8/12/2012 13:24:55</td>\n",
       "      <td>Caution and advice</td>\n",
       "      <td>1.0000</td>\n",
       "      <td>NaN</td>\n",
       "      <td>74943468706873200</td>\n",
       "      <td>0.0</td>\n",
       "      <td>1stJoshRobinson</td>\n",
       "      <td>Yesterday was supposed to be 70 and sunny/cold...</td>\n",
       "      <td>85940638.0</td>\n",
       "    </tr>\n",
       "    <tr>\n",
       "      <th>191082765</th>\n",
       "      <td>False</td>\n",
       "      <td>finalized</td>\n",
       "      <td>4</td>\n",
       "      <td>8/12/2012 13:38:35</td>\n",
       "      <td>Information source</td>\n",
       "      <td>0.4896</td>\n",
       "      <td>NaN</td>\n",
       "      <td>74301096193040304</td>\n",
       "      <td>0.0</td>\n",
       "      <td>jenr8rluvsJesus</td>\n",
       "      <td>@fox12weather re: tornado. I live in Vancouver...</td>\n",
       "      <td>46529360.0</td>\n",
       "    </tr>\n",
       "    <tr>\n",
       "      <th>191082766</th>\n",
       "      <td>False</td>\n",
       "      <td>finalized</td>\n",
       "      <td>3</td>\n",
       "      <td>8/12/2012 13:29:09</td>\n",
       "      <td>Donations of money, goods or services</td>\n",
       "      <td>1.0000</td>\n",
       "      <td>NaN</td>\n",
       "      <td>77764430137536400</td>\n",
       "      <td>1.0</td>\n",
       "      <td>ABC_Plastics</td>\n",
       "      <td>@TippingPointSEO: please follow my friends @R...</td>\n",
       "      <td>145273867.0</td>\n",
       "    </tr>\n",
       "    <tr>\n",
       "      <th>191082767</th>\n",
       "      <td>False</td>\n",
       "      <td>finalized</td>\n",
       "      <td>3</td>\n",
       "      <td>8/12/2012 13:36:39</td>\n",
       "      <td>Casualties and damage</td>\n",
       "      <td>1.0000</td>\n",
       "      <td>NaN</td>\n",
       "      <td>77449750374395904</td>\n",
       "      <td>2.0</td>\n",
       "      <td>IvanTheTurrible</td>\n",
       "      <td>My house was blown away by a tornado, but a fa...</td>\n",
       "      <td>33371804.0</td>\n",
       "    </tr>\n",
       "    <tr>\n",
       "      <th>191082768</th>\n",
       "      <td>False</td>\n",
       "      <td>finalized</td>\n",
       "      <td>3</td>\n",
       "      <td>8/12/2012 13:11:03</td>\n",
       "      <td>Caution and advice</td>\n",
       "      <td>0.6423</td>\n",
       "      <td>NaN</td>\n",
       "      <td>76134461049274304</td>\n",
       "      <td>0.0</td>\n",
       "      <td>BadAssNigerian</td>\n",
       "      <td>@Juss2Live: News was goin crazy about tornado...</td>\n",
       "      <td>50420551.0</td>\n",
       "    </tr>\n",
       "  </tbody>\n",
       "</table>\n",
       "</div>"
      ],
      "text/plain": [
       "           _golden _unit_state  _trusted_judgments   _last_judgment_at  \\\n",
       "_unit_id                                                                 \n",
       "191082764    False   finalized                   3  8/12/2012 13:24:55   \n",
       "191082765    False   finalized                   4  8/12/2012 13:38:35   \n",
       "191082766    False   finalized                   3  8/12/2012 13:29:09   \n",
       "191082767    False   finalized                   3  8/12/2012 13:36:39   \n",
       "191082768    False   finalized                   3  8/12/2012 13:11:03   \n",
       "\n",
       "                                      choose_one  choose_one:confidence  \\\n",
       "_unit_id                                                                  \n",
       "191082764                     Caution and advice                 1.0000   \n",
       "191082765                     Information source                 0.4896   \n",
       "191082766  Donations of money, goods or services                 1.0000   \n",
       "191082767                  Casualties and damage                 1.0000   \n",
       "191082768                     Caution and advice                 0.6423   \n",
       "\n",
       "          choose_one_gold                 id  retweetcount       screenname  \\\n",
       "_unit_id                                                                      \n",
       "191082764             NaN  74943468706873200           0.0  1stJoshRobinson   \n",
       "191082765             NaN  74301096193040304           0.0  jenr8rluvsJesus   \n",
       "191082766             NaN  77764430137536400           1.0     ABC_Plastics   \n",
       "191082767             NaN  77449750374395904           2.0  IvanTheTurrible   \n",
       "191082768             NaN  76134461049274304           0.0   BadAssNigerian   \n",
       "\n",
       "                                                        text       userid  \n",
       "_unit_id                                                                   \n",
       "191082764  Yesterday was supposed to be 70 and sunny/cold...   85940638.0  \n",
       "191082765  @fox12weather re: tornado. I live in Vancouver...   46529360.0  \n",
       "191082766   @TippingPointSEO: please follow my friends @R...  145273867.0  \n",
       "191082767  My house was blown away by a tornado, but a fa...   33371804.0  \n",
       "191082768   @Juss2Live: News was goin crazy about tornado...   50420551.0  "
      ]
     },
     "execution_count": 10,
     "metadata": {},
     "output_type": "execute_result"
    }
   ],
   "source": [
    "joplin2.head()"
   ]
  },
  {
   "cell_type": "code",
   "execution_count": 12,
   "metadata": {},
   "outputs": [
    {
     "name": "stdout",
     "output_type": "stream",
     "text": [
      "<class 'pandas.core.frame.DataFrame'>\n",
      "Int64Index: 1233 entries, 191082764 to 191083996\n",
      "Data columns (total 12 columns):\n",
      "_golden                  1233 non-null bool\n",
      "_unit_state              1233 non-null object\n",
      "_trusted_judgments       1233 non-null int64\n",
      "_last_judgment_at        1233 non-null object\n",
      "choose_one               1233 non-null object\n",
      "choose_one:confidence    1233 non-null float64\n",
      "choose_one_gold          62 non-null object\n",
      "id                       1233 non-null int64\n",
      "retweetcount             649 non-null float64\n",
      "screenname               1221 non-null object\n",
      "text                     1233 non-null object\n",
      "userid                   1221 non-null float64\n",
      "dtypes: bool(1), float64(3), int64(2), object(6)\n",
      "memory usage: 116.8+ KB\n"
     ]
    }
   ],
   "source": [
    "joplin2.info()"
   ]
  },
  {
   "cell_type": "code",
   "execution_count": 20,
   "metadata": {},
   "outputs": [],
   "source": [
    "sandy = pd.read_csv('../data/sandy2012_labeled_data/01_personal-informative-other/a143145.csv',\n",
    "                  index_col='_unit_id')"
   ]
  },
  {
   "cell_type": "code",
   "execution_count": 21,
   "metadata": {},
   "outputs": [
    {
     "data": {
      "text/plain": [
       "(1000, 11)"
      ]
     },
     "execution_count": 21,
     "metadata": {},
     "output_type": "execute_result"
    }
   ],
   "source": [
    "sandy.shape"
   ]
  },
  {
   "cell_type": "code",
   "execution_count": 29,
   "metadata": {},
   "outputs": [
    {
     "name": "stdout",
     "output_type": "stream",
     "text": [
      "<class 'pandas.core.frame.DataFrame'>\n",
      "Int64Index: 1000 entries, 221934923 to 221941939\n",
      "Data columns (total 12 columns):\n",
      "_golden                  1000 non-null bool\n",
      "_unit_state              1000 non-null object\n",
      "_trusted_judgments       1000 non-null int64\n",
      "_last_judgment_at        1000 non-null object\n",
      "choose_one               1000 non-null object\n",
      "choose_one:confidence    1000 non-null float64\n",
      "choose_one_gold          51 non-null object\n",
      "nil                      1 non-null object\n",
      "text_no_rt               1000 non-null object\n",
      "tweet                    1000 non-null object\n",
      "user                     1000 non-null object\n",
      "event                    1000 non-null object\n",
      "dtypes: bool(1), float64(1), int64(1), object(9)\n",
      "memory usage: 94.7+ KB\n"
     ]
    }
   ],
   "source": [
    "sandy.info()"
   ]
  },
  {
   "cell_type": "code",
   "execution_count": 11,
   "metadata": {},
   "outputs": [
    {
     "name": "stdout",
     "output_type": "stream",
     "text": [
      "<class 'pandas.core.frame.DataFrame'>\n",
      "Int64Index: 2384 entries, 204690712 to 204693117\n",
      "Data columns (total 10 columns):\n",
      "_golden                  2384 non-null bool\n",
      "_unit_state              2384 non-null object\n",
      "_trusted_judgments       2384 non-null int64\n",
      "_last_judgment_at        2384 non-null object\n",
      "choose_one               2384 non-null object\n",
      "choose_one:confidence    2384 non-null float64\n",
      "choose_one_gold          78 non-null object\n",
      "predicted                2383 non-null object\n",
      "text_no_rt               2384 non-null object\n",
      "tweet                    2384 non-null object\n",
      "dtypes: bool(1), float64(1), int64(1), object(7)\n",
      "memory usage: 188.6+ KB\n"
     ]
    }
   ],
   "source": [
    "joplin.info()"
   ]
  },
  {
   "cell_type": "code",
   "execution_count": 22,
   "metadata": {},
   "outputs": [],
   "source": [
    "sandy['event'] = 'sandy'"
   ]
  },
  {
   "cell_type": "code",
   "execution_count": 26,
   "metadata": {
    "scrolled": true
   },
   "outputs": [
    {
     "name": "stderr",
     "output_type": "stream",
     "text": [
      "C:\\Users\\pauls\\Anaconda3\\envs\\dsi\\lib\\site-packages\\ipykernel_launcher.py:1: FutureWarning: Sorting because non-concatenation axis is not aligned. A future version\n",
      "of pandas will change to not sort by default.\n",
      "\n",
      "To accept the future behavior, pass 'sort=True'.\n",
      "\n",
      "To retain the current behavior and silence the warning, pass sort=False\n",
      "\n",
      "  \"\"\"Entry point for launching an IPython kernel.\n"
     ]
    }
   ],
   "source": [
    "train2 = pd.concat([joplin,sandy], axis=0)"
   ]
  },
  {
   "cell_type": "code",
   "execution_count": 27,
   "metadata": {},
   "outputs": [
    {
     "data": {
      "text/plain": [
       "(3384, 13)"
      ]
     },
     "execution_count": 27,
     "metadata": {},
     "output_type": "execute_result"
    }
   ],
   "source": [
    "train2.shape"
   ]
  },
  {
   "cell_type": "code",
   "execution_count": 32,
   "metadata": {},
   "outputs": [],
   "source": [
    "import numpy as np"
   ]
  },
  {
   "cell_type": "code",
   "execution_count": 43,
   "metadata": {},
   "outputs": [],
   "source": [
    "train2['informative'] = train2['choose_one'].map(lambda x: 1 if \"Informative\" in x else 0 )"
   ]
  },
  {
   "cell_type": "code",
   "execution_count": 45,
   "metadata": {},
   "outputs": [
    {
     "data": {
      "text/plain": [
       "1    2039\n",
       "0    1345\n",
       "Name: informative, dtype: int64"
      ]
     },
     "execution_count": 45,
     "metadata": {},
     "output_type": "execute_result"
    }
   ],
   "source": [
    "train2.informative.value_counts()"
   ]
  },
  {
   "cell_type": "code",
   "execution_count": 30,
   "metadata": {},
   "outputs": [
    {
     "data": {
      "text/plain": [
       "Informative (Indirect)              855\n",
       "Informative (Direct or Indirect)    841\n",
       "Personal only                       794\n",
       "Informative (Direct)                343\n",
       "Personal Only                       296\n",
       "Other                               255\n",
       "Name: choose_one, dtype: int64"
      ]
     },
     "execution_count": 30,
     "metadata": {},
     "output_type": "execute_result"
    }
   ],
   "source": [
    "train2.choose_one.value_counts()"
   ]
  },
  {
   "cell_type": "code",
   "execution_count": 28,
   "metadata": {},
   "outputs": [
    {
     "data": {
      "text/html": [
       "<div>\n",
       "<style scoped>\n",
       "    .dataframe tbody tr th:only-of-type {\n",
       "        vertical-align: middle;\n",
       "    }\n",
       "\n",
       "    .dataframe tbody tr th {\n",
       "        vertical-align: top;\n",
       "    }\n",
       "\n",
       "    .dataframe thead th {\n",
       "        text-align: right;\n",
       "    }\n",
       "</style>\n",
       "<table border=\"1\" class=\"dataframe\">\n",
       "  <thead>\n",
       "    <tr style=\"text-align: right;\">\n",
       "      <th></th>\n",
       "      <th>_golden</th>\n",
       "      <th>_last_judgment_at</th>\n",
       "      <th>_trusted_judgments</th>\n",
       "      <th>_unit_state</th>\n",
       "      <th>choose_one</th>\n",
       "      <th>choose_one:confidence</th>\n",
       "      <th>choose_one_gold</th>\n",
       "      <th>event</th>\n",
       "      <th>nil</th>\n",
       "      <th>predicted</th>\n",
       "      <th>text_no_rt</th>\n",
       "      <th>tweet</th>\n",
       "      <th>user</th>\n",
       "    </tr>\n",
       "    <tr>\n",
       "      <th>_unit_id</th>\n",
       "      <th></th>\n",
       "      <th></th>\n",
       "      <th></th>\n",
       "      <th></th>\n",
       "      <th></th>\n",
       "      <th></th>\n",
       "      <th></th>\n",
       "      <th></th>\n",
       "      <th></th>\n",
       "      <th></th>\n",
       "      <th></th>\n",
       "      <th></th>\n",
       "      <th></th>\n",
       "    </tr>\n",
       "  </thead>\n",
       "  <tbody>\n",
       "    <tr>\n",
       "      <th>204690712</th>\n",
       "      <td>False</td>\n",
       "      <td>10/6/2012 03:35:03</td>\n",
       "      <td>4</td>\n",
       "      <td>finalized</td>\n",
       "      <td>Informative (Direct or Indirect)</td>\n",
       "      <td>0.5133</td>\n",
       "      <td>NaN</td>\n",
       "      <td>joplin</td>\n",
       "      <td>NaN</td>\n",
       "      <td>Informative (Indirect)</td>\n",
       "      <td>Cruuuuud. Tornado warning for Denton County. A...</td>\n",
       "      <td>Cruuuuud. Tornado warning for Denton County. A...</td>\n",
       "      <td>NaN</td>\n",
       "    </tr>\n",
       "    <tr>\n",
       "      <th>204690713</th>\n",
       "      <td>True</td>\n",
       "      <td>10/6/2012 03:25:33</td>\n",
       "      <td>129</td>\n",
       "      <td>golden</td>\n",
       "      <td>Informative (Indirect)</td>\n",
       "      <td>0.4781</td>\n",
       "      <td>Informative (Indirect)</td>\n",
       "      <td>joplin</td>\n",
       "      <td>NaN</td>\n",
       "      <td>Informative (Indirect)</td>\n",
       "      <td>Tornado WARNING for Tarrant county. Storm spot...</td>\n",
       "      <td>Tornado WARNING for Tarrant county. Storm spot...</td>\n",
       "      <td>NaN</td>\n",
       "    </tr>\n",
       "    <tr>\n",
       "      <th>204690714</th>\n",
       "      <td>False</td>\n",
       "      <td>10/5/2012 09:43:16</td>\n",
       "      <td>6</td>\n",
       "      <td>finalized</td>\n",
       "      <td>Informative (Direct or Indirect)</td>\n",
       "      <td>1.0000</td>\n",
       "      <td>NaN</td>\n",
       "      <td>joplin</td>\n",
       "      <td>NaN</td>\n",
       "      <td>Informative (Indirect)</td>\n",
       "      <td>Tornado on the ground in Azle headed right tow...</td>\n",
       "      <td>RT @AmandaSalinas: Tornado on the ground in Az...</td>\n",
       "      <td>NaN</td>\n",
       "    </tr>\n",
       "    <tr>\n",
       "      <th>204690715</th>\n",
       "      <td>True</td>\n",
       "      <td>10/6/2012 03:25:33</td>\n",
       "      <td>125</td>\n",
       "      <td>golden</td>\n",
       "      <td>Informative (Indirect)</td>\n",
       "      <td>0.6346</td>\n",
       "      <td>Informative (Indirect)</td>\n",
       "      <td>joplin</td>\n",
       "      <td>NaN</td>\n",
       "      <td>Informative (Indirect)</td>\n",
       "      <td>US tornado toll rises to 122 (AFP) http://dlvr...</td>\n",
       "      <td>US tornado toll rises to 122 (AFP) http://dlvr...</td>\n",
       "      <td>NaN</td>\n",
       "    </tr>\n",
       "    <tr>\n",
       "      <th>204690716</th>\n",
       "      <td>False</td>\n",
       "      <td>10/6/2012 03:02:15</td>\n",
       "      <td>3</td>\n",
       "      <td>finalized</td>\n",
       "      <td>Informative (Indirect)</td>\n",
       "      <td>1.0000</td>\n",
       "      <td>NaN</td>\n",
       "      <td>joplin</td>\n",
       "      <td>NaN</td>\n",
       "      <td>Informative (Indirect)</td>\n",
       "      <td>US tornado toll rises to 122 (AFP) http://dlvr...</td>\n",
       "      <td>US tornado toll rises to 122 (AFP) http://dlvr...</td>\n",
       "      <td>NaN</td>\n",
       "    </tr>\n",
       "  </tbody>\n",
       "</table>\n",
       "</div>"
      ],
      "text/plain": [
       "           _golden   _last_judgment_at  _trusted_judgments _unit_state  \\\n",
       "_unit_id                                                                 \n",
       "204690712    False  10/6/2012 03:35:03                   4   finalized   \n",
       "204690713     True  10/6/2012 03:25:33                 129      golden   \n",
       "204690714    False  10/5/2012 09:43:16                   6   finalized   \n",
       "204690715     True  10/6/2012 03:25:33                 125      golden   \n",
       "204690716    False  10/6/2012 03:02:15                   3   finalized   \n",
       "\n",
       "                                 choose_one  choose_one:confidence  \\\n",
       "_unit_id                                                             \n",
       "204690712  Informative (Direct or Indirect)                 0.5133   \n",
       "204690713            Informative (Indirect)                 0.4781   \n",
       "204690714  Informative (Direct or Indirect)                 1.0000   \n",
       "204690715            Informative (Indirect)                 0.6346   \n",
       "204690716            Informative (Indirect)                 1.0000   \n",
       "\n",
       "                  choose_one_gold   event  nil               predicted  \\\n",
       "_unit_id                                                                 \n",
       "204690712                     NaN  joplin  NaN  Informative (Indirect)   \n",
       "204690713  Informative (Indirect)  joplin  NaN  Informative (Indirect)   \n",
       "204690714                     NaN  joplin  NaN  Informative (Indirect)   \n",
       "204690715  Informative (Indirect)  joplin  NaN  Informative (Indirect)   \n",
       "204690716                     NaN  joplin  NaN  Informative (Indirect)   \n",
       "\n",
       "                                                  text_no_rt  \\\n",
       "_unit_id                                                       \n",
       "204690712  Cruuuuud. Tornado warning for Denton County. A...   \n",
       "204690713  Tornado WARNING for Tarrant county. Storm spot...   \n",
       "204690714  Tornado on the ground in Azle headed right tow...   \n",
       "204690715  US tornado toll rises to 122 (AFP) http://dlvr...   \n",
       "204690716  US tornado toll rises to 122 (AFP) http://dlvr...   \n",
       "\n",
       "                                                       tweet user  \n",
       "_unit_id                                                           \n",
       "204690712  Cruuuuud. Tornado warning for Denton County. A...  NaN  \n",
       "204690713  Tornado WARNING for Tarrant county. Storm spot...  NaN  \n",
       "204690714  RT @AmandaSalinas: Tornado on the ground in Az...  NaN  \n",
       "204690715  US tornado toll rises to 122 (AFP) http://dlvr...  NaN  \n",
       "204690716  US tornado toll rises to 122 (AFP) http://dlvr...  NaN  "
      ]
     },
     "execution_count": 28,
     "metadata": {},
     "output_type": "execute_result"
    }
   ],
   "source": [
    "train2.head()"
   ]
  },
  {
   "cell_type": "code",
   "execution_count": 50,
   "metadata": {},
   "outputs": [],
   "source": [
    "train2.to_pickle('../data/train2.pkl')"
   ]
  }
 ],
 "metadata": {
  "kernelspec": {
   "display_name": "Python 3",
   "language": "python",
   "name": "python3"
  },
  "language_info": {
   "codemirror_mode": {
    "name": "ipython",
    "version": 3
   },
   "file_extension": ".py",
   "mimetype": "text/x-python",
   "name": "python",
   "nbconvert_exporter": "python",
   "pygments_lexer": "ipython3",
   "version": "3.6.5"
  }
 },
 "nbformat": 4,
 "nbformat_minor": 2
}
