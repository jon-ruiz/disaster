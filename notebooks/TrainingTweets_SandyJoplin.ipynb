{
 "cells": [
  {
   "cell_type": "code",
   "execution_count": 1,
   "metadata": {},
   "outputs": [],
   "source": [
    "import pandas as pd"
   ]
  },
  {
   "cell_type": "code",
   "execution_count": 2,
   "metadata": {},
   "outputs": [],
   "source": [
    "joplin = pd.read_csv('../data/Joplin_2011_labeled_data/01_personal-informative-other/a131709.csv',\n",
    "                     index_col='_unit_id')"
   ]
  },
  {
   "cell_type": "code",
   "execution_count": 6,
   "metadata": {
    "scrolled": true
   },
   "outputs": [
    {
     "data": {
      "text/plain": [
       "Personal only                       794\n",
       "Informative (Direct or Indirect)    762\n",
       "Informative (Indirect)              469\n",
       "Informative (Direct)                265\n",
       "Other                                94\n",
       "Name: choose_one, dtype: int64"
      ]
     },
     "execution_count": 6,
     "metadata": {},
     "output_type": "execute_result"
    }
   ],
   "source": [
    "joplin.choose_one.value_counts()"
   ]
  },
  {
   "cell_type": "code",
   "execution_count": 19,
   "metadata": {},
   "outputs": [],
   "source": [
    "joplin['event'] = 'joplin'"
   ]
  },
  {
   "cell_type": "code",
   "execution_count": 7,
   "metadata": {},
   "outputs": [],
   "source": [
    "joplin2 = pd.read_csv('../data/Joplin_2011_labeled_data/02_informative_caution-infosrc-donation-damage-other/a121571.csv',\n",
    "                  index_col='_unit_id')"
   ]
  },
  {
   "cell_type": "code",
   "execution_count": 8,
   "metadata": {},
   "outputs": [
    {
     "data": {
      "text/plain": [
       "Caution and advice                       436\n",
       "Information source                       280\n",
       "Donations of money, goods or services    204\n",
       "Casualties and damage                    137\n",
       "Unknown                                  130\n",
       "People missing, found or seen             46\n",
       "Name: choose_one, dtype: int64"
      ]
     },
     "execution_count": 8,
     "metadata": {},
     "output_type": "execute_result"
    }
   ],
   "source": [
    "joplin2.choose_one.value_counts()"
   ]
  },
  {
   "cell_type": "code",
   "execution_count": 9,
   "metadata": {},
   "outputs": [],
   "source": [
    "sandy = pd.read_csv('../data/sandy2012_labeled_data/01_personal-informative-other/a143145.csv',\n",
    "                  index_col='_unit_id')"
   ]
  },
  {
   "cell_type": "code",
   "execution_count": 10,
   "metadata": {},
   "outputs": [
    {
     "data": {
      "text/plain": [
       "(1000, 11)"
      ]
     },
     "execution_count": 10,
     "metadata": {},
     "output_type": "execute_result"
    }
   ],
   "source": [
    "sandy.shape"
   ]
  },
  {
   "cell_type": "code",
   "execution_count": 29,
   "metadata": {},
   "outputs": [
    {
     "name": "stdout",
     "output_type": "stream",
     "text": [
      "<class 'pandas.core.frame.DataFrame'>\n",
      "Int64Index: 1000 entries, 221934923 to 221941939\n",
      "Data columns (total 12 columns):\n",
      "_golden                  1000 non-null bool\n",
      "_unit_state              1000 non-null object\n",
      "_trusted_judgments       1000 non-null int64\n",
      "_last_judgment_at        1000 non-null object\n",
      "choose_one               1000 non-null object\n",
      "choose_one:confidence    1000 non-null float64\n",
      "choose_one_gold          51 non-null object\n",
      "nil                      1 non-null object\n",
      "text_no_rt               1000 non-null object\n",
      "tweet                    1000 non-null object\n",
      "user                     1000 non-null object\n",
      "event                    1000 non-null object\n",
      "dtypes: bool(1), float64(1), int64(1), object(9)\n",
      "memory usage: 94.7+ KB\n"
     ]
    }
   ],
   "source": [
    "sandy.info()"
   ]
  },
  {
   "cell_type": "code",
   "execution_count": 11,
   "metadata": {},
   "outputs": [],
   "source": [
    "sandy2 = pd.read_csv('../data/sandy2012_labeled_data/02_informative_caution-infosrc-donation-damage-other/a144267.csv',\n",
    "                  index_col='_unit_id')"
   ]
  },
  {
   "cell_type": "code",
   "execution_count": 13,
   "metadata": {},
   "outputs": [
    {
     "data": {
      "text/plain": [
       "Casualties and damage                    170\n",
       "Caution and advice                       144\n",
       "Unknown                                  125\n",
       "Information Source                        72\n",
       "Donations of money, goods or services     32\n",
       "Name: choose_one, dtype: int64"
      ]
     },
     "execution_count": 13,
     "metadata": {},
     "output_type": "execute_result"
    }
   ],
   "source": [
    "sandy2.choose_one.value_counts()"
   ]
  },
  {
   "cell_type": "code",
   "execution_count": 39,
   "metadata": {},
   "outputs": [
    {
     "name": "stdout",
     "output_type": "stream",
     "text": [
      "<class 'pandas.core.frame.DataFrame'>\n",
      "Int64Index: 543 entries, 223607030 to 223607572\n",
      "Data columns (total 11 columns):\n",
      "_golden                  543 non-null bool\n",
      "_unit_state              543 non-null object\n",
      "_trusted_judgments       543 non-null int64\n",
      "_last_judgment_at        543 non-null object\n",
      "category                 543 non-null object\n",
      "choose_one:confidence    543 non-null float64\n",
      "choose_one_gold          41 non-null object\n",
      "text_no_rt               543 non-null object\n",
      "tweet                    543 non-null object\n",
      "type                     543 non-null object\n",
      "user                     543 non-null object\n",
      "dtypes: bool(1), float64(1), int64(1), object(8)\n",
      "memory usage: 47.2+ KB\n"
     ]
    }
   ],
   "source": [
    "sandy2.info()"
   ]
  },
  {
   "cell_type": "code",
   "execution_count": 20,
   "metadata": {},
   "outputs": [
    {
     "name": "stdout",
     "output_type": "stream",
     "text": [
      "<class 'pandas.core.frame.DataFrame'>\n",
      "Int64Index: 1000 entries, 221934923 to 221941939\n",
      "Data columns (total 11 columns):\n",
      "_golden                  1000 non-null bool\n",
      "_unit_state              1000 non-null object\n",
      "_trusted_judgments       1000 non-null int64\n",
      "_last_judgment_at        1000 non-null object\n",
      "choose_one               1000 non-null object\n",
      "choose_one:confidence    1000 non-null float64\n",
      "choose_one_gold          51 non-null object\n",
      "nil                      1 non-null object\n",
      "text_no_rt               1000 non-null object\n",
      "tweet                    1000 non-null object\n",
      "user                     1000 non-null object\n",
      "dtypes: bool(1), float64(1), int64(1), object(8)\n",
      "memory usage: 86.9+ KB\n"
     ]
    }
   ],
   "source": [
    "sandy.info()"
   ]
  },
  {
   "cell_type": "code",
   "execution_count": 28,
   "metadata": {},
   "outputs": [
    {
     "data": {
      "text/plain": [
       "Informative (Indirect)              386\n",
       "Personal Only                       296\n",
       "Other                               161\n",
       "Informative (Direct or Indirect)     79\n",
       "Informative (Direct)                 78\n",
       "Name: choose_one, dtype: int64"
      ]
     },
     "execution_count": 28,
     "metadata": {},
     "output_type": "execute_result"
    }
   ],
   "source": [
    "sandy['choose_one'].value_counts()"
   ]
  },
  {
   "cell_type": "code",
   "execution_count": 21,
   "metadata": {},
   "outputs": [],
   "source": [
    "sandy2.rename(columns={'choose_one':'category'}, \n",
    "                 inplace=True)"
   ]
  },
  {
   "cell_type": "code",
   "execution_count": 46,
   "metadata": {},
   "outputs": [],
   "source": [
    "mask = ((sandy['choose_one'] == 'Personal Only') | (sandy['choose_one'] == 'Other'))\n",
    "\n",
    "uninf = sandy[mask]"
   ]
  },
  {
   "cell_type": "code",
   "execution_count": 48,
   "metadata": {},
   "outputs": [
    {
     "data": {
      "text/plain": [
       "(457, 11)"
      ]
     },
     "execution_count": 48,
     "metadata": {},
     "output_type": "execute_result"
    }
   ],
   "source": [
    "uninf.shape"
   ]
  },
  {
   "cell_type": "code",
   "execution_count": 23,
   "metadata": {},
   "outputs": [
    {
     "data": {
      "text/plain": [
       "Index(['_golden', '_unit_state', '_trusted_judgments', '_last_judgment_at',\n",
       "       'category', 'choose_one:confidence', 'choose_one_gold', 'text_no_rt',\n",
       "       'tweet', 'type', 'user'],\n",
       "      dtype='object')"
      ]
     },
     "execution_count": 23,
     "metadata": {},
     "output_type": "execute_result"
    }
   ],
   "source": [
    "sandy2.columns"
   ]
  },
  {
   "cell_type": "code",
   "execution_count": 49,
   "metadata": {
    "scrolled": true
   },
   "outputs": [
    {
     "name": "stderr",
     "output_type": "stream",
     "text": [
      "C:\\Users\\pauls\\Anaconda3\\envs\\dsi\\lib\\site-packages\\ipykernel_launcher.py:1: FutureWarning: Sorting because non-concatenation axis is not aligned. A future version\n",
      "of pandas will change to not sort by default.\n",
      "\n",
      "To accept the future behavior, pass 'sort=False'.\n",
      "\n",
      "To retain the current behavior and silence the warning, pass 'sort=True'.\n",
      "\n",
      "  \"\"\"Entry point for launching an IPython kernel.\n"
     ]
    }
   ],
   "source": [
    "sandy_cat = pd.concat([uninf, sandy2])"
   ]
  },
  {
   "cell_type": "code",
   "execution_count": 50,
   "metadata": {},
   "outputs": [
    {
     "data": {
      "text/plain": [
       "(1000, 13)"
      ]
     },
     "execution_count": 50,
     "metadata": {},
     "output_type": "execute_result"
    }
   ],
   "source": [
    "sandy_cat.shape"
   ]
  },
  {
   "cell_type": "code",
   "execution_count": 51,
   "metadata": {},
   "outputs": [],
   "source": [
    "sandy_cat['y'] = sandy_cat['category'].map(\n",
    "    {\"Casualties and damage\":1,\"Caution and advice\":2, \n",
    "     \"Unknown\":3, \"Information Source\":4, \"Donations of money, goods or services\":5})"
   ]
  },
  {
   "cell_type": "code",
   "execution_count": 59,
   "metadata": {},
   "outputs": [
    {
     "data": {
      "text/plain": [
       "0.0    457\n",
       "1.0    170\n",
       "2.0    144\n",
       "3.0    125\n",
       "4.0     72\n",
       "5.0     32\n",
       "Name: y, dtype: int64"
      ]
     },
     "execution_count": 59,
     "metadata": {},
     "output_type": "execute_result"
    }
   ],
   "source": [
    "sandy_cat.y.value_counts()"
   ]
  },
  {
   "cell_type": "code",
   "execution_count": 58,
   "metadata": {},
   "outputs": [],
   "source": [
    "sandy_cat['y'].fillna(0,inplace=True)"
   ]
  },
  {
   "cell_type": "markdown",
   "metadata": {},
   "source": [
    "### Combine Joplin files"
   ]
  },
  {
   "cell_type": "code",
   "execution_count": 61,
   "metadata": {},
   "outputs": [],
   "source": [
    "mask = ((joplin['choose_one'] == 'Personal Only') | (joplin['choose_one'] == 'Other'))\n",
    "uninf = joplin[mask]\n",
    "\n",
    "joplin2.rename(columns={'choose_one':'category'}, \n",
    "                 inplace=True)\n",
    "\n",
    "joplin_all = pd.concat([uninf, sandy2])"
   ]
  },
  {
   "cell_type": "code",
   "execution_count": 70,
   "metadata": {},
   "outputs": [],
   "source": [
    "def recode_cat(df): \n",
    "    df['y'] = df['category'].map(\n",
    "        {\"Casualties and damage\":1,\"Caution and advice\":2, \n",
    "         \"Unknown\":3, \"Information Source\":4, \"Donations of money, goods or services\":5})\n",
    "    df['y'].fillna(0,inplace=True)\n",
    "    return df"
   ]
  },
  {
   "cell_type": "code",
   "execution_count": 71,
   "metadata": {},
   "outputs": [],
   "source": [
    "joplin_cat = recode_cat(joplin_all)"
   ]
  },
  {
   "cell_type": "code",
   "execution_count": 76,
   "metadata": {},
   "outputs": [
    {
     "data": {
      "text/plain": [
       "1.0    170\n",
       "2.0    144\n",
       "3.0    125\n",
       "0.0     94\n",
       "4.0     72\n",
       "5.0     32\n",
       "Name: y, dtype: int64"
      ]
     },
     "execution_count": 76,
     "metadata": {},
     "output_type": "execute_result"
    }
   ],
   "source": [
    "joplin_cat.y.value_counts()"
   ]
  },
  {
   "cell_type": "code",
   "execution_count": 77,
   "metadata": {},
   "outputs": [
    {
     "name": "stderr",
     "output_type": "stream",
     "text": [
      "C:\\Users\\pauls\\Anaconda3\\envs\\dsi\\lib\\site-packages\\ipykernel_launcher.py:1: FutureWarning: Sorting because non-concatenation axis is not aligned. A future version\n",
      "of pandas will change to not sort by default.\n",
      "\n",
      "To accept the future behavior, pass 'sort=False'.\n",
      "\n",
      "To retain the current behavior and silence the warning, pass 'sort=True'.\n",
      "\n",
      "  \"\"\"Entry point for launching an IPython kernel.\n"
     ]
    }
   ],
   "source": [
    "train3 = pd.concat([joplin_cat,sandy_cat], axis=0)"
   ]
  },
  {
   "cell_type": "code",
   "execution_count": 78,
   "metadata": {},
   "outputs": [
    {
     "data": {
      "text/plain": [
       "(1637, 15)"
      ]
     },
     "execution_count": 78,
     "metadata": {},
     "output_type": "execute_result"
    }
   ],
   "source": [
    "train3.shape"
   ]
  },
  {
   "cell_type": "code",
   "execution_count": 81,
   "metadata": {},
   "outputs": [
    {
     "data": {
      "text/plain": [
       "0.0    0.336591\n",
       "1.0    0.207697\n",
       "2.0    0.175932\n",
       "3.0    0.152718\n",
       "4.0    0.087966\n",
       "5.0    0.039096\n",
       "Name: y, dtype: float64"
      ]
     },
     "execution_count": 81,
     "metadata": {},
     "output_type": "execute_result"
    }
   ],
   "source": [
    "train3.y.value_counts(1)"
   ]
  },
  {
   "cell_type": "code",
   "execution_count": 80,
   "metadata": {},
   "outputs": [],
   "source": [
    "train3.to_pickle('../data/train3.pkl')"
   ]
  },
  {
   "cell_type": "code",
   "execution_count": 26,
   "metadata": {
    "scrolled": false
   },
   "outputs": [
    {
     "name": "stderr",
     "output_type": "stream",
     "text": [
      "C:\\Users\\pauls\\Anaconda3\\envs\\dsi\\lib\\site-packages\\ipykernel_launcher.py:1: FutureWarning: Sorting because non-concatenation axis is not aligned. A future version\n",
      "of pandas will change to not sort by default.\n",
      "\n",
      "To accept the future behavior, pass 'sort=True'.\n",
      "\n",
      "To retain the current behavior and silence the warning, pass sort=False\n",
      "\n",
      "  \"\"\"Entry point for launching an IPython kernel.\n"
     ]
    }
   ],
   "source": [
    "train2 = pd.concat([joplin,sandy], axis=0)"
   ]
  },
  {
   "cell_type": "code",
   "execution_count": 27,
   "metadata": {},
   "outputs": [
    {
     "data": {
      "text/plain": [
       "(3384, 13)"
      ]
     },
     "execution_count": 27,
     "metadata": {},
     "output_type": "execute_result"
    }
   ],
   "source": [
    "train2.shape"
   ]
  },
  {
   "cell_type": "code",
   "execution_count": 32,
   "metadata": {},
   "outputs": [],
   "source": [
    "import numpy as np"
   ]
  },
  {
   "cell_type": "code",
   "execution_count": 43,
   "metadata": {},
   "outputs": [],
   "source": [
    "train2['informative'] = train2['choose_one'].map(lambda x: 1 if \"Informative\" in x else 0 )"
   ]
  },
  {
   "cell_type": "code",
   "execution_count": 45,
   "metadata": {},
   "outputs": [
    {
     "data": {
      "text/plain": [
       "1    2039\n",
       "0    1345\n",
       "Name: informative, dtype: int64"
      ]
     },
     "execution_count": 45,
     "metadata": {},
     "output_type": "execute_result"
    }
   ],
   "source": [
    "train2.informative.value_counts()"
   ]
  },
  {
   "cell_type": "code",
   "execution_count": 30,
   "metadata": {},
   "outputs": [
    {
     "data": {
      "text/plain": [
       "Informative (Indirect)              855\n",
       "Informative (Direct or Indirect)    841\n",
       "Personal only                       794\n",
       "Informative (Direct)                343\n",
       "Personal Only                       296\n",
       "Other                               255\n",
       "Name: choose_one, dtype: int64"
      ]
     },
     "execution_count": 30,
     "metadata": {},
     "output_type": "execute_result"
    }
   ],
   "source": [
    "train2.choose_one.value_counts()"
   ]
  },
  {
   "cell_type": "code",
   "execution_count": 28,
   "metadata": {},
   "outputs": [
    {
     "data": {
      "text/html": [
       "<div>\n",
       "<style scoped>\n",
       "    .dataframe tbody tr th:only-of-type {\n",
       "        vertical-align: middle;\n",
       "    }\n",
       "\n",
       "    .dataframe tbody tr th {\n",
       "        vertical-align: top;\n",
       "    }\n",
       "\n",
       "    .dataframe thead th {\n",
       "        text-align: right;\n",
       "    }\n",
       "</style>\n",
       "<table border=\"1\" class=\"dataframe\">\n",
       "  <thead>\n",
       "    <tr style=\"text-align: right;\">\n",
       "      <th></th>\n",
       "      <th>_golden</th>\n",
       "      <th>_last_judgment_at</th>\n",
       "      <th>_trusted_judgments</th>\n",
       "      <th>_unit_state</th>\n",
       "      <th>choose_one</th>\n",
       "      <th>choose_one:confidence</th>\n",
       "      <th>choose_one_gold</th>\n",
       "      <th>event</th>\n",
       "      <th>nil</th>\n",
       "      <th>predicted</th>\n",
       "      <th>text_no_rt</th>\n",
       "      <th>tweet</th>\n",
       "      <th>user</th>\n",
       "    </tr>\n",
       "    <tr>\n",
       "      <th>_unit_id</th>\n",
       "      <th></th>\n",
       "      <th></th>\n",
       "      <th></th>\n",
       "      <th></th>\n",
       "      <th></th>\n",
       "      <th></th>\n",
       "      <th></th>\n",
       "      <th></th>\n",
       "      <th></th>\n",
       "      <th></th>\n",
       "      <th></th>\n",
       "      <th></th>\n",
       "      <th></th>\n",
       "    </tr>\n",
       "  </thead>\n",
       "  <tbody>\n",
       "    <tr>\n",
       "      <th>204690712</th>\n",
       "      <td>False</td>\n",
       "      <td>10/6/2012 03:35:03</td>\n",
       "      <td>4</td>\n",
       "      <td>finalized</td>\n",
       "      <td>Informative (Direct or Indirect)</td>\n",
       "      <td>0.5133</td>\n",
       "      <td>NaN</td>\n",
       "      <td>joplin</td>\n",
       "      <td>NaN</td>\n",
       "      <td>Informative (Indirect)</td>\n",
       "      <td>Cruuuuud. Tornado warning for Denton County. A...</td>\n",
       "      <td>Cruuuuud. Tornado warning for Denton County. A...</td>\n",
       "      <td>NaN</td>\n",
       "    </tr>\n",
       "    <tr>\n",
       "      <th>204690713</th>\n",
       "      <td>True</td>\n",
       "      <td>10/6/2012 03:25:33</td>\n",
       "      <td>129</td>\n",
       "      <td>golden</td>\n",
       "      <td>Informative (Indirect)</td>\n",
       "      <td>0.4781</td>\n",
       "      <td>Informative (Indirect)</td>\n",
       "      <td>joplin</td>\n",
       "      <td>NaN</td>\n",
       "      <td>Informative (Indirect)</td>\n",
       "      <td>Tornado WARNING for Tarrant county. Storm spot...</td>\n",
       "      <td>Tornado WARNING for Tarrant county. Storm spot...</td>\n",
       "      <td>NaN</td>\n",
       "    </tr>\n",
       "    <tr>\n",
       "      <th>204690714</th>\n",
       "      <td>False</td>\n",
       "      <td>10/5/2012 09:43:16</td>\n",
       "      <td>6</td>\n",
       "      <td>finalized</td>\n",
       "      <td>Informative (Direct or Indirect)</td>\n",
       "      <td>1.0000</td>\n",
       "      <td>NaN</td>\n",
       "      <td>joplin</td>\n",
       "      <td>NaN</td>\n",
       "      <td>Informative (Indirect)</td>\n",
       "      <td>Tornado on the ground in Azle headed right tow...</td>\n",
       "      <td>RT @AmandaSalinas: Tornado on the ground in Az...</td>\n",
       "      <td>NaN</td>\n",
       "    </tr>\n",
       "    <tr>\n",
       "      <th>204690715</th>\n",
       "      <td>True</td>\n",
       "      <td>10/6/2012 03:25:33</td>\n",
       "      <td>125</td>\n",
       "      <td>golden</td>\n",
       "      <td>Informative (Indirect)</td>\n",
       "      <td>0.6346</td>\n",
       "      <td>Informative (Indirect)</td>\n",
       "      <td>joplin</td>\n",
       "      <td>NaN</td>\n",
       "      <td>Informative (Indirect)</td>\n",
       "      <td>US tornado toll rises to 122 (AFP) http://dlvr...</td>\n",
       "      <td>US tornado toll rises to 122 (AFP) http://dlvr...</td>\n",
       "      <td>NaN</td>\n",
       "    </tr>\n",
       "    <tr>\n",
       "      <th>204690716</th>\n",
       "      <td>False</td>\n",
       "      <td>10/6/2012 03:02:15</td>\n",
       "      <td>3</td>\n",
       "      <td>finalized</td>\n",
       "      <td>Informative (Indirect)</td>\n",
       "      <td>1.0000</td>\n",
       "      <td>NaN</td>\n",
       "      <td>joplin</td>\n",
       "      <td>NaN</td>\n",
       "      <td>Informative (Indirect)</td>\n",
       "      <td>US tornado toll rises to 122 (AFP) http://dlvr...</td>\n",
       "      <td>US tornado toll rises to 122 (AFP) http://dlvr...</td>\n",
       "      <td>NaN</td>\n",
       "    </tr>\n",
       "  </tbody>\n",
       "</table>\n",
       "</div>"
      ],
      "text/plain": [
       "           _golden   _last_judgment_at  _trusted_judgments _unit_state  \\\n",
       "_unit_id                                                                 \n",
       "204690712    False  10/6/2012 03:35:03                   4   finalized   \n",
       "204690713     True  10/6/2012 03:25:33                 129      golden   \n",
       "204690714    False  10/5/2012 09:43:16                   6   finalized   \n",
       "204690715     True  10/6/2012 03:25:33                 125      golden   \n",
       "204690716    False  10/6/2012 03:02:15                   3   finalized   \n",
       "\n",
       "                                 choose_one  choose_one:confidence  \\\n",
       "_unit_id                                                             \n",
       "204690712  Informative (Direct or Indirect)                 0.5133   \n",
       "204690713            Informative (Indirect)                 0.4781   \n",
       "204690714  Informative (Direct or Indirect)                 1.0000   \n",
       "204690715            Informative (Indirect)                 0.6346   \n",
       "204690716            Informative (Indirect)                 1.0000   \n",
       "\n",
       "                  choose_one_gold   event  nil               predicted  \\\n",
       "_unit_id                                                                 \n",
       "204690712                     NaN  joplin  NaN  Informative (Indirect)   \n",
       "204690713  Informative (Indirect)  joplin  NaN  Informative (Indirect)   \n",
       "204690714                     NaN  joplin  NaN  Informative (Indirect)   \n",
       "204690715  Informative (Indirect)  joplin  NaN  Informative (Indirect)   \n",
       "204690716                     NaN  joplin  NaN  Informative (Indirect)   \n",
       "\n",
       "                                                  text_no_rt  \\\n",
       "_unit_id                                                       \n",
       "204690712  Cruuuuud. Tornado warning for Denton County. A...   \n",
       "204690713  Tornado WARNING for Tarrant county. Storm spot...   \n",
       "204690714  Tornado on the ground in Azle headed right tow...   \n",
       "204690715  US tornado toll rises to 122 (AFP) http://dlvr...   \n",
       "204690716  US tornado toll rises to 122 (AFP) http://dlvr...   \n",
       "\n",
       "                                                       tweet user  \n",
       "_unit_id                                                           \n",
       "204690712  Cruuuuud. Tornado warning for Denton County. A...  NaN  \n",
       "204690713  Tornado WARNING for Tarrant county. Storm spot...  NaN  \n",
       "204690714  RT @AmandaSalinas: Tornado on the ground in Az...  NaN  \n",
       "204690715  US tornado toll rises to 122 (AFP) http://dlvr...  NaN  \n",
       "204690716  US tornado toll rises to 122 (AFP) http://dlvr...  NaN  "
      ]
     },
     "execution_count": 28,
     "metadata": {},
     "output_type": "execute_result"
    }
   ],
   "source": [
    "train2.head()"
   ]
  },
  {
   "cell_type": "code",
   "execution_count": 50,
   "metadata": {},
   "outputs": [],
   "source": [
    "train2.to_pickle('../data/train2.pkl')"
   ]
  }
 ],
 "metadata": {
  "kernelspec": {
   "display_name": "Python 3",
   "language": "python",
   "name": "python3"
  },
  "language_info": {
   "codemirror_mode": {
    "name": "ipython",
    "version": 3
   },
   "file_extension": ".py",
   "mimetype": "text/x-python",
   "name": "python",
   "nbconvert_exporter": "python",
   "pygments_lexer": "ipython3",
   "version": "3.6.5"
  }
 },
 "nbformat": 4,
 "nbformat_minor": 2
}
