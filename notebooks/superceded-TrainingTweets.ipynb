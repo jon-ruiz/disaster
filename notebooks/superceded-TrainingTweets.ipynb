{
 "cells": [
  {
   "cell_type": "code",
   "execution_count": 1,
   "metadata": {},
   "outputs": [],
   "source": [
    "import pandas as pd"
   ]
  },
  {
   "cell_type": "code",
   "execution_count": 39,
   "metadata": {},
   "outputs": [],
   "source": [
    "joplin = pd.read_csv('./data/ISCRAM2013_dataset/Joplin_2011_labeled_data/01_personal-informative-other/a131709.csv',\n",
    "                  index_col='_unit_id')"
   ]
  },
  {
   "cell_type": "code",
   "execution_count": 40,
   "metadata": {
    "scrolled": true
   },
   "outputs": [
    {
     "data": {
      "text/plain": [
       "Personal only                       794\n",
       "Informative (Direct or Indirect)    762\n",
       "Informative (Indirect)              469\n",
       "Informative (Direct)                265\n",
       "Other                                94\n",
       "Name: choose_one, dtype: int64"
      ]
     },
     "execution_count": 40,
     "metadata": {},
     "output_type": "execute_result"
    }
   ],
   "source": [
    "joplin.choose_one.value_counts()"
   ]
  },
  {
   "cell_type": "code",
   "execution_count": 41,
   "metadata": {},
   "outputs": [],
   "source": [
    "joplin2 = pd.read_csv('./data/ISCRAM2013_dataset/Joplin_2011_labeled_data/02_informative_caution-infosrc-donation-damage-other/a121571.csv',\n",
    "                  index_col='_unit_id')"
   ]
  },
  {
   "cell_type": "code",
   "execution_count": null,
   "metadata": {},
   "outputs": [],
   "source": []
  },
  {
   "cell_type": "code",
   "execution_count": 9,
   "metadata": {},
   "outputs": [],
   "source": [
    "df1 = pd.read_csv('./data/sandy2012_labeled_data/01_personal-informative-other/a143145.csv',\n",
    "                  index_col='_unit_id')"
   ]
  },
  {
   "cell_type": "code",
   "execution_count": 13,
   "metadata": {},
   "outputs": [
    {
     "data": {
      "text/plain": [
       "(1000, 11)"
      ]
     },
     "execution_count": 13,
     "metadata": {},
     "output_type": "execute_result"
    }
   ],
   "source": [
    "df1.shape"
   ]
  },
  {
   "cell_type": "code",
   "execution_count": 14,
   "metadata": {},
   "outputs": [
    {
     "name": "stdout",
     "output_type": "stream",
     "text": [
      "<class 'pandas.core.frame.DataFrame'>\n",
      "Int64Index: 1000 entries, 221934923 to 221941939\n",
      "Data columns (total 11 columns):\n",
      "_golden                  1000 non-null bool\n",
      "_unit_state              1000 non-null object\n",
      "_trusted_judgments       1000 non-null int64\n",
      "_last_judgment_at        1000 non-null object\n",
      "choose_one               1000 non-null object\n",
      "choose_one:confidence    1000 non-null float64\n",
      "choose_one_gold          51 non-null object\n",
      "nil                      1 non-null object\n",
      "text_no_rt               1000 non-null object\n",
      "tweet                    1000 non-null object\n",
      "user                     1000 non-null object\n",
      "dtypes: bool(1), float64(1), int64(1), object(8)\n",
      "memory usage: 86.9+ KB\n"
     ]
    }
   ],
   "source": [
    "df1.info()"
   ]
  },
  {
   "cell_type": "code",
   "execution_count": 10,
   "metadata": {},
   "outputs": [
    {
     "data": {
      "text/html": [
       "<div>\n",
       "<style scoped>\n",
       "    .dataframe tbody tr th:only-of-type {\n",
       "        vertical-align: middle;\n",
       "    }\n",
       "\n",
       "    .dataframe tbody tr th {\n",
       "        vertical-align: top;\n",
       "    }\n",
       "\n",
       "    .dataframe thead th {\n",
       "        text-align: right;\n",
       "    }\n",
       "</style>\n",
       "<table border=\"1\" class=\"dataframe\">\n",
       "  <thead>\n",
       "    <tr style=\"text-align: right;\">\n",
       "      <th></th>\n",
       "      <th>_golden</th>\n",
       "      <th>_unit_state</th>\n",
       "      <th>_trusted_judgments</th>\n",
       "      <th>_last_judgment_at</th>\n",
       "      <th>choose_one</th>\n",
       "      <th>choose_one:confidence</th>\n",
       "      <th>choose_one_gold</th>\n",
       "      <th>nil</th>\n",
       "      <th>text_no_rt</th>\n",
       "      <th>tweet</th>\n",
       "      <th>user</th>\n",
       "    </tr>\n",
       "    <tr>\n",
       "      <th>_unit_id</th>\n",
       "      <th></th>\n",
       "      <th></th>\n",
       "      <th></th>\n",
       "      <th></th>\n",
       "      <th></th>\n",
       "      <th></th>\n",
       "      <th></th>\n",
       "      <th></th>\n",
       "      <th></th>\n",
       "      <th></th>\n",
       "      <th></th>\n",
       "    </tr>\n",
       "  </thead>\n",
       "  <tbody>\n",
       "    <tr>\n",
       "      <th>221934923</th>\n",
       "      <td>True</td>\n",
       "      <td>golden</td>\n",
       "      <td>3</td>\n",
       "      <td>11/13/2012 02:06:24</td>\n",
       "      <td>Personal Only</td>\n",
       "      <td>1.000</td>\n",
       "      <td>Personal Only</td>\n",
       "      <td>NaN</td>\n",
       "      <td>......................Ã¤Ã³Ã¬@Brains_x_Beauty: ...</td>\n",
       "      <td>RT @TheHolyKaron: ......................Ã¤Ã³Ã¬...</td>\n",
       "      <td>____DatPMF</td>\n",
       "    </tr>\n",
       "    <tr>\n",
       "      <th>221934924</th>\n",
       "      <td>True</td>\n",
       "      <td>golden</td>\n",
       "      <td>2</td>\n",
       "      <td>11/13/2012 02:16:03</td>\n",
       "      <td>Informative (Indirect)</td>\n",
       "      <td>0.515</td>\n",
       "      <td>Informative (Indirect)</td>\n",
       "      <td>NaN</td>\n",
       "      <td>At least 39 dead millions without power in San...</td>\n",
       "      <td>At least 39 dead millions without power in San...</td>\n",
       "      <td>_3091004140882</td>\n",
       "    </tr>\n",
       "    <tr>\n",
       "      <th>221934925</th>\n",
       "      <td>True</td>\n",
       "      <td>golden</td>\n",
       "      <td>2</td>\n",
       "      <td>11/13/2012 02:06:50</td>\n",
       "      <td>Personal Only</td>\n",
       "      <td>1.000</td>\n",
       "      <td>Personal Only</td>\n",
       "      <td>NaN</td>\n",
       "      <td>Clearly no one wants to look good for sandy la...</td>\n",
       "      <td>Clearly no one wants to look good for sandy la...</td>\n",
       "      <td>_JordanDawn_</td>\n",
       "    </tr>\n",
       "    <tr>\n",
       "      <th>221934926</th>\n",
       "      <td>True</td>\n",
       "      <td>golden</td>\n",
       "      <td>1</td>\n",
       "      <td>11/11/2012 01:44:50</td>\n",
       "      <td>Other</td>\n",
       "      <td>1.000</td>\n",
       "      <td>Informative (Indirect)</td>\n",
       "      <td>NaN</td>\n",
       "      <td>Hurricane #Sandy hits the Statue Of Liberty ht...</td>\n",
       "      <td>RT @ImJay_wbu: Hurricane #Sandy hits the Statu...</td>\n",
       "      <td>_k4typerry</td>\n",
       "    </tr>\n",
       "    <tr>\n",
       "      <th>221934927</th>\n",
       "      <td>False</td>\n",
       "      <td>finalized</td>\n",
       "      <td>3</td>\n",
       "      <td>11/10/2012 12:38:04</td>\n",
       "      <td>Informative (Indirect)</td>\n",
       "      <td>1.000</td>\n",
       "      <td>NaN</td>\n",
       "      <td>NaN</td>\n",
       "      <td>Watch Hurricane #Sandy prowling the East Coast...</td>\n",
       "      <td>RT @NASA: Watch Hurricane #Sandy prowling the ...</td>\n",
       "      <td>_KieranJD_</td>\n",
       "    </tr>\n",
       "  </tbody>\n",
       "</table>\n",
       "</div>"
      ],
      "text/plain": [
       "           _golden _unit_state  _trusted_judgments    _last_judgment_at  \\\n",
       "_unit_id                                                                  \n",
       "221934923     True      golden                   3  11/13/2012 02:06:24   \n",
       "221934924     True      golden                   2  11/13/2012 02:16:03   \n",
       "221934925     True      golden                   2  11/13/2012 02:06:50   \n",
       "221934926     True      golden                   1  11/11/2012 01:44:50   \n",
       "221934927    False   finalized                   3  11/10/2012 12:38:04   \n",
       "\n",
       "                       choose_one  choose_one:confidence  \\\n",
       "_unit_id                                                   \n",
       "221934923           Personal Only                  1.000   \n",
       "221934924  Informative (Indirect)                  0.515   \n",
       "221934925           Personal Only                  1.000   \n",
       "221934926                   Other                  1.000   \n",
       "221934927  Informative (Indirect)                  1.000   \n",
       "\n",
       "                  choose_one_gold  nil  \\\n",
       "_unit_id                                 \n",
       "221934923           Personal Only  NaN   \n",
       "221934924  Informative (Indirect)  NaN   \n",
       "221934925           Personal Only  NaN   \n",
       "221934926  Informative (Indirect)  NaN   \n",
       "221934927                     NaN  NaN   \n",
       "\n",
       "                                                  text_no_rt  \\\n",
       "_unit_id                                                       \n",
       "221934923  ......................Ã¤Ã³Ã¬@Brains_x_Beauty: ...   \n",
       "221934924  At least 39 dead millions without power in San...   \n",
       "221934925  Clearly no one wants to look good for sandy la...   \n",
       "221934926  Hurricane #Sandy hits the Statue Of Liberty ht...   \n",
       "221934927  Watch Hurricane #Sandy prowling the East Coast...   \n",
       "\n",
       "                                                       tweet            user  \n",
       "_unit_id                                                                      \n",
       "221934923  RT @TheHolyKaron: ......................Ã¤Ã³Ã¬...      ____DatPMF  \n",
       "221934924  At least 39 dead millions without power in San...  _3091004140882  \n",
       "221934925  Clearly no one wants to look good for sandy la...    _JordanDawn_  \n",
       "221934926  RT @ImJay_wbu: Hurricane #Sandy hits the Statu...      _k4typerry  \n",
       "221934927  RT @NASA: Watch Hurricane #Sandy prowling the ...      _KieranJD_  "
      ]
     },
     "execution_count": 10,
     "metadata": {},
     "output_type": "execute_result"
    }
   ],
   "source": [
    "df1.head()"
   ]
  },
  {
   "cell_type": "code",
   "execution_count": 42,
   "metadata": {},
   "outputs": [
    {
     "data": {
      "text/plain": [
       "Caution and advice                       436\n",
       "Information source                       280\n",
       "Donations of money, goods or services    204\n",
       "Casualties and damage                    137\n",
       "Unknown                                  130\n",
       "People missing, found or seen             46\n",
       "Name: choose_one, dtype: int64"
      ]
     },
     "execution_count": 42,
     "metadata": {},
     "output_type": "execute_result"
    }
   ],
   "source": [
    "joplin2.choose_one.value_counts()"
   ]
  },
  {
   "cell_type": "code",
   "execution_count": 22,
   "metadata": {},
   "outputs": [
    {
     "data": {
      "text/plain": [
       "Informative (Indirect)              386\n",
       "Personal Only                       296\n",
       "Other                               161\n",
       "Informative (Direct or Indirect)     79\n",
       "Informative (Direct)                 78\n",
       "Name: choose_one, dtype: int64"
      ]
     },
     "execution_count": 22,
     "metadata": {},
     "output_type": "execute_result"
    }
   ],
   "source": [
    "df1.choose_one.value_counts()"
   ]
  },
  {
   "cell_type": "code",
   "execution_count": 23,
   "metadata": {},
   "outputs": [
    {
     "data": {
      "text/plain": [
       "543"
      ]
     },
     "execution_count": 23,
     "metadata": {},
     "output_type": "execute_result"
    }
   ],
   "source": [
    "1000-296-161"
   ]
  },
  {
   "cell_type": "code",
   "execution_count": 11,
   "metadata": {},
   "outputs": [],
   "source": [
    "df2 = pd.read_csv('./data/sandy2012_labeled_data/02_informative_caution-infosrc-donation-damage-other/a144267.csv',\n",
    "                 index_col='_unit_id')"
   ]
  },
  {
   "cell_type": "code",
   "execution_count": 15,
   "metadata": {},
   "outputs": [
    {
     "name": "stdout",
     "output_type": "stream",
     "text": [
      "<class 'pandas.core.frame.DataFrame'>\n",
      "Int64Index: 543 entries, 223607030 to 223607572\n",
      "Data columns (total 11 columns):\n",
      "_golden                  543 non-null bool\n",
      "_unit_state              543 non-null object\n",
      "_trusted_judgments       543 non-null int64\n",
      "_last_judgment_at        543 non-null object\n",
      "choose_one               543 non-null object\n",
      "choose_one:confidence    543 non-null float64\n",
      "choose_one_gold          41 non-null object\n",
      "text_no_rt               543 non-null object\n",
      "tweet                    543 non-null object\n",
      "type                     543 non-null object\n",
      "user                     543 non-null object\n",
      "dtypes: bool(1), float64(1), int64(1), object(8)\n",
      "memory usage: 47.2+ KB\n"
     ]
    }
   ],
   "source": [
    "df2.info()"
   ]
  },
  {
   "cell_type": "code",
   "execution_count": 25,
   "metadata": {},
   "outputs": [
    {
     "data": {
      "text/plain": [
       "Casualties and damage                    170\n",
       "Caution and advice                       144\n",
       "Unknown                                  125\n",
       "Information Source                        72\n",
       "Donations of money, goods or services     32\n",
       "Name: choose_one, dtype: int64"
      ]
     },
     "execution_count": 25,
     "metadata": {},
     "output_type": "execute_result"
    }
   ],
   "source": [
    "df2.choose_one.value_counts()"
   ]
  },
  {
   "cell_type": "code",
   "execution_count": 12,
   "metadata": {},
   "outputs": [
    {
     "data": {
      "text/html": [
       "<div>\n",
       "<style scoped>\n",
       "    .dataframe tbody tr th:only-of-type {\n",
       "        vertical-align: middle;\n",
       "    }\n",
       "\n",
       "    .dataframe tbody tr th {\n",
       "        vertical-align: top;\n",
       "    }\n",
       "\n",
       "    .dataframe thead th {\n",
       "        text-align: right;\n",
       "    }\n",
       "</style>\n",
       "<table border=\"1\" class=\"dataframe\">\n",
       "  <thead>\n",
       "    <tr style=\"text-align: right;\">\n",
       "      <th></th>\n",
       "      <th>_golden</th>\n",
       "      <th>_unit_state</th>\n",
       "      <th>_trusted_judgments</th>\n",
       "      <th>_last_judgment_at</th>\n",
       "      <th>choose_one</th>\n",
       "      <th>choose_one:confidence</th>\n",
       "      <th>choose_one_gold</th>\n",
       "      <th>text_no_rt</th>\n",
       "      <th>tweet</th>\n",
       "      <th>type</th>\n",
       "      <th>user</th>\n",
       "    </tr>\n",
       "    <tr>\n",
       "      <th>_unit_id</th>\n",
       "      <th></th>\n",
       "      <th></th>\n",
       "      <th></th>\n",
       "      <th></th>\n",
       "      <th></th>\n",
       "      <th></th>\n",
       "      <th></th>\n",
       "      <th></th>\n",
       "      <th></th>\n",
       "      <th></th>\n",
       "      <th></th>\n",
       "    </tr>\n",
       "  </thead>\n",
       "  <tbody>\n",
       "    <tr>\n",
       "      <th>223607030</th>\n",
       "      <td>False</td>\n",
       "      <td>finalized</td>\n",
       "      <td>3</td>\n",
       "      <td>11/14/2012 03:26:51</td>\n",
       "      <td>Casualties and damage</td>\n",
       "      <td>1.0000</td>\n",
       "      <td>NaN</td>\n",
       "      <td>28 deaths due to Hurricane Sandy | Charlotte t...</td>\n",
       "      <td>RT @HenderGrande: 28 deaths due to Hurricane S...</td>\n",
       "      <td>Informative (Direct or Indirect)</td>\n",
       "      <td>1EmmaHenderson</td>\n",
       "    </tr>\n",
       "    <tr>\n",
       "      <th>223607031</th>\n",
       "      <td>True</td>\n",
       "      <td>golden</td>\n",
       "      <td>3</td>\n",
       "      <td>11/14/2012 03:41:27</td>\n",
       "      <td>Casualties and damage</td>\n",
       "      <td>1.0000</td>\n",
       "      <td>Casualties and damage</td>\n",
       "      <td>Sandy kills 50 people nationwide 18 were New Y...</td>\n",
       "      <td>Sandy kills 50 people nationwide 18 were New Y...</td>\n",
       "      <td>Informative (Direct or Indirect)</td>\n",
       "      <td>9NEWS</td>\n",
       "    </tr>\n",
       "    <tr>\n",
       "      <th>223607032</th>\n",
       "      <td>False</td>\n",
       "      <td>finalized</td>\n",
       "      <td>3</td>\n",
       "      <td>11/14/2012 03:38:40</td>\n",
       "      <td>Casualties and damage</td>\n",
       "      <td>0.6849</td>\n",
       "      <td>NaN</td>\n",
       "      <td>RT @nowthised: Wider shot of scaffolding toppl...</td>\n",
       "      <td>RT @twc_hurricane: RT @nowthised: Wider shot o...</td>\n",
       "      <td>Informative (Direct or Indirect)</td>\n",
       "      <td>AbrahamAkiva</td>\n",
       "    </tr>\n",
       "    <tr>\n",
       "      <th>223607033</th>\n",
       "      <td>True</td>\n",
       "      <td>golden</td>\n",
       "      <td>10</td>\n",
       "      <td>11/14/2012 03:35:39</td>\n",
       "      <td>Caution and advice</td>\n",
       "      <td>0.8900</td>\n",
       "      <td>Caution and advice</td>\n",
       "      <td>#Sandy will be onshore about 6pm. Slightly fas...</td>\n",
       "      <td>RT @growingwisdom: #Sandy will be onshore abou...</td>\n",
       "      <td>Informative (Direct or Indirect)</td>\n",
       "      <td>aecheylon</td>\n",
       "    </tr>\n",
       "    <tr>\n",
       "      <th>223607034</th>\n",
       "      <td>True</td>\n",
       "      <td>golden</td>\n",
       "      <td>7</td>\n",
       "      <td>11/14/2012 03:36:35</td>\n",
       "      <td>Donations of money, goods or services</td>\n",
       "      <td>0.5727</td>\n",
       "      <td>Donations of money, goods or services</td>\n",
       "      <td>@ChrisFRC lost startups can go to @AlleyNYC. T...</td>\n",
       "      <td>@ChrisFRC lost startups can go to @AlleyNYC. T...</td>\n",
       "      <td>Informative (Direct or Indirect)</td>\n",
       "      <td>AHolidayiii</td>\n",
       "    </tr>\n",
       "  </tbody>\n",
       "</table>\n",
       "</div>"
      ],
      "text/plain": [
       "           _golden _unit_state  _trusted_judgments    _last_judgment_at  \\\n",
       "_unit_id                                                                  \n",
       "223607030    False   finalized                   3  11/14/2012 03:26:51   \n",
       "223607031     True      golden                   3  11/14/2012 03:41:27   \n",
       "223607032    False   finalized                   3  11/14/2012 03:38:40   \n",
       "223607033     True      golden                  10  11/14/2012 03:35:39   \n",
       "223607034     True      golden                   7  11/14/2012 03:36:35   \n",
       "\n",
       "                                      choose_one  choose_one:confidence  \\\n",
       "_unit_id                                                                  \n",
       "223607030                  Casualties and damage                 1.0000   \n",
       "223607031                  Casualties and damage                 1.0000   \n",
       "223607032                  Casualties and damage                 0.6849   \n",
       "223607033                     Caution and advice                 0.8900   \n",
       "223607034  Donations of money, goods or services                 0.5727   \n",
       "\n",
       "                                 choose_one_gold  \\\n",
       "_unit_id                                           \n",
       "223607030                                    NaN   \n",
       "223607031                  Casualties and damage   \n",
       "223607032                                    NaN   \n",
       "223607033                     Caution and advice   \n",
       "223607034  Donations of money, goods or services   \n",
       "\n",
       "                                                  text_no_rt  \\\n",
       "_unit_id                                                       \n",
       "223607030  28 deaths due to Hurricane Sandy | Charlotte t...   \n",
       "223607031  Sandy kills 50 people nationwide 18 were New Y...   \n",
       "223607032  RT @nowthised: Wider shot of scaffolding toppl...   \n",
       "223607033  #Sandy will be onshore about 6pm. Slightly fas...   \n",
       "223607034  @ChrisFRC lost startups can go to @AlleyNYC. T...   \n",
       "\n",
       "                                                       tweet  \\\n",
       "_unit_id                                                       \n",
       "223607030  RT @HenderGrande: 28 deaths due to Hurricane S...   \n",
       "223607031  Sandy kills 50 people nationwide 18 were New Y...   \n",
       "223607032  RT @twc_hurricane: RT @nowthised: Wider shot o...   \n",
       "223607033  RT @growingwisdom: #Sandy will be onshore abou...   \n",
       "223607034  @ChrisFRC lost startups can go to @AlleyNYC. T...   \n",
       "\n",
       "                                       type            user  \n",
       "_unit_id                                                     \n",
       "223607030  Informative (Direct or Indirect)  1EmmaHenderson  \n",
       "223607031  Informative (Direct or Indirect)           9NEWS  \n",
       "223607032  Informative (Direct or Indirect)    AbrahamAkiva  \n",
       "223607033  Informative (Direct or Indirect)       aecheylon  \n",
       "223607034  Informative (Direct or Indirect)     AHolidayiii  "
      ]
     },
     "execution_count": 12,
     "metadata": {},
     "output_type": "execute_result"
    }
   ],
   "source": [
    "df2.head()"
   ]
  },
  {
   "cell_type": "code",
   "execution_count": 16,
   "metadata": {},
   "outputs": [],
   "source": [
    "df3 = pd.read_csv('./data/sandy2012_labeled_data/03_caution-n-advice_classify-extract/a146283.csv',\n",
    "                 index_col='_unit_id')"
   ]
  },
  {
   "cell_type": "code",
   "execution_count": 17,
   "metadata": {},
   "outputs": [
    {
     "name": "stdout",
     "output_type": "stream",
     "text": [
      "<class 'pandas.core.frame.DataFrame'>\n",
      "Int64Index: 126 entries, 227175857 to 227175999\n",
      "Data columns (total 20 columns):\n",
      "_golden                                 126 non-null bool\n",
      "_unit_state                             126 non-null object\n",
      "_trusted_judgments                      126 non-null int64\n",
      "_last_judgment_at                       126 non-null object\n",
      "source                                  122 non-null object\n",
      "type_of_advice_or_caution               126 non-null object\n",
      "type_of_advice_or_caution:confidence    126 non-null float64\n",
      "what                                    126 non-null object\n",
      "when                                    123 non-null object\n",
      "where                                   126 non-null object\n",
      "category                                126 non-null object\n",
      "source_gold                             5 non-null object\n",
      "text_no_rt                              126 non-null object\n",
      "tweet                                   126 non-null object\n",
      "type                                    126 non-null object\n",
      "type_of_advice_or_caution_gold          13 non-null object\n",
      "user                                    126 non-null object\n",
      "what_gold                               13 non-null object\n",
      "when_gold                               9 non-null object\n",
      "where_gold                              11 non-null object\n",
      "dtypes: bool(1), float64(1), int64(1), object(17)\n",
      "memory usage: 19.8+ KB\n"
     ]
    }
   ],
   "source": [
    "df3.info()"
   ]
  },
  {
   "cell_type": "code",
   "execution_count": 18,
   "metadata": {
    "scrolled": true
   },
   "outputs": [
    {
     "data": {
      "text/html": [
       "<div>\n",
       "<style scoped>\n",
       "    .dataframe tbody tr th:only-of-type {\n",
       "        vertical-align: middle;\n",
       "    }\n",
       "\n",
       "    .dataframe tbody tr th {\n",
       "        vertical-align: top;\n",
       "    }\n",
       "\n",
       "    .dataframe thead th {\n",
       "        text-align: right;\n",
       "    }\n",
       "</style>\n",
       "<table border=\"1\" class=\"dataframe\">\n",
       "  <thead>\n",
       "    <tr style=\"text-align: right;\">\n",
       "      <th></th>\n",
       "      <th>_golden</th>\n",
       "      <th>_unit_state</th>\n",
       "      <th>_trusted_judgments</th>\n",
       "      <th>_last_judgment_at</th>\n",
       "      <th>source</th>\n",
       "      <th>type_of_advice_or_caution</th>\n",
       "      <th>type_of_advice_or_caution:confidence</th>\n",
       "      <th>what</th>\n",
       "      <th>when</th>\n",
       "      <th>where</th>\n",
       "      <th>category</th>\n",
       "      <th>source_gold</th>\n",
       "      <th>text_no_rt</th>\n",
       "      <th>tweet</th>\n",
       "      <th>type</th>\n",
       "      <th>type_of_advice_or_caution_gold</th>\n",
       "      <th>user</th>\n",
       "      <th>what_gold</th>\n",
       "      <th>when_gold</th>\n",
       "      <th>where_gold</th>\n",
       "    </tr>\n",
       "    <tr>\n",
       "      <th>_unit_id</th>\n",
       "      <th></th>\n",
       "      <th></th>\n",
       "      <th></th>\n",
       "      <th></th>\n",
       "      <th></th>\n",
       "      <th></th>\n",
       "      <th></th>\n",
       "      <th></th>\n",
       "      <th></th>\n",
       "      <th></th>\n",
       "      <th></th>\n",
       "      <th></th>\n",
       "      <th></th>\n",
       "      <th></th>\n",
       "      <th></th>\n",
       "      <th></th>\n",
       "      <th></th>\n",
       "      <th></th>\n",
       "      <th></th>\n",
       "      <th></th>\n",
       "    </tr>\n",
       "  </thead>\n",
       "  <tbody>\n",
       "    <tr>\n",
       "      <th>227175857</th>\n",
       "      <td>True</td>\n",
       "      <td>golden</td>\n",
       "      <td>8</td>\n",
       "      <td>12/8/2012 19:09:26</td>\n",
       "      <td>#sandy\\nN/A\\nN/A\\nn/a\\nN/A\\n\\nN/A\\nn/a</td>\n",
       "      <td>A hurricane sighting has been reported</td>\n",
       "      <td>0.7629</td>\n",
       "      <td>Storm just now hitting Jersey\\nAll bridges clo...</td>\n",
       "      <td>now\\nnow\\njust now\\nn/a\\nN/A\\nnow\\nnow\\njust now</td>\n",
       "      <td>NYC &amp; Jersey\\nNYC &amp; Jersey\\nMilford\\nJersey\\nN...</td>\n",
       "      <td>Informative (Direct or Indirect)</td>\n",
       "      <td>NaN</td>\n",
       "      <td>Storm just now hitting Jersey...Milford is fee...</td>\n",
       "      <td>Storm just now hitting Jersey...Milford is fee...</td>\n",
       "      <td>Caution and advice</td>\n",
       "      <td>A hurricane sighting has been reported</td>\n",
       "      <td>beball</td>\n",
       "      <td>hitting Jersey\\nAll bridges closing in NYC &amp; J...</td>\n",
       "      <td>now</td>\n",
       "      <td>NYC\\nJersey\\nJersey\\nNYC &amp; Jersey</td>\n",
       "    </tr>\n",
       "    <tr>\n",
       "      <th>227175859</th>\n",
       "      <td>False</td>\n",
       "      <td>golden</td>\n",
       "      <td>1</td>\n",
       "      <td>11/25/2012 17:31:06</td>\n",
       "      <td>NaN</td>\n",
       "      <td>Other</td>\n",
       "      <td>1.0000</td>\n",
       "      <td>Hurricane Sandy is going to fill the subways w...</td>\n",
       "      <td>NaN</td>\n",
       "      <td>NYC</td>\n",
       "      <td>Informative (Direct or Indirect)</td>\n",
       "      <td>NaN</td>\n",
       "      <td>Hurricane Sandy is going to fill the subways w...</td>\n",
       "      <td>RT @JessieWessie33: Hurricane Sandy is going t...</td>\n",
       "      <td>Caution and advice</td>\n",
       "      <td>Other</td>\n",
       "      <td>britthanus</td>\n",
       "      <td>fill the subways with water</td>\n",
       "      <td>NaN</td>\n",
       "      <td>NYC</td>\n",
       "    </tr>\n",
       "    <tr>\n",
       "      <th>227175860</th>\n",
       "      <td>True</td>\n",
       "      <td>golden</td>\n",
       "      <td>34</td>\n",
       "      <td>12/10/2012 06:05:12</td>\n",
       "      <td>\\nn/a\\n\\n#Sandy\\nn/a\\nn/a\\n#Sandy\\n#Sandy\\n\\n\\...</td>\n",
       "      <td>A hurricane sighting has been reported</td>\n",
       "      <td>0.7427</td>\n",
       "      <td>NYC is now impacted by hurricane\\nimpacted\\nhu...</td>\n",
       "      <td>now\\nnow\\n\\nnow\\nn/a\\nn/a\\nN/A\\nnow\\n\\nnow\\nno...</td>\n",
       "      <td>NYC\\nNYC\\nNYC\\nNYC\\nNYC\\nNYC\\nNYC\\nNYC\\nNYC\\nN...</td>\n",
       "      <td>Informative (Direct or Indirect)</td>\n",
       "      <td>NaN</td>\n",
       "      <td>Omg NYC is now impacted by hurricane #Sandy</td>\n",
       "      <td>Omg NYC is now impacted by hurricane #Sandy</td>\n",
       "      <td>Caution and advice</td>\n",
       "      <td>A hurricane sighting has been reported</td>\n",
       "      <td>BuniYani</td>\n",
       "      <td>Impacted\\nNYC is now impacted by hurricane\\nim...</td>\n",
       "      <td>Now</td>\n",
       "      <td>NYC\\nNYC</td>\n",
       "    </tr>\n",
       "    <tr>\n",
       "      <th>227175862</th>\n",
       "      <td>True</td>\n",
       "      <td>golden</td>\n",
       "      <td>31</td>\n",
       "      <td>12/10/2012 06:08:53</td>\n",
       "      <td>n/a\\n\\n#Sandy\\n#Sandy\\nN/A\\n\\n\\n\\n\\nN/A\\n\\nN/A...</td>\n",
       "      <td>Other</td>\n",
       "      <td>0.9531</td>\n",
       "      <td>stock market closing\\nstock market closing for...</td>\n",
       "      <td>n/a\\n\\nna\\nN/A\\nN/A\\n\\n1988\\n\\n\\nN/A\\n\\nN/A\\ns...</td>\n",
       "      <td>stock market\\nn/a\\nna\\nN/A\\nN/A\\nN/A\\nn/a\\nn/a...</td>\n",
       "      <td>Informative (Direct or Indirect)</td>\n",
       "      <td>NaN</td>\n",
       "      <td>First time since 1888 stock market closing for...</td>\n",
       "      <td>First time since 1888 stock market closing for...</td>\n",
       "      <td>Caution and advice</td>\n",
       "      <td>Other</td>\n",
       "      <td>feverplay_xo</td>\n",
       "      <td>stock market closing\\nstock market closing for...</td>\n",
       "      <td>N/A\\nn/a</td>\n",
       "      <td>N/A\\nn/a</td>\n",
       "    </tr>\n",
       "    <tr>\n",
       "      <th>227175867</th>\n",
       "      <td>False</td>\n",
       "      <td>golden</td>\n",
       "      <td>1</td>\n",
       "      <td>11/25/2012 17:24:06</td>\n",
       "      <td>NaN</td>\n",
       "      <td>A hurricane sighting has been reported</td>\n",
       "      <td>1.0000</td>\n",
       "      <td>Hurricane Sandy</td>\n",
       "      <td>NaN</td>\n",
       "      <td>NYC</td>\n",
       "      <td>Informative (Direct or Indirect)</td>\n",
       "      <td>NaN</td>\n",
       "      <td>Hurricane Sandy or else Frankestorm heading to...</td>\n",
       "      <td>RT @KateNinaA: Hurricane Sandy or else Frankes...</td>\n",
       "      <td>Caution and advice</td>\n",
       "      <td>A hurricane sighting has been reported\\nOther</td>\n",
       "      <td>LuciiAgudo</td>\n",
       "      <td>Hurricane Sandy or else Frankestorm</td>\n",
       "      <td>NaN</td>\n",
       "      <td>heading toward NYC</td>\n",
       "    </tr>\n",
       "  </tbody>\n",
       "</table>\n",
       "</div>"
      ],
      "text/plain": [
       "           _golden _unit_state  _trusted_judgments    _last_judgment_at  \\\n",
       "_unit_id                                                                  \n",
       "227175857     True      golden                   8   12/8/2012 19:09:26   \n",
       "227175859    False      golden                   1  11/25/2012 17:31:06   \n",
       "227175860     True      golden                  34  12/10/2012 06:05:12   \n",
       "227175862     True      golden                  31  12/10/2012 06:08:53   \n",
       "227175867    False      golden                   1  11/25/2012 17:24:06   \n",
       "\n",
       "                                                      source  \\\n",
       "_unit_id                                                       \n",
       "227175857             #sandy\\nN/A\\nN/A\\nn/a\\nN/A\\n\\nN/A\\nn/a   \n",
       "227175859                                                NaN   \n",
       "227175860  \\nn/a\\n\\n#Sandy\\nn/a\\nn/a\\n#Sandy\\n#Sandy\\n\\n\\...   \n",
       "227175862  n/a\\n\\n#Sandy\\n#Sandy\\nN/A\\n\\n\\n\\n\\nN/A\\n\\nN/A...   \n",
       "227175867                                                NaN   \n",
       "\n",
       "                        type_of_advice_or_caution  \\\n",
       "_unit_id                                            \n",
       "227175857  A hurricane sighting has been reported   \n",
       "227175859                                   Other   \n",
       "227175860  A hurricane sighting has been reported   \n",
       "227175862                                   Other   \n",
       "227175867  A hurricane sighting has been reported   \n",
       "\n",
       "           type_of_advice_or_caution:confidence  \\\n",
       "_unit_id                                          \n",
       "227175857                                0.7629   \n",
       "227175859                                1.0000   \n",
       "227175860                                0.7427   \n",
       "227175862                                0.9531   \n",
       "227175867                                1.0000   \n",
       "\n",
       "                                                        what  \\\n",
       "_unit_id                                                       \n",
       "227175857  Storm just now hitting Jersey\\nAll bridges clo...   \n",
       "227175859  Hurricane Sandy is going to fill the subways w...   \n",
       "227175860  NYC is now impacted by hurricane\\nimpacted\\nhu...   \n",
       "227175862  stock market closing\\nstock market closing for...   \n",
       "227175867                                    Hurricane Sandy   \n",
       "\n",
       "                                                        when  \\\n",
       "_unit_id                                                       \n",
       "227175857   now\\nnow\\njust now\\nn/a\\nN/A\\nnow\\nnow\\njust now   \n",
       "227175859                                                NaN   \n",
       "227175860  now\\nnow\\n\\nnow\\nn/a\\nn/a\\nN/A\\nnow\\n\\nnow\\nno...   \n",
       "227175862  n/a\\n\\nna\\nN/A\\nN/A\\n\\n1988\\n\\n\\nN/A\\n\\nN/A\\ns...   \n",
       "227175867                                                NaN   \n",
       "\n",
       "                                                       where  \\\n",
       "_unit_id                                                       \n",
       "227175857  NYC & Jersey\\nNYC & Jersey\\nMilford\\nJersey\\nN...   \n",
       "227175859                                                NYC   \n",
       "227175860  NYC\\nNYC\\nNYC\\nNYC\\nNYC\\nNYC\\nNYC\\nNYC\\nNYC\\nN...   \n",
       "227175862  stock market\\nn/a\\nna\\nN/A\\nN/A\\nN/A\\nn/a\\nn/a...   \n",
       "227175867                                                NYC   \n",
       "\n",
       "                                   category source_gold  \\\n",
       "_unit_id                                                  \n",
       "227175857  Informative (Direct or Indirect)         NaN   \n",
       "227175859  Informative (Direct or Indirect)         NaN   \n",
       "227175860  Informative (Direct or Indirect)         NaN   \n",
       "227175862  Informative (Direct or Indirect)         NaN   \n",
       "227175867  Informative (Direct or Indirect)         NaN   \n",
       "\n",
       "                                                  text_no_rt  \\\n",
       "_unit_id                                                       \n",
       "227175857  Storm just now hitting Jersey...Milford is fee...   \n",
       "227175859  Hurricane Sandy is going to fill the subways w...   \n",
       "227175860        Omg NYC is now impacted by hurricane #Sandy   \n",
       "227175862  First time since 1888 stock market closing for...   \n",
       "227175867  Hurricane Sandy or else Frankestorm heading to...   \n",
       "\n",
       "                                                       tweet  \\\n",
       "_unit_id                                                       \n",
       "227175857  Storm just now hitting Jersey...Milford is fee...   \n",
       "227175859  RT @JessieWessie33: Hurricane Sandy is going t...   \n",
       "227175860        Omg NYC is now impacted by hurricane #Sandy   \n",
       "227175862  First time since 1888 stock market closing for...   \n",
       "227175867  RT @KateNinaA: Hurricane Sandy or else Frankes...   \n",
       "\n",
       "                         type                 type_of_advice_or_caution_gold  \\\n",
       "_unit_id                                                                       \n",
       "227175857  Caution and advice         A hurricane sighting has been reported   \n",
       "227175859  Caution and advice                                          Other   \n",
       "227175860  Caution and advice         A hurricane sighting has been reported   \n",
       "227175862  Caution and advice                                          Other   \n",
       "227175867  Caution and advice  A hurricane sighting has been reported\\nOther   \n",
       "\n",
       "                   user                                          what_gold  \\\n",
       "_unit_id                                                                     \n",
       "227175857        beball  hitting Jersey\\nAll bridges closing in NYC & J...   \n",
       "227175859    britthanus                        fill the subways with water   \n",
       "227175860      BuniYani  Impacted\\nNYC is now impacted by hurricane\\nim...   \n",
       "227175862  feverplay_xo  stock market closing\\nstock market closing for...   \n",
       "227175867    LuciiAgudo                Hurricane Sandy or else Frankestorm   \n",
       "\n",
       "          when_gold                         where_gold  \n",
       "_unit_id                                                \n",
       "227175857       now  NYC\\nJersey\\nJersey\\nNYC & Jersey  \n",
       "227175859       NaN                                NYC  \n",
       "227175860       Now                           NYC\\nNYC  \n",
       "227175862  N/A\\nn/a                           N/A\\nn/a  \n",
       "227175867       NaN                 heading toward NYC  "
      ]
     },
     "execution_count": 18,
     "metadata": {},
     "output_type": "execute_result"
    }
   ],
   "source": [
    "df3.head()"
   ]
  },
  {
   "cell_type": "code",
   "execution_count": 20,
   "metadata": {},
   "outputs": [],
   "source": [
    "df4 = pd.read_csv('./data/sandy2012_labeled_data/03_damage-n-casualties_classify-extract/a146281.csv',\n",
    "                 index_col='_unit_id')"
   ]
  },
  {
   "cell_type": "code",
   "execution_count": 21,
   "metadata": {},
   "outputs": [
    {
     "name": "stdout",
     "output_type": "stream",
     "text": [
      "<class 'pandas.core.frame.DataFrame'>\n",
      "Int64Index: 170 entries, 227175113 to 227175284\n",
      "Data columns (total 16 columns):\n",
      "_golden                                                   170 non-null bool\n",
      "_unit_state                                               170 non-null object\n",
      "_trusted_judgments                                        170 non-null int64\n",
      "_last_judgment_at                                         170 non-null object\n",
      "hom_many_injured_or_dead_if_people                        170 non-null object\n",
      "people_or_infrastructure                                  170 non-null object\n",
      "people_or_infrastructure:confidence                       170 non-null float64\n",
      "what_infrastructure_was_damaged_if_infrastructure         170 non-null object\n",
      "category                                                  170 non-null object\n",
      "hom_many_injured_or_dead_if_people_gold                   12 non-null object\n",
      "people_or_infrastructure_gold                             32 non-null object\n",
      "text_no_rt                                                170 non-null object\n",
      "tweet                                                     170 non-null object\n",
      "type                                                      170 non-null object\n",
      "user                                                      170 non-null object\n",
      "what_infrastructure_was_damaged_if_infrastructure_gold    21 non-null object\n",
      "dtypes: bool(1), float64(1), int64(1), object(13)\n",
      "memory usage: 21.4+ KB\n"
     ]
    }
   ],
   "source": [
    "df4.info()"
   ]
  },
  {
   "cell_type": "code",
   "execution_count": 26,
   "metadata": {},
   "outputs": [],
   "source": [
    "harvey = pd.read_csv('./data/annotations/hurricane_harvey_final_data.tsv',delimiter='\\t')"
   ]
  },
  {
   "cell_type": "code",
   "execution_count": 28,
   "metadata": {},
   "outputs": [
    {
     "name": "stdout",
     "output_type": "stream",
     "text": [
      "<class 'pandas.core.frame.DataFrame'>\n",
      "RangeIndex: 4443 entries, 0 to 4442\n",
      "Data columns (total 15 columns):\n",
      "tweet_id             4443 non-null int64\n",
      "image_id             4443 non-null object\n",
      "text_info            4443 non-null object\n",
      "text_info_conf       4443 non-null float64\n",
      "image_info           4443 non-null object\n",
      "image_info_conf      4443 non-null float64\n",
      "text_human           3533 non-null object\n",
      "text_human_conf      3533 non-null float64\n",
      "image_human          3533 non-null object\n",
      "image_human_conf     3533 non-null float64\n",
      "image_damage         916 non-null object\n",
      "image_damage_conf    916 non-null float64\n",
      "tweet_text           4443 non-null object\n",
      "image_url            4443 non-null object\n",
      "image_path           4443 non-null object\n",
      "dtypes: float64(5), int64(1), object(9)\n",
      "memory usage: 520.7+ KB\n"
     ]
    }
   ],
   "source": [
    "harvey.info()"
   ]
  },
  {
   "cell_type": "code",
   "execution_count": 29,
   "metadata": {},
   "outputs": [
    {
     "data": {
      "text/plain": [
       "informative        3334\n",
       "not_informative    1109\n",
       "Name: text_info, dtype: int64"
      ]
     },
     "execution_count": 29,
     "metadata": {},
     "output_type": "execute_result"
    }
   ],
   "source": [
    "harvey.text_info.value_counts()"
   ]
  },
  {
   "cell_type": "code",
   "execution_count": 30,
   "metadata": {},
   "outputs": [
    {
     "data": {
      "text/plain": [
       "other_relevant_information                1540\n",
       "rescue_volunteering_or_donation_effort    1153\n",
       "infrastructure_and_utility_damage          377\n",
       "not_relevant_or_cant_judge                 199\n",
       "affected_individuals                       167\n",
       "injured_or_dead_people                      71\n",
       "vehicle_damage                              25\n",
       "missing_or_found_people                      1\n",
       "Name: text_human, dtype: int64"
      ]
     },
     "execution_count": 30,
     "metadata": {},
     "output_type": "execute_result"
    }
   ],
   "source": [
    "harvey.text_human.value_counts()"
   ]
  },
  {
   "cell_type": "code",
   "execution_count": 27,
   "metadata": {},
   "outputs": [
    {
     "data": {
      "text/html": [
       "<div>\n",
       "<style scoped>\n",
       "    .dataframe tbody tr th:only-of-type {\n",
       "        vertical-align: middle;\n",
       "    }\n",
       "\n",
       "    .dataframe tbody tr th {\n",
       "        vertical-align: top;\n",
       "    }\n",
       "\n",
       "    .dataframe thead th {\n",
       "        text-align: right;\n",
       "    }\n",
       "</style>\n",
       "<table border=\"1\" class=\"dataframe\">\n",
       "  <thead>\n",
       "    <tr style=\"text-align: right;\">\n",
       "      <th></th>\n",
       "      <th>tweet_id</th>\n",
       "      <th>image_id</th>\n",
       "      <th>text_info</th>\n",
       "      <th>text_info_conf</th>\n",
       "      <th>image_info</th>\n",
       "      <th>image_info_conf</th>\n",
       "      <th>text_human</th>\n",
       "      <th>text_human_conf</th>\n",
       "      <th>image_human</th>\n",
       "      <th>image_human_conf</th>\n",
       "      <th>image_damage</th>\n",
       "      <th>image_damage_conf</th>\n",
       "      <th>tweet_text</th>\n",
       "      <th>image_url</th>\n",
       "      <th>image_path</th>\n",
       "    </tr>\n",
       "  </thead>\n",
       "  <tbody>\n",
       "    <tr>\n",
       "      <th>0</th>\n",
       "      <td>905274232590004225</td>\n",
       "      <td>901671684478029825_0</td>\n",
       "      <td>not_informative</td>\n",
       "      <td>1.0000</td>\n",
       "      <td>informative</td>\n",
       "      <td>1.0</td>\n",
       "      <td>not_relevant_or_cant_judge</td>\n",
       "      <td>1.0000</td>\n",
       "      <td>infrastructure_and_utility_damage</td>\n",
       "      <td>1.0</td>\n",
       "      <td>severe_damage</td>\n",
       "      <td>1.0000</td>\n",
       "      <td>CONGRATS ON HITTING YOIR GOAL GUYS, I'm sure t...</td>\n",
       "      <td>http://pbs.twimg.com/media/DINhGs8XcAE1H7q.jpg</td>\n",
       "      <td>data_image/hurricane_harvey/27_8_2017/90167168...</td>\n",
       "    </tr>\n",
       "    <tr>\n",
       "      <th>1</th>\n",
       "      <td>901646074527535105</td>\n",
       "      <td>901646074527535105_0</td>\n",
       "      <td>informative</td>\n",
       "      <td>0.6822</td>\n",
       "      <td>informative</td>\n",
       "      <td>1.0</td>\n",
       "      <td>injured_or_dead_people</td>\n",
       "      <td>0.6822</td>\n",
       "      <td>infrastructure_and_utility_damage</td>\n",
       "      <td>1.0</td>\n",
       "      <td>severe_damage</td>\n",
       "      <td>0.6728</td>\n",
       "      <td>RT @ajwamood: #ajwamood : Harvey the first maj...</td>\n",
       "      <td>http://pbs.twimg.com/media/DILxh_xWAAAfJDY.jpg</td>\n",
       "      <td>data_image/hurricane_harvey/27_8_2017/90164607...</td>\n",
       "    </tr>\n",
       "    <tr>\n",
       "      <th>2</th>\n",
       "      <td>901646074527535105</td>\n",
       "      <td>901646074527535105_1</td>\n",
       "      <td>informative</td>\n",
       "      <td>0.6822</td>\n",
       "      <td>informative</td>\n",
       "      <td>1.0</td>\n",
       "      <td>injured_or_dead_people</td>\n",
       "      <td>0.6822</td>\n",
       "      <td>infrastructure_and_utility_damage</td>\n",
       "      <td>1.0</td>\n",
       "      <td>severe_damage</td>\n",
       "      <td>1.0000</td>\n",
       "      <td>RT @ajwamood: #ajwamood : Harvey the first maj...</td>\n",
       "      <td>http://pbs.twimg.com/media/DILxiisXYAAokz_.jpg</td>\n",
       "      <td>data_image/hurricane_harvey/27_8_2017/90164607...</td>\n",
       "    </tr>\n",
       "    <tr>\n",
       "      <th>3</th>\n",
       "      <td>901646074527535105</td>\n",
       "      <td>901646074527535105_2</td>\n",
       "      <td>informative</td>\n",
       "      <td>0.6822</td>\n",
       "      <td>informative</td>\n",
       "      <td>1.0</td>\n",
       "      <td>injured_or_dead_people</td>\n",
       "      <td>0.6822</td>\n",
       "      <td>infrastructure_and_utility_damage</td>\n",
       "      <td>1.0</td>\n",
       "      <td>severe_damage</td>\n",
       "      <td>0.6528</td>\n",
       "      <td>RT @ajwamood: #ajwamood : Harvey the first maj...</td>\n",
       "      <td>http://pbs.twimg.com/media/DILxjSUWAAEIaWH.jpg</td>\n",
       "      <td>data_image/hurricane_harvey/27_8_2017/90164607...</td>\n",
       "    </tr>\n",
       "    <tr>\n",
       "      <th>4</th>\n",
       "      <td>901646074527535105</td>\n",
       "      <td>901646074527535105_3</td>\n",
       "      <td>informative</td>\n",
       "      <td>0.6822</td>\n",
       "      <td>informative</td>\n",
       "      <td>1.0</td>\n",
       "      <td>injured_or_dead_people</td>\n",
       "      <td>0.6822</td>\n",
       "      <td>infrastructure_and_utility_damage</td>\n",
       "      <td>1.0</td>\n",
       "      <td>severe_damage</td>\n",
       "      <td>0.6812</td>\n",
       "      <td>RT @ajwamood: #ajwamood : Harvey the first maj...</td>\n",
       "      <td>http://pbs.twimg.com/media/DILxkWJXgAANF-E.jpg</td>\n",
       "      <td>data_image/hurricane_harvey/27_8_2017/90164607...</td>\n",
       "    </tr>\n",
       "  </tbody>\n",
       "</table>\n",
       "</div>"
      ],
      "text/plain": [
       "             tweet_id              image_id        text_info  text_info_conf  \\\n",
       "0  905274232590004225  901671684478029825_0  not_informative          1.0000   \n",
       "1  901646074527535105  901646074527535105_0      informative          0.6822   \n",
       "2  901646074527535105  901646074527535105_1      informative          0.6822   \n",
       "3  901646074527535105  901646074527535105_2      informative          0.6822   \n",
       "4  901646074527535105  901646074527535105_3      informative          0.6822   \n",
       "\n",
       "    image_info  image_info_conf                  text_human  text_human_conf  \\\n",
       "0  informative              1.0  not_relevant_or_cant_judge           1.0000   \n",
       "1  informative              1.0      injured_or_dead_people           0.6822   \n",
       "2  informative              1.0      injured_or_dead_people           0.6822   \n",
       "3  informative              1.0      injured_or_dead_people           0.6822   \n",
       "4  informative              1.0      injured_or_dead_people           0.6822   \n",
       "\n",
       "                         image_human  image_human_conf   image_damage  \\\n",
       "0  infrastructure_and_utility_damage               1.0  severe_damage   \n",
       "1  infrastructure_and_utility_damage               1.0  severe_damage   \n",
       "2  infrastructure_and_utility_damage               1.0  severe_damage   \n",
       "3  infrastructure_and_utility_damage               1.0  severe_damage   \n",
       "4  infrastructure_and_utility_damage               1.0  severe_damage   \n",
       "\n",
       "   image_damage_conf                                         tweet_text  \\\n",
       "0             1.0000  CONGRATS ON HITTING YOIR GOAL GUYS, I'm sure t...   \n",
       "1             0.6728  RT @ajwamood: #ajwamood : Harvey the first maj...   \n",
       "2             1.0000  RT @ajwamood: #ajwamood : Harvey the first maj...   \n",
       "3             0.6528  RT @ajwamood: #ajwamood : Harvey the first maj...   \n",
       "4             0.6812  RT @ajwamood: #ajwamood : Harvey the first maj...   \n",
       "\n",
       "                                        image_url  \\\n",
       "0  http://pbs.twimg.com/media/DINhGs8XcAE1H7q.jpg   \n",
       "1  http://pbs.twimg.com/media/DILxh_xWAAAfJDY.jpg   \n",
       "2  http://pbs.twimg.com/media/DILxiisXYAAokz_.jpg   \n",
       "3  http://pbs.twimg.com/media/DILxjSUWAAEIaWH.jpg   \n",
       "4  http://pbs.twimg.com/media/DILxkWJXgAANF-E.jpg   \n",
       "\n",
       "                                          image_path  \n",
       "0  data_image/hurricane_harvey/27_8_2017/90167168...  \n",
       "1  data_image/hurricane_harvey/27_8_2017/90164607...  \n",
       "2  data_image/hurricane_harvey/27_8_2017/90164607...  \n",
       "3  data_image/hurricane_harvey/27_8_2017/90164607...  \n",
       "4  data_image/hurricane_harvey/27_8_2017/90164607...  "
      ]
     },
     "execution_count": 27,
     "metadata": {},
     "output_type": "execute_result"
    }
   ],
   "source": [
    "harvey.head()"
   ]
  },
  {
   "cell_type": "code",
   "execution_count": 31,
   "metadata": {},
   "outputs": [],
   "source": [
    "irma = pd.read_csv('./data/annotations/hurricane_irma_final_data.tsv',delimiter='\\t')"
   ]
  },
  {
   "cell_type": "code",
   "execution_count": 32,
   "metadata": {},
   "outputs": [
    {
     "name": "stdout",
     "output_type": "stream",
     "text": [
      "<class 'pandas.core.frame.DataFrame'>\n",
      "RangeIndex: 4525 entries, 0 to 4524\n",
      "Data columns (total 15 columns):\n",
      "tweet_id             4525 non-null int64\n",
      "image_id             4525 non-null object\n",
      "text_info            4525 non-null object\n",
      "text_info_conf       4525 non-null float64\n",
      "image_info           4525 non-null object\n",
      "image_info_conf      4525 non-null float64\n",
      "text_human           3754 non-null object\n",
      "text_human_conf      3754 non-null float64\n",
      "image_human          3754 non-null object\n",
      "image_human_conf     3754 non-null float64\n",
      "image_damage         819 non-null object\n",
      "image_damage_conf    819 non-null float64\n",
      "tweet_text           4525 non-null object\n",
      "image_url            4525 non-null object\n",
      "image_path           4525 non-null object\n",
      "dtypes: float64(5), int64(1), object(9)\n",
      "memory usage: 530.4+ KB\n"
     ]
    }
   ],
   "source": [
    "irma.info()"
   ]
  },
  {
   "cell_type": "code",
   "execution_count": 33,
   "metadata": {},
   "outputs": [
    {
     "data": {
      "text/plain": [
       "informative                3564\n",
       "not_informative             957\n",
       "dont_know_or_cant_judge       4\n",
       "Name: text_info, dtype: int64"
      ]
     },
     "execution_count": 33,
     "metadata": {},
     "output_type": "execute_result"
    }
   ],
   "source": [
    "irma.text_info.value_counts()"
   ]
  },
  {
   "cell_type": "code",
   "execution_count": 34,
   "metadata": {},
   "outputs": [
    {
     "data": {
      "text/plain": [
       "other_relevant_information                2126\n",
       "rescue_volunteering_or_donation_effort     830\n",
       "infrastructure_and_utility_damage          416\n",
       "not_relevant_or_cant_judge                 190\n",
       "affected_individuals                       100\n",
       "injured_or_dead_people                      62\n",
       "vehicle_damage                              24\n",
       "missing_or_found_people                      6\n",
       "Name: text_human, dtype: int64"
      ]
     },
     "execution_count": 34,
     "metadata": {},
     "output_type": "execute_result"
    }
   ],
   "source": [
    "irma.text_human.value_counts()"
   ]
  },
  {
   "cell_type": "code",
   "execution_count": 35,
   "metadata": {},
   "outputs": [],
   "source": [
    "maria = pd.read_csv('./data/annotations/hurricane_maria_final_data.tsv',delimiter='\\t')"
   ]
  },
  {
   "cell_type": "code",
   "execution_count": 37,
   "metadata": {},
   "outputs": [
    {
     "data": {
      "text/plain": [
       "informative        2844\n",
       "not_informative    1718\n",
       "Name: text_info, dtype: int64"
      ]
     },
     "execution_count": 37,
     "metadata": {},
     "output_type": "execute_result"
    }
   ],
   "source": [
    "maria.text_info.value_counts()"
   ]
  },
  {
   "cell_type": "code",
   "execution_count": 36,
   "metadata": {},
   "outputs": [
    {
     "data": {
      "text/plain": [
       "other_relevant_information                1382\n",
       "rescue_volunteering_or_donation_effort    1032\n",
       "not_relevant_or_cant_judge                 419\n",
       "infrastructure_and_utility_damage          290\n",
       "affected_individuals                        89\n",
       "injured_or_dead_people                      34\n",
       "missing_or_found_people                      9\n",
       "vehicle_damage                               8\n",
       "Name: text_human, dtype: int64"
      ]
     },
     "execution_count": 36,
     "metadata": {},
     "output_type": "execute_result"
    }
   ],
   "source": [
    "maria.text_human.value_counts()"
   ]
  }
 ],
 "metadata": {
  "kernelspec": {
   "display_name": "Python 3",
   "language": "python",
   "name": "python3"
  },
  "language_info": {
   "codemirror_mode": {
    "name": "ipython",
    "version": 3
   },
   "file_extension": ".py",
   "mimetype": "text/x-python",
   "name": "python",
   "nbconvert_exporter": "python",
   "pygments_lexer": "ipython3",
   "version": "3.6.5"
  }
 },
 "nbformat": 4,
 "nbformat_minor": 2
}
