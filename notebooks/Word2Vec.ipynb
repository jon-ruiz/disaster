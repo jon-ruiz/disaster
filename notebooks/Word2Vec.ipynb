{
 "cells": [
  {
   "cell_type": "code",
   "execution_count": 2,
   "metadata": {},
   "outputs": [
    {
     "name": "stderr",
     "output_type": "stream",
     "text": [
      "C:\\Users\\Michelle\\Anaconda3\\envs\\dsi\\lib\\site-packages\\smart_open\\ssh.py:34: UserWarning: paramiko missing, opening SSH/SCP/SFTP paths will be disabled.  `pip install paramiko` to suppress\n",
      "  warnings.warn('paramiko missing, opening SSH/SCP/SFTP paths will be disabled.  `pip install paramiko` to suppress')\n"
     ]
    },
    {
     "name": "stdout",
     "output_type": "stream",
     "text": [
      "106.21171402931213\n"
     ]
    }
   ],
   "source": [
    "import pandas as pd\n",
    "import numpy as np\n",
    "import time\n",
    "import gensim\n",
    "from gensim.models.word2vec import Word2Vec\n",
    "import gensim.downloader as api\n",
    "\n",
    "# Start timer.\n",
    "t0 = time.time() # TIME.TIME GRABS CURRENT TIME OF RUNNINGN THIS CODE\n",
    "\n",
    "# Import word vectors into \"model.\"\n",
    "model = gensim.models.KeyedVectors.load_word2vec_format('./lexvec.enwiki+newscrawl.300d.W.pos.vectors')\n",
    "\n",
    "# Print results of timer.\n",
    "print(time.time() - t0)"
   ]
  },
  {
   "cell_type": "markdown",
   "metadata": {},
   "source": [
    "## Read `train` pickle: includes tweets from Hurricane Harvey, Hurricane Maria, and Hurricane Irma\n",
    " - This dataset includes data labeled for images"
   ]
  },
  {
   "cell_type": "code",
   "execution_count": 3,
   "metadata": {},
   "outputs": [],
   "source": [
    "train_1 = pd.read_pickle('./train.pkl')"
   ]
  },
  {
   "cell_type": "code",
   "execution_count": 4,
   "metadata": {},
   "outputs": [
    {
     "data": {
      "text/html": [
       "<div>\n",
       "<style scoped>\n",
       "    .dataframe tbody tr th:only-of-type {\n",
       "        vertical-align: middle;\n",
       "    }\n",
       "\n",
       "    .dataframe tbody tr th {\n",
       "        vertical-align: top;\n",
       "    }\n",
       "\n",
       "    .dataframe thead th {\n",
       "        text-align: right;\n",
       "    }\n",
       "</style>\n",
       "<table border=\"1\" class=\"dataframe\">\n",
       "  <thead>\n",
       "    <tr style=\"text-align: right;\">\n",
       "      <th></th>\n",
       "      <th>tweet_id</th>\n",
       "      <th>image_id</th>\n",
       "      <th>text_info</th>\n",
       "      <th>text_info_conf</th>\n",
       "      <th>image_info</th>\n",
       "      <th>image_info_conf</th>\n",
       "      <th>text_human</th>\n",
       "      <th>text_human_conf</th>\n",
       "      <th>image_human</th>\n",
       "      <th>image_human_conf</th>\n",
       "      <th>image_damage</th>\n",
       "      <th>image_damage_conf</th>\n",
       "      <th>tweet_text</th>\n",
       "      <th>image_url</th>\n",
       "      <th>image_path</th>\n",
       "      <th>event</th>\n",
       "    </tr>\n",
       "  </thead>\n",
       "  <tbody>\n",
       "    <tr>\n",
       "      <th>0</th>\n",
       "      <td>905274232590004225</td>\n",
       "      <td>901671684478029825_0</td>\n",
       "      <td>not_informative</td>\n",
       "      <td>1.0000</td>\n",
       "      <td>informative</td>\n",
       "      <td>1.0</td>\n",
       "      <td>not_relevant_or_cant_judge</td>\n",
       "      <td>1.0000</td>\n",
       "      <td>infrastructure_and_utility_damage</td>\n",
       "      <td>1.0</td>\n",
       "      <td>severe_damage</td>\n",
       "      <td>1.0000</td>\n",
       "      <td>CONGRATS ON HITTING YOIR GOAL GUYS, I'm sure t...</td>\n",
       "      <td>http://pbs.twimg.com/media/DINhGs8XcAE1H7q.jpg</td>\n",
       "      <td>data_image/hurricane_harvey/27_8_2017/90167168...</td>\n",
       "      <td>harvey</td>\n",
       "    </tr>\n",
       "    <tr>\n",
       "      <th>1</th>\n",
       "      <td>901646074527535105</td>\n",
       "      <td>901646074527535105_0</td>\n",
       "      <td>informative</td>\n",
       "      <td>0.6822</td>\n",
       "      <td>informative</td>\n",
       "      <td>1.0</td>\n",
       "      <td>injured_or_dead_people</td>\n",
       "      <td>0.6822</td>\n",
       "      <td>infrastructure_and_utility_damage</td>\n",
       "      <td>1.0</td>\n",
       "      <td>severe_damage</td>\n",
       "      <td>0.6728</td>\n",
       "      <td>RT @ajwamood: #ajwamood : Harvey the first maj...</td>\n",
       "      <td>http://pbs.twimg.com/media/DILxh_xWAAAfJDY.jpg</td>\n",
       "      <td>data_image/hurricane_harvey/27_8_2017/90164607...</td>\n",
       "      <td>harvey</td>\n",
       "    </tr>\n",
       "  </tbody>\n",
       "</table>\n",
       "</div>"
      ],
      "text/plain": [
       "             tweet_id              image_id        text_info  text_info_conf  \\\n",
       "0  905274232590004225  901671684478029825_0  not_informative          1.0000   \n",
       "1  901646074527535105  901646074527535105_0      informative          0.6822   \n",
       "\n",
       "    image_info  image_info_conf                  text_human  text_human_conf  \\\n",
       "0  informative              1.0  not_relevant_or_cant_judge           1.0000   \n",
       "1  informative              1.0      injured_or_dead_people           0.6822   \n",
       "\n",
       "                         image_human  image_human_conf   image_damage  \\\n",
       "0  infrastructure_and_utility_damage               1.0  severe_damage   \n",
       "1  infrastructure_and_utility_damage               1.0  severe_damage   \n",
       "\n",
       "   image_damage_conf                                         tweet_text  \\\n",
       "0             1.0000  CONGRATS ON HITTING YOIR GOAL GUYS, I'm sure t...   \n",
       "1             0.6728  RT @ajwamood: #ajwamood : Harvey the first maj...   \n",
       "\n",
       "                                        image_url  \\\n",
       "0  http://pbs.twimg.com/media/DINhGs8XcAE1H7q.jpg   \n",
       "1  http://pbs.twimg.com/media/DILxh_xWAAAfJDY.jpg   \n",
       "\n",
       "                                          image_path   event  \n",
       "0  data_image/hurricane_harvey/27_8_2017/90167168...  harvey  \n",
       "1  data_image/hurricane_harvey/27_8_2017/90164607...  harvey  "
      ]
     },
     "execution_count": 4,
     "metadata": {},
     "output_type": "execute_result"
    }
   ],
   "source": [
    "train_1.head(2)"
   ]
  },
  {
   "cell_type": "code",
   "execution_count": 5,
   "metadata": {},
   "outputs": [
    {
     "data": {
      "text/plain": [
       "(13530, 16)"
      ]
     },
     "execution_count": 5,
     "metadata": {},
     "output_type": "execute_result"
    }
   ],
   "source": [
    "train_1.shape"
   ]
  },
  {
   "cell_type": "markdown",
   "metadata": {},
   "source": [
    "### Remove duplicates"
   ]
  },
  {
   "cell_type": "code",
   "execution_count": 6,
   "metadata": {},
   "outputs": [],
   "source": [
    "train_1.drop_duplicates(inplace=True)"
   ]
  },
  {
   "cell_type": "code",
   "execution_count": 7,
   "metadata": {},
   "outputs": [
    {
     "data": {
      "text/plain": [
       "(13530, 16)"
      ]
     },
     "execution_count": 7,
     "metadata": {},
     "output_type": "execute_result"
    }
   ],
   "source": [
    "train_1.shape"
   ]
  },
  {
   "cell_type": "markdown",
   "metadata": {},
   "source": [
    "### Binarize target column `text_info`"
   ]
  },
  {
   "cell_type": "code",
   "execution_count": 8,
   "metadata": {},
   "outputs": [
    {
     "data": {
      "text/plain": [
       "informative                9742\n",
       "not_informative            3784\n",
       "dont_know_or_cant_judge       4\n",
       "Name: text_info, dtype: int64"
      ]
     },
     "execution_count": 8,
     "metadata": {},
     "output_type": "execute_result"
    }
   ],
   "source": [
    "train_1['text_info'].value_counts()"
   ]
  },
  {
   "cell_type": "code",
   "execution_count": 9,
   "metadata": {},
   "outputs": [],
   "source": [
    "train_1 = train_1[train_1.text_info != 'dont_know_or_cant_judge']"
   ]
  },
  {
   "cell_type": "code",
   "execution_count": 10,
   "metadata": {},
   "outputs": [
    {
     "data": {
      "text/plain": [
       "informative        9742\n",
       "not_informative    3784\n",
       "Name: text_info, dtype: int64"
      ]
     },
     "execution_count": 10,
     "metadata": {},
     "output_type": "execute_result"
    }
   ],
   "source": [
    "train_1['text_info'].value_counts()"
   ]
  },
  {
   "cell_type": "code",
   "execution_count": 11,
   "metadata": {
    "scrolled": true
   },
   "outputs": [
    {
     "data": {
      "text/html": [
       "<div>\n",
       "<style scoped>\n",
       "    .dataframe tbody tr th:only-of-type {\n",
       "        vertical-align: middle;\n",
       "    }\n",
       "\n",
       "    .dataframe tbody tr th {\n",
       "        vertical-align: top;\n",
       "    }\n",
       "\n",
       "    .dataframe thead th {\n",
       "        text-align: right;\n",
       "    }\n",
       "</style>\n",
       "<table border=\"1\" class=\"dataframe\">\n",
       "  <thead>\n",
       "    <tr style=\"text-align: right;\">\n",
       "      <th></th>\n",
       "      <th>tweet_id</th>\n",
       "      <th>image_id</th>\n",
       "      <th>text_info</th>\n",
       "      <th>text_info_conf</th>\n",
       "      <th>image_info</th>\n",
       "      <th>image_info_conf</th>\n",
       "      <th>text_human</th>\n",
       "      <th>text_human_conf</th>\n",
       "      <th>image_human</th>\n",
       "      <th>image_human_conf</th>\n",
       "      <th>image_damage</th>\n",
       "      <th>image_damage_conf</th>\n",
       "      <th>tweet_text</th>\n",
       "      <th>image_url</th>\n",
       "      <th>image_path</th>\n",
       "      <th>event</th>\n",
       "      <th>informative</th>\n",
       "    </tr>\n",
       "  </thead>\n",
       "  <tbody>\n",
       "    <tr>\n",
       "      <th>0</th>\n",
       "      <td>905274232590004225</td>\n",
       "      <td>901671684478029825_0</td>\n",
       "      <td>not_informative</td>\n",
       "      <td>1.0000</td>\n",
       "      <td>informative</td>\n",
       "      <td>1.0</td>\n",
       "      <td>not_relevant_or_cant_judge</td>\n",
       "      <td>1.0000</td>\n",
       "      <td>infrastructure_and_utility_damage</td>\n",
       "      <td>1.0</td>\n",
       "      <td>severe_damage</td>\n",
       "      <td>1.0000</td>\n",
       "      <td>CONGRATS ON HITTING YOIR GOAL GUYS, I'm sure t...</td>\n",
       "      <td>http://pbs.twimg.com/media/DINhGs8XcAE1H7q.jpg</td>\n",
       "      <td>data_image/hurricane_harvey/27_8_2017/90167168...</td>\n",
       "      <td>harvey</td>\n",
       "      <td>0</td>\n",
       "    </tr>\n",
       "    <tr>\n",
       "      <th>1</th>\n",
       "      <td>901646074527535105</td>\n",
       "      <td>901646074527535105_0</td>\n",
       "      <td>informative</td>\n",
       "      <td>0.6822</td>\n",
       "      <td>informative</td>\n",
       "      <td>1.0</td>\n",
       "      <td>injured_or_dead_people</td>\n",
       "      <td>0.6822</td>\n",
       "      <td>infrastructure_and_utility_damage</td>\n",
       "      <td>1.0</td>\n",
       "      <td>severe_damage</td>\n",
       "      <td>0.6728</td>\n",
       "      <td>RT @ajwamood: #ajwamood : Harvey the first maj...</td>\n",
       "      <td>http://pbs.twimg.com/media/DILxh_xWAAAfJDY.jpg</td>\n",
       "      <td>data_image/hurricane_harvey/27_8_2017/90164607...</td>\n",
       "      <td>harvey</td>\n",
       "      <td>1</td>\n",
       "    </tr>\n",
       "    <tr>\n",
       "      <th>2</th>\n",
       "      <td>901646074527535105</td>\n",
       "      <td>901646074527535105_1</td>\n",
       "      <td>informative</td>\n",
       "      <td>0.6822</td>\n",
       "      <td>informative</td>\n",
       "      <td>1.0</td>\n",
       "      <td>injured_or_dead_people</td>\n",
       "      <td>0.6822</td>\n",
       "      <td>infrastructure_and_utility_damage</td>\n",
       "      <td>1.0</td>\n",
       "      <td>severe_damage</td>\n",
       "      <td>1.0000</td>\n",
       "      <td>RT @ajwamood: #ajwamood : Harvey the first maj...</td>\n",
       "      <td>http://pbs.twimg.com/media/DILxiisXYAAokz_.jpg</td>\n",
       "      <td>data_image/hurricane_harvey/27_8_2017/90164607...</td>\n",
       "      <td>harvey</td>\n",
       "      <td>1</td>\n",
       "    </tr>\n",
       "    <tr>\n",
       "      <th>3</th>\n",
       "      <td>901646074527535105</td>\n",
       "      <td>901646074527535105_2</td>\n",
       "      <td>informative</td>\n",
       "      <td>0.6822</td>\n",
       "      <td>informative</td>\n",
       "      <td>1.0</td>\n",
       "      <td>injured_or_dead_people</td>\n",
       "      <td>0.6822</td>\n",
       "      <td>infrastructure_and_utility_damage</td>\n",
       "      <td>1.0</td>\n",
       "      <td>severe_damage</td>\n",
       "      <td>0.6528</td>\n",
       "      <td>RT @ajwamood: #ajwamood : Harvey the first maj...</td>\n",
       "      <td>http://pbs.twimg.com/media/DILxjSUWAAEIaWH.jpg</td>\n",
       "      <td>data_image/hurricane_harvey/27_8_2017/90164607...</td>\n",
       "      <td>harvey</td>\n",
       "      <td>1</td>\n",
       "    </tr>\n",
       "    <tr>\n",
       "      <th>4</th>\n",
       "      <td>901646074527535105</td>\n",
       "      <td>901646074527535105_3</td>\n",
       "      <td>informative</td>\n",
       "      <td>0.6822</td>\n",
       "      <td>informative</td>\n",
       "      <td>1.0</td>\n",
       "      <td>injured_or_dead_people</td>\n",
       "      <td>0.6822</td>\n",
       "      <td>infrastructure_and_utility_damage</td>\n",
       "      <td>1.0</td>\n",
       "      <td>severe_damage</td>\n",
       "      <td>0.6812</td>\n",
       "      <td>RT @ajwamood: #ajwamood : Harvey the first maj...</td>\n",
       "      <td>http://pbs.twimg.com/media/DILxkWJXgAANF-E.jpg</td>\n",
       "      <td>data_image/hurricane_harvey/27_8_2017/90164607...</td>\n",
       "      <td>harvey</td>\n",
       "      <td>1</td>\n",
       "    </tr>\n",
       "  </tbody>\n",
       "</table>\n",
       "</div>"
      ],
      "text/plain": [
       "             tweet_id              image_id        text_info  text_info_conf  \\\n",
       "0  905274232590004225  901671684478029825_0  not_informative          1.0000   \n",
       "1  901646074527535105  901646074527535105_0      informative          0.6822   \n",
       "2  901646074527535105  901646074527535105_1      informative          0.6822   \n",
       "3  901646074527535105  901646074527535105_2      informative          0.6822   \n",
       "4  901646074527535105  901646074527535105_3      informative          0.6822   \n",
       "\n",
       "    image_info  image_info_conf                  text_human  text_human_conf  \\\n",
       "0  informative              1.0  not_relevant_or_cant_judge           1.0000   \n",
       "1  informative              1.0      injured_or_dead_people           0.6822   \n",
       "2  informative              1.0      injured_or_dead_people           0.6822   \n",
       "3  informative              1.0      injured_or_dead_people           0.6822   \n",
       "4  informative              1.0      injured_or_dead_people           0.6822   \n",
       "\n",
       "                         image_human  image_human_conf   image_damage  \\\n",
       "0  infrastructure_and_utility_damage               1.0  severe_damage   \n",
       "1  infrastructure_and_utility_damage               1.0  severe_damage   \n",
       "2  infrastructure_and_utility_damage               1.0  severe_damage   \n",
       "3  infrastructure_and_utility_damage               1.0  severe_damage   \n",
       "4  infrastructure_and_utility_damage               1.0  severe_damage   \n",
       "\n",
       "   image_damage_conf                                         tweet_text  \\\n",
       "0             1.0000  CONGRATS ON HITTING YOIR GOAL GUYS, I'm sure t...   \n",
       "1             0.6728  RT @ajwamood: #ajwamood : Harvey the first maj...   \n",
       "2             1.0000  RT @ajwamood: #ajwamood : Harvey the first maj...   \n",
       "3             0.6528  RT @ajwamood: #ajwamood : Harvey the first maj...   \n",
       "4             0.6812  RT @ajwamood: #ajwamood : Harvey the first maj...   \n",
       "\n",
       "                                        image_url  \\\n",
       "0  http://pbs.twimg.com/media/DINhGs8XcAE1H7q.jpg   \n",
       "1  http://pbs.twimg.com/media/DILxh_xWAAAfJDY.jpg   \n",
       "2  http://pbs.twimg.com/media/DILxiisXYAAokz_.jpg   \n",
       "3  http://pbs.twimg.com/media/DILxjSUWAAEIaWH.jpg   \n",
       "4  http://pbs.twimg.com/media/DILxkWJXgAANF-E.jpg   \n",
       "\n",
       "                                          image_path   event  informative  \n",
       "0  data_image/hurricane_harvey/27_8_2017/90167168...  harvey            0  \n",
       "1  data_image/hurricane_harvey/27_8_2017/90164607...  harvey            1  \n",
       "2  data_image/hurricane_harvey/27_8_2017/90164607...  harvey            1  \n",
       "3  data_image/hurricane_harvey/27_8_2017/90164607...  harvey            1  \n",
       "4  data_image/hurricane_harvey/27_8_2017/90164607...  harvey            1  "
      ]
     },
     "execution_count": 11,
     "metadata": {},
     "output_type": "execute_result"
    }
   ],
   "source": [
    "train_1['informative'] = train_1.text_info.map(lambda x: 1 if x == 'informative' else 0)\n",
    "train_1.head()"
   ]
  },
  {
   "cell_type": "code",
   "execution_count": 12,
   "metadata": {},
   "outputs": [
    {
     "data": {
      "text/plain": [
       "\"CONGRATS ON HITTING YOIR GOAL GUYS, I'm sure the victims of Harvey will appreciate it greatly https://t.co/daPhXZvhuY\""
      ]
     },
     "execution_count": 12,
     "metadata": {},
     "output_type": "execute_result"
    }
   ],
   "source": [
    "train_1['tweet_text'].iloc[0]"
   ]
  },
  {
   "cell_type": "markdown",
   "metadata": {},
   "source": [
    "### Extract columns for X"
   ]
  },
  {
   "cell_type": "code",
   "execution_count": 13,
   "metadata": {},
   "outputs": [],
   "source": [
    "train_1_for_X = train_1[['tweet_text', 'informative']]"
   ]
  },
  {
   "cell_type": "code",
   "execution_count": 14,
   "metadata": {},
   "outputs": [
    {
     "data": {
      "text/html": [
       "<div>\n",
       "<style scoped>\n",
       "    .dataframe tbody tr th:only-of-type {\n",
       "        vertical-align: middle;\n",
       "    }\n",
       "\n",
       "    .dataframe tbody tr th {\n",
       "        vertical-align: top;\n",
       "    }\n",
       "\n",
       "    .dataframe thead th {\n",
       "        text-align: right;\n",
       "    }\n",
       "</style>\n",
       "<table border=\"1\" class=\"dataframe\">\n",
       "  <thead>\n",
       "    <tr style=\"text-align: right;\">\n",
       "      <th></th>\n",
       "      <th>tweet_text</th>\n",
       "      <th>informative</th>\n",
       "    </tr>\n",
       "  </thead>\n",
       "  <tbody>\n",
       "    <tr>\n",
       "      <th>0</th>\n",
       "      <td>CONGRATS ON HITTING YOIR GOAL GUYS, I'm sure t...</td>\n",
       "      <td>0</td>\n",
       "    </tr>\n",
       "    <tr>\n",
       "      <th>1</th>\n",
       "      <td>RT @ajwamood: #ajwamood : Harvey the first maj...</td>\n",
       "      <td>1</td>\n",
       "    </tr>\n",
       "    <tr>\n",
       "      <th>2</th>\n",
       "      <td>RT @ajwamood: #ajwamood : Harvey the first maj...</td>\n",
       "      <td>1</td>\n",
       "    </tr>\n",
       "    <tr>\n",
       "      <th>3</th>\n",
       "      <td>RT @ajwamood: #ajwamood : Harvey the first maj...</td>\n",
       "      <td>1</td>\n",
       "    </tr>\n",
       "    <tr>\n",
       "      <th>4</th>\n",
       "      <td>RT @ajwamood: #ajwamood : Harvey the first maj...</td>\n",
       "      <td>1</td>\n",
       "    </tr>\n",
       "  </tbody>\n",
       "</table>\n",
       "</div>"
      ],
      "text/plain": [
       "                                          tweet_text  informative\n",
       "0  CONGRATS ON HITTING YOIR GOAL GUYS, I'm sure t...            0\n",
       "1  RT @ajwamood: #ajwamood : Harvey the first maj...            1\n",
       "2  RT @ajwamood: #ajwamood : Harvey the first maj...            1\n",
       "3  RT @ajwamood: #ajwamood : Harvey the first maj...            1\n",
       "4  RT @ajwamood: #ajwamood : Harvey the first maj...            1"
      ]
     },
     "execution_count": 14,
     "metadata": {},
     "output_type": "execute_result"
    }
   ],
   "source": [
    "train_1_for_X.head()"
   ]
  },
  {
   "cell_type": "code",
   "execution_count": 15,
   "metadata": {},
   "outputs": [
    {
     "name": "stderr",
     "output_type": "stream",
     "text": [
      "C:\\Users\\Michelle\\Anaconda3\\envs\\dsi\\lib\\site-packages\\pandas\\core\\frame.py:4025: SettingWithCopyWarning: \n",
      "A value is trying to be set on a copy of a slice from a DataFrame\n",
      "\n",
      "See the caveats in the documentation: http://pandas.pydata.org/pandas-docs/stable/indexing.html#indexing-view-versus-copy\n",
      "  return super(DataFrame, self).rename(**kwargs)\n"
     ]
    },
    {
     "data": {
      "text/html": [
       "<div>\n",
       "<style scoped>\n",
       "    .dataframe tbody tr th:only-of-type {\n",
       "        vertical-align: middle;\n",
       "    }\n",
       "\n",
       "    .dataframe tbody tr th {\n",
       "        vertical-align: top;\n",
       "    }\n",
       "\n",
       "    .dataframe thead th {\n",
       "        text-align: right;\n",
       "    }\n",
       "</style>\n",
       "<table border=\"1\" class=\"dataframe\">\n",
       "  <thead>\n",
       "    <tr style=\"text-align: right;\">\n",
       "      <th></th>\n",
       "      <th>train_text</th>\n",
       "      <th>informative</th>\n",
       "    </tr>\n",
       "  </thead>\n",
       "  <tbody>\n",
       "    <tr>\n",
       "      <th>0</th>\n",
       "      <td>CONGRATS ON HITTING YOIR GOAL GUYS, I'm sure t...</td>\n",
       "      <td>0</td>\n",
       "    </tr>\n",
       "    <tr>\n",
       "      <th>1</th>\n",
       "      <td>RT @ajwamood: #ajwamood : Harvey the first maj...</td>\n",
       "      <td>1</td>\n",
       "    </tr>\n",
       "    <tr>\n",
       "      <th>2</th>\n",
       "      <td>RT @ajwamood: #ajwamood : Harvey the first maj...</td>\n",
       "      <td>1</td>\n",
       "    </tr>\n",
       "    <tr>\n",
       "      <th>3</th>\n",
       "      <td>RT @ajwamood: #ajwamood : Harvey the first maj...</td>\n",
       "      <td>1</td>\n",
       "    </tr>\n",
       "    <tr>\n",
       "      <th>4</th>\n",
       "      <td>RT @ajwamood: #ajwamood : Harvey the first maj...</td>\n",
       "      <td>1</td>\n",
       "    </tr>\n",
       "  </tbody>\n",
       "</table>\n",
       "</div>"
      ],
      "text/plain": [
       "                                          train_text  informative\n",
       "0  CONGRATS ON HITTING YOIR GOAL GUYS, I'm sure t...            0\n",
       "1  RT @ajwamood: #ajwamood : Harvey the first maj...            1\n",
       "2  RT @ajwamood: #ajwamood : Harvey the first maj...            1\n",
       "3  RT @ajwamood: #ajwamood : Harvey the first maj...            1\n",
       "4  RT @ajwamood: #ajwamood : Harvey the first maj...            1"
      ]
     },
     "execution_count": 15,
     "metadata": {},
     "output_type": "execute_result"
    }
   ],
   "source": [
    "train_1_for_X.rename(columns={'tweet_text': 'train_text'}, inplace=True)\n",
    "train_1_for_X.head()"
   ]
  },
  {
   "cell_type": "markdown",
   "metadata": {},
   "source": [
    "## Read in `train_2` pickle: includes tweets from Hurricane Sandy and Hurrican Joplin\n",
    " - This dataset includes labeled data for text"
   ]
  },
  {
   "cell_type": "code",
   "execution_count": 16,
   "metadata": {},
   "outputs": [],
   "source": [
    "train_2 = pd.read_pickle('./train2.pkl')"
   ]
  },
  {
   "cell_type": "code",
   "execution_count": 17,
   "metadata": {},
   "outputs": [
    {
     "data": {
      "text/html": [
       "<div>\n",
       "<style scoped>\n",
       "    .dataframe tbody tr th:only-of-type {\n",
       "        vertical-align: middle;\n",
       "    }\n",
       "\n",
       "    .dataframe tbody tr th {\n",
       "        vertical-align: top;\n",
       "    }\n",
       "\n",
       "    .dataframe thead th {\n",
       "        text-align: right;\n",
       "    }\n",
       "</style>\n",
       "<table border=\"1\" class=\"dataframe\">\n",
       "  <thead>\n",
       "    <tr style=\"text-align: right;\">\n",
       "      <th></th>\n",
       "      <th>_golden</th>\n",
       "      <th>_last_judgment_at</th>\n",
       "      <th>_trusted_judgments</th>\n",
       "      <th>_unit_state</th>\n",
       "      <th>choose_one</th>\n",
       "      <th>choose_one:confidence</th>\n",
       "      <th>choose_one_gold</th>\n",
       "      <th>event</th>\n",
       "      <th>nil</th>\n",
       "      <th>predicted</th>\n",
       "      <th>text_no_rt</th>\n",
       "      <th>tweet</th>\n",
       "      <th>user</th>\n",
       "      <th>informative</th>\n",
       "    </tr>\n",
       "    <tr>\n",
       "      <th>_unit_id</th>\n",
       "      <th></th>\n",
       "      <th></th>\n",
       "      <th></th>\n",
       "      <th></th>\n",
       "      <th></th>\n",
       "      <th></th>\n",
       "      <th></th>\n",
       "      <th></th>\n",
       "      <th></th>\n",
       "      <th></th>\n",
       "      <th></th>\n",
       "      <th></th>\n",
       "      <th></th>\n",
       "      <th></th>\n",
       "    </tr>\n",
       "  </thead>\n",
       "  <tbody>\n",
       "    <tr>\n",
       "      <th>204690712</th>\n",
       "      <td>False</td>\n",
       "      <td>10/6/2012 03:35:03</td>\n",
       "      <td>4</td>\n",
       "      <td>finalized</td>\n",
       "      <td>Informative (Direct or Indirect)</td>\n",
       "      <td>0.5133</td>\n",
       "      <td>NaN</td>\n",
       "      <td>joplin</td>\n",
       "      <td>NaN</td>\n",
       "      <td>Informative (Indirect)</td>\n",
       "      <td>Cruuuuud. Tornado warning for Denton County. A...</td>\n",
       "      <td>Cruuuuud. Tornado warning for Denton County. A...</td>\n",
       "      <td>NaN</td>\n",
       "      <td>1</td>\n",
       "    </tr>\n",
       "    <tr>\n",
       "      <th>204690713</th>\n",
       "      <td>True</td>\n",
       "      <td>10/6/2012 03:25:33</td>\n",
       "      <td>129</td>\n",
       "      <td>golden</td>\n",
       "      <td>Informative (Indirect)</td>\n",
       "      <td>0.4781</td>\n",
       "      <td>Informative (Indirect)</td>\n",
       "      <td>joplin</td>\n",
       "      <td>NaN</td>\n",
       "      <td>Informative (Indirect)</td>\n",
       "      <td>Tornado WARNING for Tarrant county. Storm spot...</td>\n",
       "      <td>Tornado WARNING for Tarrant county. Storm spot...</td>\n",
       "      <td>NaN</td>\n",
       "      <td>1</td>\n",
       "    </tr>\n",
       "  </tbody>\n",
       "</table>\n",
       "</div>"
      ],
      "text/plain": [
       "           _golden   _last_judgment_at  _trusted_judgments _unit_state  \\\n",
       "_unit_id                                                                 \n",
       "204690712    False  10/6/2012 03:35:03                   4   finalized   \n",
       "204690713     True  10/6/2012 03:25:33                 129      golden   \n",
       "\n",
       "                                 choose_one  choose_one:confidence  \\\n",
       "_unit_id                                                             \n",
       "204690712  Informative (Direct or Indirect)                 0.5133   \n",
       "204690713            Informative (Indirect)                 0.4781   \n",
       "\n",
       "                  choose_one_gold   event  nil               predicted  \\\n",
       "_unit_id                                                                 \n",
       "204690712                     NaN  joplin  NaN  Informative (Indirect)   \n",
       "204690713  Informative (Indirect)  joplin  NaN  Informative (Indirect)   \n",
       "\n",
       "                                                  text_no_rt  \\\n",
       "_unit_id                                                       \n",
       "204690712  Cruuuuud. Tornado warning for Denton County. A...   \n",
       "204690713  Tornado WARNING for Tarrant county. Storm spot...   \n",
       "\n",
       "                                                       tweet user  informative  \n",
       "_unit_id                                                                        \n",
       "204690712  Cruuuuud. Tornado warning for Denton County. A...  NaN            1  \n",
       "204690713  Tornado WARNING for Tarrant county. Storm spot...  NaN            1  "
      ]
     },
     "execution_count": 17,
     "metadata": {},
     "output_type": "execute_result"
    }
   ],
   "source": [
    "train_2.head(2)"
   ]
  },
  {
   "cell_type": "code",
   "execution_count": 18,
   "metadata": {},
   "outputs": [
    {
     "data": {
      "text/plain": [
       "(3384, 14)"
      ]
     },
     "execution_count": 18,
     "metadata": {},
     "output_type": "execute_result"
    }
   ],
   "source": [
    "train_2.shape"
   ]
  },
  {
   "cell_type": "markdown",
   "metadata": {},
   "source": [
    "### Remove duplicates"
   ]
  },
  {
   "cell_type": "code",
   "execution_count": 19,
   "metadata": {},
   "outputs": [],
   "source": [
    "train_2.drop_duplicates(inplace=True)"
   ]
  },
  {
   "cell_type": "code",
   "execution_count": 20,
   "metadata": {},
   "outputs": [
    {
     "data": {
      "text/plain": [
       "(3384, 14)"
      ]
     },
     "execution_count": 20,
     "metadata": {},
     "output_type": "execute_result"
    }
   ],
   "source": [
    "train_2.shape"
   ]
  },
  {
   "cell_type": "markdown",
   "metadata": {},
   "source": [
    "### Extract columns for X"
   ]
  },
  {
   "cell_type": "code",
   "execution_count": 21,
   "metadata": {},
   "outputs": [],
   "source": [
    "train_2_for_X = train_2[['text_no_rt', 'informative']]"
   ]
  },
  {
   "cell_type": "code",
   "execution_count": 22,
   "metadata": {},
   "outputs": [
    {
     "data": {
      "text/html": [
       "<div>\n",
       "<style scoped>\n",
       "    .dataframe tbody tr th:only-of-type {\n",
       "        vertical-align: middle;\n",
       "    }\n",
       "\n",
       "    .dataframe tbody tr th {\n",
       "        vertical-align: top;\n",
       "    }\n",
       "\n",
       "    .dataframe thead th {\n",
       "        text-align: right;\n",
       "    }\n",
       "</style>\n",
       "<table border=\"1\" class=\"dataframe\">\n",
       "  <thead>\n",
       "    <tr style=\"text-align: right;\">\n",
       "      <th></th>\n",
       "      <th>text_no_rt</th>\n",
       "      <th>informative</th>\n",
       "    </tr>\n",
       "    <tr>\n",
       "      <th>_unit_id</th>\n",
       "      <th></th>\n",
       "      <th></th>\n",
       "    </tr>\n",
       "  </thead>\n",
       "  <tbody>\n",
       "    <tr>\n",
       "      <th>204690712</th>\n",
       "      <td>Cruuuuud. Tornado warning for Denton County. A...</td>\n",
       "      <td>1</td>\n",
       "    </tr>\n",
       "    <tr>\n",
       "      <th>204690713</th>\n",
       "      <td>Tornado WARNING for Tarrant county. Storm spot...</td>\n",
       "      <td>1</td>\n",
       "    </tr>\n",
       "    <tr>\n",
       "      <th>204690714</th>\n",
       "      <td>Tornado on the ground in Azle headed right tow...</td>\n",
       "      <td>1</td>\n",
       "    </tr>\n",
       "    <tr>\n",
       "      <th>204690715</th>\n",
       "      <td>US tornado toll rises to 122 (AFP) http://dlvr...</td>\n",
       "      <td>1</td>\n",
       "    </tr>\n",
       "    <tr>\n",
       "      <th>204690716</th>\n",
       "      <td>US tornado toll rises to 122 (AFP) http://dlvr...</td>\n",
       "      <td>1</td>\n",
       "    </tr>\n",
       "  </tbody>\n",
       "</table>\n",
       "</div>"
      ],
      "text/plain": [
       "                                                  text_no_rt  informative\n",
       "_unit_id                                                                 \n",
       "204690712  Cruuuuud. Tornado warning for Denton County. A...            1\n",
       "204690713  Tornado WARNING for Tarrant county. Storm spot...            1\n",
       "204690714  Tornado on the ground in Azle headed right tow...            1\n",
       "204690715  US tornado toll rises to 122 (AFP) http://dlvr...            1\n",
       "204690716  US tornado toll rises to 122 (AFP) http://dlvr...            1"
      ]
     },
     "execution_count": 22,
     "metadata": {},
     "output_type": "execute_result"
    }
   ],
   "source": [
    "train_2_for_X.head()"
   ]
  },
  {
   "cell_type": "code",
   "execution_count": 23,
   "metadata": {},
   "outputs": [
    {
     "name": "stderr",
     "output_type": "stream",
     "text": [
      "C:\\Users\\Michelle\\Anaconda3\\envs\\dsi\\lib\\site-packages\\pandas\\core\\frame.py:4025: SettingWithCopyWarning: \n",
      "A value is trying to be set on a copy of a slice from a DataFrame\n",
      "\n",
      "See the caveats in the documentation: http://pandas.pydata.org/pandas-docs/stable/indexing.html#indexing-view-versus-copy\n",
      "  return super(DataFrame, self).rename(**kwargs)\n"
     ]
    },
    {
     "data": {
      "text/html": [
       "<div>\n",
       "<style scoped>\n",
       "    .dataframe tbody tr th:only-of-type {\n",
       "        vertical-align: middle;\n",
       "    }\n",
       "\n",
       "    .dataframe tbody tr th {\n",
       "        vertical-align: top;\n",
       "    }\n",
       "\n",
       "    .dataframe thead th {\n",
       "        text-align: right;\n",
       "    }\n",
       "</style>\n",
       "<table border=\"1\" class=\"dataframe\">\n",
       "  <thead>\n",
       "    <tr style=\"text-align: right;\">\n",
       "      <th></th>\n",
       "      <th>train_text</th>\n",
       "      <th>informative</th>\n",
       "    </tr>\n",
       "  </thead>\n",
       "  <tbody>\n",
       "    <tr>\n",
       "      <th>0</th>\n",
       "      <td>Cruuuuud. Tornado warning for Denton County. A...</td>\n",
       "      <td>1</td>\n",
       "    </tr>\n",
       "    <tr>\n",
       "      <th>1</th>\n",
       "      <td>Tornado WARNING for Tarrant county. Storm spot...</td>\n",
       "      <td>1</td>\n",
       "    </tr>\n",
       "    <tr>\n",
       "      <th>2</th>\n",
       "      <td>Tornado on the ground in Azle headed right tow...</td>\n",
       "      <td>1</td>\n",
       "    </tr>\n",
       "    <tr>\n",
       "      <th>3</th>\n",
       "      <td>US tornado toll rises to 122 (AFP) http://dlvr...</td>\n",
       "      <td>1</td>\n",
       "    </tr>\n",
       "    <tr>\n",
       "      <th>4</th>\n",
       "      <td>US tornado toll rises to 122 (AFP) http://dlvr...</td>\n",
       "      <td>1</td>\n",
       "    </tr>\n",
       "  </tbody>\n",
       "</table>\n",
       "</div>"
      ],
      "text/plain": [
       "                                          train_text  informative\n",
       "0  Cruuuuud. Tornado warning for Denton County. A...            1\n",
       "1  Tornado WARNING for Tarrant county. Storm spot...            1\n",
       "2  Tornado on the ground in Azle headed right tow...            1\n",
       "3  US tornado toll rises to 122 (AFP) http://dlvr...            1\n",
       "4  US tornado toll rises to 122 (AFP) http://dlvr...            1"
      ]
     },
     "execution_count": 23,
     "metadata": {},
     "output_type": "execute_result"
    }
   ],
   "source": [
    "train_2_for_X.rename(columns = {'text_no_rt': 'train_text'}, inplace=True)\n",
    "train_2_for_X.reset_index(drop=True, inplace=True)\n",
    "train_2_for_X.head()"
   ]
  },
  {
   "cell_type": "markdown",
   "metadata": {},
   "source": [
    "## Merge Dataframes"
   ]
  },
  {
   "cell_type": "code",
   "execution_count": 24,
   "metadata": {},
   "outputs": [],
   "source": [
    "train = pd.concat([train_1_for_X, train_2_for_X])"
   ]
  },
  {
   "cell_type": "code",
   "execution_count": 25,
   "metadata": {},
   "outputs": [
    {
     "data": {
      "text/plain": [
       "(16910, 2)"
      ]
     },
     "execution_count": 25,
     "metadata": {},
     "output_type": "execute_result"
    }
   ],
   "source": [
    "train.shape"
   ]
  },
  {
   "cell_type": "code",
   "execution_count": 26,
   "metadata": {},
   "outputs": [
    {
     "data": {
      "text/html": [
       "<div>\n",
       "<style scoped>\n",
       "    .dataframe tbody tr th:only-of-type {\n",
       "        vertical-align: middle;\n",
       "    }\n",
       "\n",
       "    .dataframe tbody tr th {\n",
       "        vertical-align: top;\n",
       "    }\n",
       "\n",
       "    .dataframe thead th {\n",
       "        text-align: right;\n",
       "    }\n",
       "</style>\n",
       "<table border=\"1\" class=\"dataframe\">\n",
       "  <thead>\n",
       "    <tr style=\"text-align: right;\">\n",
       "      <th></th>\n",
       "      <th>train_text</th>\n",
       "      <th>informative</th>\n",
       "    </tr>\n",
       "  </thead>\n",
       "  <tbody>\n",
       "    <tr>\n",
       "      <th>0</th>\n",
       "      <td>CONGRATS ON HITTING YOIR GOAL GUYS, I'm sure t...</td>\n",
       "      <td>0</td>\n",
       "    </tr>\n",
       "    <tr>\n",
       "      <th>1</th>\n",
       "      <td>RT @ajwamood: #ajwamood : Harvey the first maj...</td>\n",
       "      <td>1</td>\n",
       "    </tr>\n",
       "    <tr>\n",
       "      <th>2</th>\n",
       "      <td>RT @ajwamood: #ajwamood : Harvey the first maj...</td>\n",
       "      <td>1</td>\n",
       "    </tr>\n",
       "    <tr>\n",
       "      <th>3</th>\n",
       "      <td>RT @ajwamood: #ajwamood : Harvey the first maj...</td>\n",
       "      <td>1</td>\n",
       "    </tr>\n",
       "    <tr>\n",
       "      <th>4</th>\n",
       "      <td>RT @ajwamood: #ajwamood : Harvey the first maj...</td>\n",
       "      <td>1</td>\n",
       "    </tr>\n",
       "  </tbody>\n",
       "</table>\n",
       "</div>"
      ],
      "text/plain": [
       "                                          train_text  informative\n",
       "0  CONGRATS ON HITTING YOIR GOAL GUYS, I'm sure t...            0\n",
       "1  RT @ajwamood: #ajwamood : Harvey the first maj...            1\n",
       "2  RT @ajwamood: #ajwamood : Harvey the first maj...            1\n",
       "3  RT @ajwamood: #ajwamood : Harvey the first maj...            1\n",
       "4  RT @ajwamood: #ajwamood : Harvey the first maj...            1"
      ]
     },
     "execution_count": 26,
     "metadata": {},
     "output_type": "execute_result"
    }
   ],
   "source": [
    "train.head()"
   ]
  },
  {
   "cell_type": "code",
   "execution_count": 27,
   "metadata": {
    "scrolled": true
   },
   "outputs": [
    {
     "data": {
      "text/plain": [
       "train_text     0\n",
       "informative    0\n",
       "dtype: int64"
      ]
     },
     "execution_count": 27,
     "metadata": {},
     "output_type": "execute_result"
    }
   ],
   "source": [
    "train.isnull().sum()"
   ]
  },
  {
   "cell_type": "code",
   "execution_count": 28,
   "metadata": {
    "scrolled": true
   },
   "outputs": [
    {
     "data": {
      "text/plain": [
       "train_text     object\n",
       "informative     int64\n",
       "dtype: object"
      ]
     },
     "execution_count": 28,
     "metadata": {},
     "output_type": "execute_result"
    }
   ],
   "source": [
    "train.dtypes"
   ]
  },
  {
   "cell_type": "code",
   "execution_count": 29,
   "metadata": {},
   "outputs": [],
   "source": [
    "train.to_pickle('combined_train.pkl')"
   ]
  },
  {
   "cell_type": "code",
   "execution_count": 30,
   "metadata": {},
   "outputs": [
    {
     "data": {
      "text/plain": [
       "'RT @ajwamood: #ajwamood : Harvey the first major hurricane to strike the #US since 2005 , causes at least 1 fatality https://t.co/RvDkebyAAC'"
      ]
     },
     "execution_count": 30,
     "metadata": {},
     "output_type": "execute_result"
    }
   ],
   "source": [
    "train['train_text'].iloc[1]"
   ]
  },
  {
   "cell_type": "markdown",
   "metadata": {},
   "source": [
    "## Clean data"
   ]
  },
  {
   "cell_type": "markdown",
   "metadata": {},
   "source": [
    "### Remove Punctutation"
   ]
  },
  {
   "cell_type": "code",
   "execution_count": 31,
   "metadata": {},
   "outputs": [],
   "source": [
    "train['train_text'] = train['train_text'].str.replace(\"[^a-zA-Z]\", \" \")"
   ]
  },
  {
   "cell_type": "markdown",
   "metadata": {},
   "source": [
    "### Remove HTML Code artifacts"
   ]
  },
  {
   "cell_type": "markdown",
   "metadata": {},
   "source": [
    "### Define X"
   ]
  },
  {
   "cell_type": "code",
   "execution_count": 63,
   "metadata": {
    "scrolled": true
   },
   "outputs": [],
   "source": [
    "X = train_1['tweet_text']"
   ]
  },
  {
   "cell_type": "code",
   "execution_count": 64,
   "metadata": {},
   "outputs": [
    {
     "data": {
      "text/plain": [
       "0    CONGRATS ON HITTING YOIR GOAL GUYS, I'm sure t...\n",
       "1    RT @ajwamood: #ajwamood : Harvey the first maj...\n",
       "2    RT @ajwamood: #ajwamood : Harvey the first maj...\n",
       "3    RT @ajwamood: #ajwamood : Harvey the first maj...\n",
       "4    RT @ajwamood: #ajwamood : Harvey the first maj...\n",
       "Name: tweet_text, dtype: object"
      ]
     },
     "execution_count": 64,
     "metadata": {},
     "output_type": "execute_result"
    }
   ],
   "source": [
    "X.head()"
   ]
  },
  {
   "cell_type": "code",
   "execution_count": 65,
   "metadata": {},
   "outputs": [
    {
     "data": {
      "text/plain": [
       "'RT @MSNBC: Side by side satellite images compare the size of Hurricane Harvey to Hurricane Katrina in 2005. https://t.co/8LemA9Ju1v'"
      ]
     },
     "execution_count": 65,
     "metadata": {},
     "output_type": "execute_result"
    }
   ],
   "source": [
    "X.iloc[10]"
   ]
  },
  {
   "cell_type": "markdown",
   "metadata": {},
   "source": [
    "### TEST FOR INPUT INTO WORD2VEC"
   ]
  },
  {
   "cell_type": "code",
   "execution_count": 71,
   "metadata": {},
   "outputs": [],
   "source": [
    "from nltk.tokenize import TweetTokenizer"
   ]
  },
  {
   "cell_type": "code",
   "execution_count": 72,
   "metadata": {},
   "outputs": [],
   "source": [
    "tweets_cleaned = pd.read_pickle('./tweets_cleaned.pkl')"
   ]
  },
  {
   "cell_type": "code",
   "execution_count": 73,
   "metadata": {},
   "outputs": [
    {
     "data": {
      "text/html": [
       "<div>\n",
       "<style scoped>\n",
       "    .dataframe tbody tr th:only-of-type {\n",
       "        vertical-align: middle;\n",
       "    }\n",
       "\n",
       "    .dataframe tbody tr th {\n",
       "        vertical-align: top;\n",
       "    }\n",
       "\n",
       "    .dataframe thead th {\n",
       "        text-align: right;\n",
       "    }\n",
       "</style>\n",
       "<table border=\"1\" class=\"dataframe\">\n",
       "  <thead>\n",
       "    <tr style=\"text-align: right;\">\n",
       "      <th></th>\n",
       "      <th>tweet_text</th>\n",
       "      <th>informative</th>\n",
       "    </tr>\n",
       "  </thead>\n",
       "  <tbody>\n",
       "    <tr>\n",
       "      <th>0</th>\n",
       "      <td>congrats on hitting yoir goal guys  i m sure t...</td>\n",
       "      <td>0</td>\n",
       "    </tr>\n",
       "    <tr>\n",
       "      <th>1</th>\n",
       "      <td>#ajwamood   harvey the first major hurricane...</td>\n",
       "      <td>1</td>\n",
       "    </tr>\n",
       "    <tr>\n",
       "      <th>5</th>\n",
       "      <td>when we get back to schs after harvey hits</td>\n",
       "      <td>0</td>\n",
       "    </tr>\n",
       "    <tr>\n",
       "      <th>9</th>\n",
       "      <td>not always good when your city shows up on a s...</td>\n",
       "      <td>1</td>\n",
       "    </tr>\n",
       "    <tr>\n",
       "      <th>10</th>\n",
       "      <td>side by side satellite images compare the si...</td>\n",
       "      <td>1</td>\n",
       "    </tr>\n",
       "  </tbody>\n",
       "</table>\n",
       "</div>"
      ],
      "text/plain": [
       "                                           tweet_text  informative\n",
       "0   congrats on hitting yoir goal guys  i m sure t...            0\n",
       "1     #ajwamood   harvey the first major hurricane...            1\n",
       "5       when we get back to schs after harvey hits               0\n",
       "9   not always good when your city shows up on a s...            1\n",
       "10    side by side satellite images compare the si...            1"
      ]
     },
     "execution_count": 73,
     "metadata": {},
     "output_type": "execute_result"
    }
   ],
   "source": [
    "tweets_cleaned.head()"
   ]
  },
  {
   "cell_type": "code",
   "execution_count": 75,
   "metadata": {},
   "outputs": [],
   "source": [
    "tknzr = TweetTokenizer()"
   ]
  },
  {
   "cell_type": "code",
   "execution_count": 76,
   "metadata": {},
   "outputs": [],
   "source": [
    "tokens = []\n",
    "for tweet in tweets_cleaned.tweet_text:\n",
    "    tokens.append(tknzr.tokenize(tweet))"
   ]
  },
  {
   "cell_type": "markdown",
   "metadata": {},
   "source": [
    "### Word2Vec Model"
   ]
  },
  {
   "cell_type": "code",
   "execution_count": 77,
   "metadata": {},
   "outputs": [
    {
     "name": "stderr",
     "output_type": "stream",
     "text": [
      "C:\\Users\\Michelle\\Anaconda3\\envs\\dsi\\lib\\site-packages\\gensim\\models\\base_any2vec.py:743: UserWarning: C extension not loaded, training will be slow. Install a C compiler and reinstall gensim for fast training.\n",
      "  \"C extension not loaded, training will be slow. \"\n"
     ]
    }
   ],
   "source": [
    "model = Word2Vec(tokens,      # Corpus of data.\n",
    "                 size=100,    # How many dimensions do you want in your word vector?\n",
    "                 window=5,    # How many \"context words\" do you want?\n",
    "                 min_count=1, # Ignores words below this threshold.\n",
    "                 sg=0,        # SG = 1 uses SkipGram, SG = 0 uses CBOW (default).\n",
    "                 workers=4)   # Number of \"worker threads\" to use (parallelizes process)."
   ]
  },
  {
   "cell_type": "code",
   "execution_count": 78,
   "metadata": {
    "scrolled": true
   },
   "outputs": [
    {
     "name": "stderr",
     "output_type": "stream",
     "text": [
      "C:\\Users\\Michelle\\Anaconda3\\envs\\dsi\\lib\\site-packages\\ipykernel_launcher.py:1: DeprecationWarning: Call to deprecated `most_similar` (Method will be removed in 4.0.0, use self.wv.most_similar() instead).\n",
      "  \"\"\"Entry point for launching an IPython kernel.\n"
     ]
    },
    {
     "data": {
      "text/plain": [
       "[('their', 0.9999050498008728),\n",
       " ('volunteers', 0.9998874664306641),\n",
       " ('items', 0.9998669624328613),\n",
       " ('up', 0.9998631477355957),\n",
       " ('community', 0.9998438954353333),\n",
       " ('thanks', 0.9998221397399902),\n",
       " ('fema', 0.9998189210891724),\n",
       " ('#hurricaneharvey', 0.9998002052307129),\n",
       " ('federal', 0.9997961521148682),\n",
       " ('continue', 0.999793291091919),\n",
       " ('family', 0.9997842311859131),\n",
       " ('tax', 0.9997715353965759),\n",
       " ('residents', 0.9997698664665222),\n",
       " ('emergency', 0.9997696280479431),\n",
       " ('flood', 0.9997669458389282),\n",
       " ('crews', 0.9997556805610657),\n",
       " ('kids', 0.9997546076774597),\n",
       " ('free', 0.999754011631012),\n",
       " ('work', 0.9997531771659851),\n",
       " ('raising', 0.999752402305603),\n",
       " ('debt', 0.999747633934021),\n",
       " ('visit', 0.9997398257255554),\n",
       " ('join', 0.9997353553771973),\n",
       " ('k', 0.9997285008430481),\n",
       " ('contract', 0.9997202157974243)]"
      ]
     },
     "execution_count": 78,
     "metadata": {},
     "output_type": "execute_result"
    }
   ],
   "source": [
    "model.most_similar('food', topn=25)"
   ]
  },
  {
   "cell_type": "code",
   "execution_count": 23,
   "metadata": {},
   "outputs": [
    {
     "data": {
      "text/plain": [
       "[('foods', 0.6212202310562134),\n",
       " ('seafood', 0.6099287867546082),\n",
       " ('meals', 0.6038150191307068),\n",
       " ('foodstuffs', 0.5895399451255798),\n",
       " ('meat', 0.5782395601272583),\n",
       " ('nutritious', 0.5607747435569763),\n",
       " ('meal', 0.5420812368392944),\n",
       " ('groceries', 0.5333590507507324),\n",
       " ('snack', 0.5314205288887024),\n",
       " ('nutrition', 0.5273828506469727),\n",
       " ('grocery', 0.5240978002548218),\n",
       " ('poultry', 0.5150964260101318),\n",
       " ('snacks', 0.5125464200973511),\n",
       " ('necessities', 0.5027074813842773),\n",
       " ('beverage', 0.49984222650527954),\n",
       " ('foodstuff', 0.49397554993629456),\n",
       " ('takeaway', 0.4935123026371002),\n",
       " ('dairy', 0.48863810300827026),\n",
       " ('vegetables', 0.48462727665901184),\n",
       " ('nutritional', 0.4812769293785095),\n",
       " ('ingredients', 0.47778424620628357),\n",
       " ('perishable', 0.4772763252258301),\n",
       " ('bottled', 0.4752594232559204),\n",
       " ('calorie', 0.4723014831542969),\n",
       " ('sustenance', 0.4694999158382416)]"
      ]
     },
     "execution_count": 23,
     "metadata": {},
     "output_type": "execute_result"
    }
   ],
   "source": [
    "model.most_similar('food', topn=25)"
   ]
  },
  {
   "cell_type": "code",
   "execution_count": 24,
   "metadata": {},
   "outputs": [
    {
     "data": {
      "text/plain": [
       "[('seawater', 0.6570144891738892),\n",
       " ('groundwater', 0.6502763032913208),\n",
       " ('sewage', 0.6035518646240234),\n",
       " ('potable', 0.587207555770874),\n",
       " ('wastewater', 0.5817205905914307),\n",
       " ('rainwater', 0.5797319412231445),\n",
       " ('stormwater', 0.5383915305137634),\n",
       " ('sewer', 0.5179448127746582),\n",
       " ('effluent', 0.5174242258071899),\n",
       " ('irrigation', 0.5160751938819885),\n",
       " ('sediment', 0.5143337249755859),\n",
       " ('floodwater', 0.5104843378067017),\n",
       " ('sewerage', 0.5085800886154175),\n",
       " ('aquifers', 0.508300244808197),\n",
       " ('brackish', 0.5063480138778687),\n",
       " ('liquid', 0.4911225140094757),\n",
       " ('bottled', 0.4858362674713135),\n",
       " ('evaporation', 0.4840138852596283),\n",
       " ('land', 0.47957533597946167),\n",
       " ('saltwater', 0.47671690583229065),\n",
       " ('seepage', 0.47353124618530273),\n",
       " ('moisture', 0.4711664617061615),\n",
       " ('oxygen', 0.46662917733192444),\n",
       " ('contaminate', 0.4646880030632019),\n",
       " ('polluted', 0.46368181705474854)]"
      ]
     },
     "execution_count": 24,
     "metadata": {},
     "output_type": "execute_result"
    }
   ],
   "source": [
    "model.most_similar('water', topn=25)"
   ]
  },
  {
   "cell_type": "code",
   "execution_count": 26,
   "metadata": {},
   "outputs": [
    {
     "data": {
      "text/plain": [
       "[('veterinary', 0.6589906811714172),\n",
       " ('dental', 0.6145017147064209),\n",
       " ('psychiatric', 0.5920779705047607),\n",
       " ('health', 0.5920690298080444),\n",
       " ('outpatient', 0.5774596929550171),\n",
       " ('hospital', 0.5629482269287109),\n",
       " ('medicine', 0.5626959800720215),\n",
       " ('surgical', 0.5600948333740234),\n",
       " ('nursing', 0.5600548386573792),\n",
       " ('clinical', 0.5514633655548096),\n",
       " ('pediatric', 0.5513782501220703),\n",
       " ('physicians', 0.5486127138137817),\n",
       " ('biomedical', 0.5468931794166565),\n",
       " ('orthopedic', 0.5442311763763428),\n",
       " ('radiology', 0.5297563076019287),\n",
       " ('palliative', 0.5220820903778076),\n",
       " ('healthcare', 0.5152167081832886),\n",
       " ('physician', 0.5142868757247925),\n",
       " ('hospitals', 0.51274573802948),\n",
       " ('orthopaedic', 0.5115314722061157),\n",
       " ('geriatric', 0.5042352676391602),\n",
       " ('doctors', 0.5006060004234314),\n",
       " ('dentistry', 0.5000715851783752),\n",
       " ('anesthesiology', 0.49136239290237427),\n",
       " ('pharmacy', 0.4911144971847534)]"
      ]
     },
     "execution_count": 26,
     "metadata": {},
     "output_type": "execute_result"
    }
   ],
   "source": [
    "model.most_similar('medical', topn=25)"
   ]
  },
  {
   "cell_type": "code",
   "execution_count": 27,
   "metadata": {},
   "outputs": [
    {
     "data": {
      "text/plain": [
       "[('shelters', 0.8452489972114563),\n",
       " ('refuge', 0.6221227645874023),\n",
       " ('sheltering', 0.5715663433074951),\n",
       " ('homeless', 0.5680542588233948),\n",
       " ('tents', 0.5575913190841675),\n",
       " ('sheltered', 0.5509488582611084),\n",
       " ('evacuees', 0.5110695362091064),\n",
       " ('accommodation', 0.5065698027610779),\n",
       " ('evacuate', 0.4875040650367737),\n",
       " ('blankets', 0.4782549738883972),\n",
       " ('huts', 0.4649191200733185),\n",
       " ('sanctuary', 0.4641597270965576),\n",
       " ('needy', 0.4640933871269226),\n",
       " ('campsite', 0.462602823972702),\n",
       " ('refuges', 0.46182799339294434),\n",
       " ('respite', 0.4608321487903595),\n",
       " ('assistance', 0.45172184705734253),\n",
       " ('destitute', 0.44732755422592163),\n",
       " ('sustenance', 0.4466785490512848),\n",
       " ('tarps', 0.44646328687667847),\n",
       " ('shacks', 0.44627612829208374),\n",
       " ('orphanage', 0.44555678963661194),\n",
       " ('makeshift', 0.4432254135608673),\n",
       " ('tarpaulins', 0.4413571059703827),\n",
       " ('homes', 0.43969133496284485)]"
      ]
     },
     "execution_count": 27,
     "metadata": {},
     "output_type": "execute_result"
    }
   ],
   "source": [
    "model.most_similar('shelter', topn=25)"
   ]
  },
  {
   "cell_type": "code",
   "execution_count": 28,
   "metadata": {},
   "outputs": [
    {
     "data": {
      "text/plain": [
       "[('energy', 0.6751303672790527),\n",
       " ('megawatts', 0.6466302871704102),\n",
       " ('power', 0.6386343836784363),\n",
       " ('renewable', 0.6368008852005005),\n",
       " ('renewables', 0.6112408638000488),\n",
       " ('generators', 0.5911064743995667),\n",
       " ('utilities', 0.5753559470176697),\n",
       " ('hydropower', 0.5750429630279541),\n",
       " ('kilowatts', 0.5726759433746338),\n",
       " ('hydroelectricity', 0.5711821913719177),\n",
       " ('gas', 0.5674902200698853),\n",
       " ('kilowatt', 0.5663821697235107),\n",
       " ('baseload', 0.5652947425842285),\n",
       " ('kwh', 0.5643448829650879),\n",
       " ('heating', 0.5573583245277405),\n",
       " ('fuel', 0.5544668436050415),\n",
       " ('mwh', 0.5429953336715698),\n",
       " ('gigawatts', 0.541540265083313),\n",
       " ('sewerage', 0.5400328636169434),\n",
       " ('biomass', 0.5393158793449402),\n",
       " ('supply', 0.5359727144241333),\n",
       " ('hydroelectric', 0.5322878360748291),\n",
       " ('megawatt', 0.5314869284629822),\n",
       " ('photovoltaic', 0.5290755033493042),\n",
       " ('biogas', 0.5242639780044556)]"
      ]
     },
     "execution_count": 28,
     "metadata": {},
     "output_type": "execute_result"
    }
   ],
   "source": [
    "model.most_similar('electricity', topn=25)"
   ]
  },
  {
   "cell_type": "code",
   "execution_count": 29,
   "metadata": {},
   "outputs": [
    {
     "data": {
      "text/plain": [
       "[('electricity', 0.6386343836784363),\n",
       " ('kilowatts', 0.5114115476608276),\n",
       " ('megawatts', 0.5108576416969299),\n",
       " ('generators', 0.5044735670089722),\n",
       " ('powers', 0.5036338567733765),\n",
       " ('energy', 0.49356985092163086),\n",
       " ('hydroelectric', 0.4765773415565491),\n",
       " ('clout', 0.469901978969574),\n",
       " ('hydropower', 0.46867555379867554),\n",
       " ('renewables', 0.44705966114997864),\n",
       " ('renewable', 0.44471052289009094),\n",
       " ('turbines', 0.43001532554626465),\n",
       " ('baseload', 0.42854470014572144),\n",
       " ('utilities', 0.4276842176914215),\n",
       " ('capacity', 0.4268409013748169),\n",
       " ('levers', 0.4164648652076721),\n",
       " ('substations', 0.4157220721244812),\n",
       " ('electric', 0.41195422410964966),\n",
       " ('control', 0.41183674335479736),\n",
       " ('kw', 0.4112171232700348),\n",
       " ('output', 0.4105415940284729),\n",
       " ('mw', 0.40955716371536255),\n",
       " ('hydroelectricity', 0.4082127809524536),\n",
       " ('generating', 0.40796446800231934),\n",
       " ('photovoltaic', 0.4064619839191437)]"
      ]
     },
     "execution_count": 29,
     "metadata": {},
     "output_type": "execute_result"
    }
   ],
   "source": [
    "model.most_similar('power', topn=25)"
   ]
  },
  {
   "cell_type": "code",
   "execution_count": null,
   "metadata": {},
   "outputs": [],
   "source": []
  }
 ],
 "metadata": {
  "kernelspec": {
   "display_name": "Python 3",
   "language": "python",
   "name": "python3"
  },
  "language_info": {
   "codemirror_mode": {
    "name": "ipython",
    "version": 3
   },
   "file_extension": ".py",
   "mimetype": "text/x-python",
   "name": "python",
   "nbconvert_exporter": "python",
   "pygments_lexer": "ipython3",
   "version": "3.6.5"
  }
 },
 "nbformat": 4,
 "nbformat_minor": 2
}
