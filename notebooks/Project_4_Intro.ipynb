{
 "cells": [
  {
   "cell_type": "markdown",
   "metadata": {},
   "source": [
    "# New Light Technologies\n",
    "## Leveraging News and Media for Situational Awareness\n",
    "\n",
    "---\n",
    "\n",
    "### Team\n",
    " - Jonathan Ruiz\n",
    " - Paul Schimek\n",
    " - Michelle Cheung"
   ]
  },
  {
   "cell_type": "markdown",
   "metadata": {},
   "source": [
    "### Project Description:\n",
    "---\n",
    "During a major disaster, it is essential to provide the public and responders with relevant local news updates in order to gain situational awareness during the event. During a disaster, news updates are coming from tens to hundreds of different sources, all in different formats, available from different websites, news channels etc., and it is often difficult to find what would be most helpful amid the chaos of other non-disaster related news and media. There is currently no forum for rounding up and archiving relevant news for a live disaster event. This project will leverage news feeds relevant to specific disasters, gathered from multiple sources, to create a webpage that presents these live feeds under one umbrella (on one page). This is similar to the Google News feature."
   ]
  },
  {
   "cell_type": "markdown",
   "metadata": {},
   "source": [
    "### Project Deliverables\n",
    "---\n",
    "1. Slideshow\n",
    "2. Webscraper from at least 3 sources\n",
    "3. Open source code for disaster-specific webpage\n",
    "4. Short written description of project.\n",
    "5. Classification models for classifying type of disaster and whether disaster is live or recent (archive)"
   ]
  },
  {
   "cell_type": "markdown",
   "metadata": {},
   "source": [
    "### Data Sources\n",
    "---\n",
    "1. Federal Emergency Management Agency (FEMA) API\n",
    "2. National Weather Service RSS Feed\n",
    "3. News API\n",
    "4. Twitter API\n",
    "5. Twitterscraper"
   ]
  },
  {
   "cell_type": "code",
   "execution_count": null,
   "metadata": {},
   "outputs": [],
   "source": []
  }
 ],
 "metadata": {
  "kernelspec": {
   "display_name": "Python 3",
   "language": "python",
   "name": "python3"
  },
  "language_info": {
   "codemirror_mode": {
    "name": "ipython",
    "version": 3
   },
   "file_extension": ".py",
   "mimetype": "text/x-python",
   "name": "python",
   "nbconvert_exporter": "python",
   "pygments_lexer": "ipython3",
   "version": "3.6.5"
  }
 },
 "nbformat": 4,
 "nbformat_minor": 2
}
