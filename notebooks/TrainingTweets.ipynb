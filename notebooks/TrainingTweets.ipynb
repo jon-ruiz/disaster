{
 "cells": [
  {
   "cell_type": "code",
   "execution_count": 11,
   "metadata": {},
   "outputs": [],
   "source": [
    "import pandas as pd"
   ]
  },
  {
   "cell_type": "code",
   "execution_count": 12,
   "metadata": {},
   "outputs": [],
   "source": [
    "harvey = pd.read_csv('../data/annotations/hurricane_harvey_final_data.tsv',delimiter='\\t')"
   ]
  },
  {
   "cell_type": "code",
   "execution_count": 13,
   "metadata": {},
   "outputs": [
    {
     "name": "stdout",
     "output_type": "stream",
     "text": [
      "<class 'pandas.core.frame.DataFrame'>\n",
      "RangeIndex: 4443 entries, 0 to 4442\n",
      "Data columns (total 15 columns):\n",
      "tweet_id             4443 non-null int64\n",
      "image_id             4443 non-null object\n",
      "text_info            4443 non-null object\n",
      "text_info_conf       4443 non-null float64\n",
      "image_info           4443 non-null object\n",
      "image_info_conf      4443 non-null float64\n",
      "text_human           3533 non-null object\n",
      "text_human_conf      3533 non-null float64\n",
      "image_human          3533 non-null object\n",
      "image_human_conf     3533 non-null float64\n",
      "image_damage         916 non-null object\n",
      "image_damage_conf    916 non-null float64\n",
      "tweet_text           4443 non-null object\n",
      "image_url            4443 non-null object\n",
      "image_path           4443 non-null object\n",
      "dtypes: float64(5), int64(1), object(9)\n",
      "memory usage: 520.7+ KB\n"
     ]
    }
   ],
   "source": [
    "harvey.info()"
   ]
  },
  {
   "cell_type": "code",
   "execution_count": 14,
   "metadata": {},
   "outputs": [
    {
     "data": {
      "text/plain": [
       "(4443, 15)"
      ]
     },
     "execution_count": 14,
     "metadata": {},
     "output_type": "execute_result"
    }
   ],
   "source": [
    "harvey.shape"
   ]
  },
  {
   "cell_type": "code",
   "execution_count": 15,
   "metadata": {},
   "outputs": [],
   "source": [
    "harvey['event'] = 'harvey'"
   ]
  },
  {
   "cell_type": "code",
   "execution_count": 16,
   "metadata": {},
   "outputs": [],
   "source": [
    "irma = pd.read_csv('../data/annotations/hurricane_irma_final_data.tsv',delimiter='\\t')"
   ]
  },
  {
   "cell_type": "code",
   "execution_count": 17,
   "metadata": {},
   "outputs": [
    {
     "data": {
      "text/plain": [
       "(4525, 15)"
      ]
     },
     "execution_count": 17,
     "metadata": {},
     "output_type": "execute_result"
    }
   ],
   "source": [
    "irma.shape"
   ]
  },
  {
   "cell_type": "code",
   "execution_count": 18,
   "metadata": {},
   "outputs": [
    {
     "name": "stdout",
     "output_type": "stream",
     "text": [
      "<class 'pandas.core.frame.DataFrame'>\n",
      "RangeIndex: 4525 entries, 0 to 4524\n",
      "Data columns (total 15 columns):\n",
      "tweet_id             4525 non-null int64\n",
      "image_id             4525 non-null object\n",
      "text_info            4525 non-null object\n",
      "text_info_conf       4525 non-null float64\n",
      "image_info           4525 non-null object\n",
      "image_info_conf      4525 non-null float64\n",
      "text_human           3754 non-null object\n",
      "text_human_conf      3754 non-null float64\n",
      "image_human          3754 non-null object\n",
      "image_human_conf     3754 non-null float64\n",
      "image_damage         819 non-null object\n",
      "image_damage_conf    819 non-null float64\n",
      "tweet_text           4525 non-null object\n",
      "image_url            4525 non-null object\n",
      "image_path           4525 non-null object\n",
      "dtypes: float64(5), int64(1), object(9)\n",
      "memory usage: 530.4+ KB\n"
     ]
    }
   ],
   "source": [
    "irma.info()"
   ]
  },
  {
   "cell_type": "code",
   "execution_count": 19,
   "metadata": {},
   "outputs": [],
   "source": [
    "irma['event'] = 'irma'"
   ]
  },
  {
   "cell_type": "code",
   "execution_count": 20,
   "metadata": {},
   "outputs": [],
   "source": [
    "maria = pd.read_csv('../data/annotations/hurricane_maria_final_data.tsv',delimiter='\\t')"
   ]
  },
  {
   "cell_type": "code",
   "execution_count": 21,
   "metadata": {},
   "outputs": [
    {
     "data": {
      "text/plain": [
       "(4562, 15)"
      ]
     },
     "execution_count": 21,
     "metadata": {},
     "output_type": "execute_result"
    }
   ],
   "source": [
    "maria.shape"
   ]
  },
  {
   "cell_type": "code",
   "execution_count": 22,
   "metadata": {},
   "outputs": [],
   "source": [
    "maria['event'] = 'maria'"
   ]
  },
  {
   "cell_type": "code",
   "execution_count": 23,
   "metadata": {},
   "outputs": [],
   "source": [
    "train = pd.concat([harvey,irma,maria], axis=0)"
   ]
  },
  {
   "cell_type": "code",
   "execution_count": 24,
   "metadata": {},
   "outputs": [
    {
     "data": {
      "text/plain": [
       "(13530, 16)"
      ]
     },
     "execution_count": 24,
     "metadata": {},
     "output_type": "execute_result"
    }
   ],
   "source": [
    "train.shape"
   ]
  },
  {
   "cell_type": "code",
   "execution_count": 25,
   "metadata": {},
   "outputs": [
    {
     "data": {
      "text/plain": [
       "maria     4562\n",
       "irma      4525\n",
       "harvey    4443\n",
       "Name: event, dtype: int64"
      ]
     },
     "execution_count": 25,
     "metadata": {},
     "output_type": "execute_result"
    }
   ],
   "source": [
    "train.event.value_counts()"
   ]
  },
  {
   "cell_type": "code",
   "execution_count": 26,
   "metadata": {},
   "outputs": [
    {
     "data": {
      "text/plain": [
       "other_relevant_information                5048\n",
       "rescue_volunteering_or_donation_effort    3015\n",
       "infrastructure_and_utility_damage         1083\n",
       "not_relevant_or_cant_judge                 808\n",
       "affected_individuals                       356\n",
       "injured_or_dead_people                     167\n",
       "vehicle_damage                              57\n",
       "missing_or_found_people                     16\n",
       "Name: text_human, dtype: int64"
      ]
     },
     "execution_count": 26,
     "metadata": {},
     "output_type": "execute_result"
    }
   ],
   "source": [
    "train.text_human.value_counts()"
   ]
  },
  {
   "cell_type": "code",
   "execution_count": 27,
   "metadata": {},
   "outputs": [
    {
     "data": {
      "text/plain": [
       "informative                9742\n",
       "not_informative            3784\n",
       "dont_know_or_cant_judge       4\n",
       "Name: text_info, dtype: int64"
      ]
     },
     "execution_count": 27,
     "metadata": {},
     "output_type": "execute_result"
    }
   ],
   "source": [
    "train.text_info.value_counts()"
   ]
  },
  {
   "cell_type": "code",
   "execution_count": 28,
   "metadata": {},
   "outputs": [],
   "source": [
    "train['y'] = train.text_human.map(\n",
    "    {\"other_relevant_information\":1,\"rescue_volunteering_or_donation_effort\":2, \n",
    "     \"infrastructure_and_utility_damage\":3, \"not_relevant_or_cant_judge\":4,\n",
    "     \"affected_individuals\":5, 'injured_or_dead_people':6, 'missing_or_found_people':7})"
   ]
  },
  {
   "cell_type": "code",
   "execution_count": 29,
   "metadata": {},
   "outputs": [],
   "source": [
    "train.y.fillna(0,inplace=True)"
   ]
  },
  {
   "cell_type": "code",
   "execution_count": 30,
   "metadata": {},
   "outputs": [
    {
     "data": {
      "text/plain": [
       "1.0    5048\n",
       "0.0    3037\n",
       "2.0    3015\n",
       "3.0    1083\n",
       "4.0     808\n",
       "5.0     356\n",
       "6.0     167\n",
       "7.0      16\n",
       "Name: y, dtype: int64"
      ]
     },
     "execution_count": 30,
     "metadata": {},
     "output_type": "execute_result"
    }
   ],
   "source": [
    "train.y.value_counts()"
   ]
  },
  {
   "cell_type": "code",
   "execution_count": 31,
   "metadata": {},
   "outputs": [],
   "source": [
    "train.to_pickle('../data/train.pkl')"
   ]
  }
 ],
 "metadata": {
  "kernelspec": {
   "display_name": "Python 3",
   "language": "python",
   "name": "python3"
  },
  "language_info": {
   "codemirror_mode": {
    "name": "ipython",
    "version": 3
   },
   "file_extension": ".py",
   "mimetype": "text/x-python",
   "name": "python",
   "nbconvert_exporter": "python",
   "pygments_lexer": "ipython3",
   "version": "3.6.5"
  }
 },
 "nbformat": 4,
 "nbformat_minor": 2
}
