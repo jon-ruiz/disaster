{
 "cells": [
  {
   "cell_type": "code",
   "execution_count": 89,
   "metadata": {},
   "outputs": [],
   "source": [
    "import pickle\n",
    "import pandas as pd"
   ]
  },
  {
   "cell_type": "code",
   "execution_count": 107,
   "metadata": {},
   "outputs": [],
   "source": [
    "lr = pickle.load(open(\"../lr_model.pkl\", 'rb'))"
   ]
  },
  {
   "cell_type": "code",
   "execution_count": 108,
   "metadata": {},
   "outputs": [],
   "source": [
    "test = pd.read_pickle(\"../data/hurricane_michael.pkl\")"
   ]
  },
  {
   "cell_type": "code",
   "execution_count": 109,
   "metadata": {},
   "outputs": [
    {
     "data": {
      "text/html": [
       "<div>\n",
       "<style scoped>\n",
       "    .dataframe tbody tr th:only-of-type {\n",
       "        vertical-align: middle;\n",
       "    }\n",
       "\n",
       "    .dataframe tbody tr th {\n",
       "        vertical-align: top;\n",
       "    }\n",
       "\n",
       "    .dataframe thead th {\n",
       "        text-align: right;\n",
       "    }\n",
       "</style>\n",
       "<table border=\"1\" class=\"dataframe\">\n",
       "  <thead>\n",
       "    <tr style=\"text-align: right;\">\n",
       "      <th></th>\n",
       "      <th>date</th>\n",
       "      <th>favorites</th>\n",
       "      <th>geo</th>\n",
       "      <th>hashtags</th>\n",
       "      <th>id</th>\n",
       "      <th>mentions</th>\n",
       "      <th>permalink</th>\n",
       "      <th>retweets</th>\n",
       "      <th>text</th>\n",
       "      <th>to</th>\n",
       "      <th>username</th>\n",
       "    </tr>\n",
       "  </thead>\n",
       "  <tbody>\n",
       "    <tr>\n",
       "      <th>0</th>\n",
       "      <td>2018-10-12 23:59:57+00:00</td>\n",
       "      <td>4</td>\n",
       "      <td></td>\n",
       "      <td>#HurricaneMichael #blessed #UnitedWeStand #tallahasseeproud</td>\n",
       "      <td>1050898900582838272</td>\n",
       "      <td>@COTNews</td>\n",
       "      <td>https://twitter.com/joeearenas/status/1050898900582838272</td>\n",
       "      <td>0</td>\n",
       "      <td>@COTNews has been working 24/7 to restore services in Tallahassee. Thank you, to all the voulenteers and people of this city for everything. You are our heros! #HurricaneMichael #blessed #UnitedWeStand #tallahasseeproud</td>\n",
       "      <td>None</td>\n",
       "      <td>joeearenas</td>\n",
       "    </tr>\n",
       "    <tr>\n",
       "      <th>1</th>\n",
       "      <td>2018-10-12 23:59:53+00:00</td>\n",
       "      <td>1</td>\n",
       "      <td></td>\n",
       "      <td></td>\n",
       "      <td>1050898882526371842</td>\n",
       "      <td></td>\n",
       "      <td>https://twitter.com/LakesideBexley/status/1050898882526371842</td>\n",
       "      <td>0</td>\n",
       "      <td>In the wake of Hurricane Michael, we understand the importance of knowing where to find aid. For storm recovery resources, please visit the following link: https://feaweb.org/hurricane-michael-resources-and-relief …https://feaweb.org/hurricane-michael-resources-and-relief …</td>\n",
       "      <td>None</td>\n",
       "      <td>LakesideBexley</td>\n",
       "    </tr>\n",
       "    <tr>\n",
       "      <th>2</th>\n",
       "      <td>2018-10-12 23:59:52+00:00</td>\n",
       "      <td>0</td>\n",
       "      <td></td>\n",
       "      <td>#HurricaneMichael #Florida</td>\n",
       "      <td>1050898882077442048</td>\n",
       "      <td></td>\n",
       "      <td>https://twitter.com/PRAISETRIUNEGOD/status/1050898882077442048</td>\n",
       "      <td>0</td>\n",
       "      <td>Maybe 17 \" #HurricaneMichael Updates: Body Found on #Florida Beach with Death Toll Already at 16 \"https://weather.com/amp/storms/hurricane/news/2018-10-12-hurricane-michael-impacts-death-toll-southeast-mid-atlantic.html …</td>\n",
       "      <td>None</td>\n",
       "      <td>PRAISETRIUNEGOD</td>\n",
       "    </tr>\n",
       "    <tr>\n",
       "      <th>3</th>\n",
       "      <td>2018-10-12 23:59:49+00:00</td>\n",
       "      <td>0</td>\n",
       "      <td></td>\n",
       "      <td></td>\n",
       "      <td>1050898865988222976</td>\n",
       "      <td></td>\n",
       "      <td>https://twitter.com/aShartee/status/1050898865988222976</td>\n",
       "      <td>0</td>\n",
       "      <td>In other news praying for those affected by hurricane Michael</td>\n",
       "      <td>None</td>\n",
       "      <td>aShartee</td>\n",
       "    </tr>\n",
       "    <tr>\n",
       "      <th>4</th>\n",
       "      <td>2018-10-12 23:59:43+00:00</td>\n",
       "      <td>0</td>\n",
       "      <td></td>\n",
       "      <td>#HurricaneMichael #ExcessiveForce</td>\n",
       "      <td>1050898841879236608</td>\n",
       "      <td></td>\n",
       "      <td>https://twitter.com/MindOfMo/status/1050898841879236608</td>\n",
       "      <td>0</td>\n",
       "      <td>iSpy 2 or 3 who'd be hard-pressed to RUN in an emergency. I mention it cuz: 1. POTUS is not honoring #HurricaneMichael, WTF. 2. Suspect overweight/unfit contributes to #ExcessiveForce, including/especially fatally shooting FAST. 3. LEO mostly giving Heir carte blanche (like MBS).https://twitter.com/CBSNews/status/1050891575067377664 …</td>\n",
       "      <td>CBSNews</td>\n",
       "      <td>MindOfMo</td>\n",
       "    </tr>\n",
       "  </tbody>\n",
       "</table>\n",
       "</div>"
      ],
      "text/plain": [
       "                       date  favorites geo  \\\n",
       "0 2018-10-12 23:59:57+00:00  4               \n",
       "1 2018-10-12 23:59:53+00:00  1               \n",
       "2 2018-10-12 23:59:52+00:00  0               \n",
       "3 2018-10-12 23:59:49+00:00  0               \n",
       "4 2018-10-12 23:59:43+00:00  0               \n",
       "\n",
       "                                                      hashtags  \\\n",
       "0  #HurricaneMichael #blessed #UnitedWeStand #tallahasseeproud   \n",
       "1                                                                \n",
       "2  #HurricaneMichael #Florida                                    \n",
       "3                                                                \n",
       "4  #HurricaneMichael #ExcessiveForce                             \n",
       "\n",
       "                    id  mentions  \\\n",
       "0  1050898900582838272  @COTNews   \n",
       "1  1050898882526371842             \n",
       "2  1050898882077442048             \n",
       "3  1050898865988222976             \n",
       "4  1050898841879236608             \n",
       "\n",
       "                                                        permalink  retweets  \\\n",
       "0  https://twitter.com/joeearenas/status/1050898900582838272       0          \n",
       "1  https://twitter.com/LakesideBexley/status/1050898882526371842   0          \n",
       "2  https://twitter.com/PRAISETRIUNEGOD/status/1050898882077442048  0          \n",
       "3  https://twitter.com/aShartee/status/1050898865988222976         0          \n",
       "4  https://twitter.com/MindOfMo/status/1050898841879236608         0          \n",
       "\n",
       "                                                                                                                                                                                                                                                                                                                                               text  \\\n",
       "0  @COTNews has been working 24/7 to restore services in Tallahassee. Thank you, to all the voulenteers and people of this city for everything. You are our heros! #HurricaneMichael #blessed #UnitedWeStand #tallahasseeproud                                                                                                                        \n",
       "1  In the wake of Hurricane Michael, we understand the importance of knowing where to find aid. For storm recovery resources, please visit the following link: https://feaweb.org/hurricane-michael-resources-and-relief …https://feaweb.org/hurricane-michael-resources-and-relief …                                                                 \n",
       "2  Maybe 17 \" #HurricaneMichael Updates: Body Found on #Florida Beach with Death Toll Already at 16 \"https://weather.com/amp/storms/hurricane/news/2018-10-12-hurricane-michael-impacts-death-toll-southeast-mid-atlantic.html …                                                                                                                      \n",
       "3  In other news praying for those affected by hurricane Michael                                                                                                                                                                                                                                                                                      \n",
       "4  iSpy 2 or 3 who'd be hard-pressed to RUN in an emergency. I mention it cuz: 1. POTUS is not honoring #HurricaneMichael, WTF. 2. Suspect overweight/unfit contributes to #ExcessiveForce, including/especially fatally shooting FAST. 3. LEO mostly giving Heir carte blanche (like MBS).https://twitter.com/CBSNews/status/1050891575067377664 …   \n",
       "\n",
       "        to         username  \n",
       "0  None     joeearenas       \n",
       "1  None     LakesideBexley   \n",
       "2  None     PRAISETRIUNEGOD  \n",
       "3  None     aShartee         \n",
       "4  CBSNews  MindOfMo         "
      ]
     },
     "execution_count": 109,
     "metadata": {},
     "output_type": "execute_result"
    }
   ],
   "source": [
    "test.head()"
   ]
  },
  {
   "cell_type": "code",
   "execution_count": 110,
   "metadata": {},
   "outputs": [],
   "source": [
    "tweets = test[['text','permalink']]"
   ]
  },
  {
   "cell_type": "code",
   "execution_count": 94,
   "metadata": {},
   "outputs": [],
   "source": [
    "tweets = tweets.rename(columns={\"text\":\"tweet_text\"})"
   ]
  },
  {
   "cell_type": "code",
   "execution_count": 95,
   "metadata": {},
   "outputs": [],
   "source": [
    "#make tweets lowercase\n",
    "lower_tweets = []\n",
    "for tweet in tweets.tweet_text:\n",
    "    lower_tweets.append(tweet.lower())\n",
    "\n",
    "lower_tweets = pd.DataFrame(lower_tweets)\n",
    "\n",
    "lower_tweets.rename(columns={0:\"tweet\"}, inplace=True)\n",
    "\n",
    "tweets.tweet_text = lower_tweets.tweet\n",
    "\n",
    "#truncate elongations (NO CODE FOR NOW)\n",
    "#>>> import re\n",
    "#>>> re.sub(r'(.)\\1+', r'\\1\\1', \"haaaaapppppyyy\")  #https://stackoverflow.com/questions/10072744/remove-repeating-characters-from-words\n",
    "#spell out numbers (NO CODE FOR NOW)\n",
    "\n",
    "#replace all usernames with 'USERID'\n",
    "tweets.tweet_text = tweets.tweet_text.replace(r'@\\S+', 'USERID', regex=True)\n",
    "\n",
    "#remove 'USERID'\n",
    "userid_tweets = []\n",
    "for tweet in tweets.tweet_text:\n",
    "    userid_tweets.append(tweet.replace('USERID', ''))\n",
    "\n",
    "userid_tweets = pd.DataFrame(userid_tweets)\n",
    "\n",
    "userid_tweets.rename(columns={0:\"tweet\"}, inplace=True)\n",
    "tweets.tweet_text = userid_tweets.tweet\n",
    "\n",
    "\n",
    "#replace all URLs with HTTP\n",
    "tweets.tweet_text = tweets.tweet_text.replace(r'http\\S+', 'HTTP', regex=True).replace(r'www\\S+', 'HTTP', regex=True)\n",
    "\n",
    "#remove HTTP\n",
    "http_tweets = []\n",
    "for tweet in tweets.tweet_text:\n",
    "    http_tweets.append(tweet.replace('HTTP', ''))\n",
    "\n",
    "http_tweets = pd.DataFrame(http_tweets)\n",
    "\n",
    "http_tweets.rename(columns={0:\"tweet\"}, inplace=True)\n",
    "tweets.tweet_text = http_tweets.tweet\n",
    "\n",
    "#remove \"RT\" string\n",
    "tweets.tweet_text = tweets.tweet_text.map(lambda x: x.lstrip('rt'))\n",
    "\n",
    "#remove remaining punctuation except for \"#\"\n",
    "tweets.tweet_text = tweets.tweet_text.str.replace(\"[^a-zA-Z]\", \" \")"
   ]
  },
  {
   "cell_type": "code",
   "execution_count": 96,
   "metadata": {},
   "outputs": [],
   "source": [
    "tweets = tweets.drop_duplicates(subset=[\"tweet_text\"])"
   ]
  },
  {
   "cell_type": "code",
   "execution_count": 97,
   "metadata": {},
   "outputs": [],
   "source": [
    "from sklearn.feature_extraction.text import CountVectorizer\n",
    "from nltk.tokenize import TweetTokenizer"
   ]
  },
  {
   "cell_type": "code",
   "execution_count": 98,
   "metadata": {},
   "outputs": [],
   "source": [
    "tknzr = TweetTokenizer()\n",
    "cvec = CountVectorizer(stop_words=\"english\", tokenizer=tknzr.tokenize, max_features=14897)\n",
    "test = cvec.fit_transform(tweets['tweet_text'])"
   ]
  },
  {
   "cell_type": "code",
   "execution_count": 99,
   "metadata": {},
   "outputs": [],
   "source": [
    "predictions = lr.predict(test)"
   ]
  },
  {
   "cell_type": "code",
   "execution_count": 100,
   "metadata": {},
   "outputs": [],
   "source": [
    "tweets[\"predictions\"] = predictions"
   ]
  },
  {
   "cell_type": "code",
   "execution_count": 101,
   "metadata": {},
   "outputs": [
    {
     "data": {
      "text/html": [
       "<div>\n",
       "<style scoped>\n",
       "    .dataframe tbody tr th:only-of-type {\n",
       "        vertical-align: middle;\n",
       "    }\n",
       "\n",
       "    .dataframe tbody tr th {\n",
       "        vertical-align: top;\n",
       "    }\n",
       "\n",
       "    .dataframe thead th {\n",
       "        text-align: right;\n",
       "    }\n",
       "</style>\n",
       "<table border=\"1\" class=\"dataframe\">\n",
       "  <thead>\n",
       "    <tr style=\"text-align: right;\">\n",
       "      <th></th>\n",
       "      <th>tweet_text</th>\n",
       "      <th>id</th>\n",
       "      <th>predictions</th>\n",
       "    </tr>\n",
       "  </thead>\n",
       "  <tbody>\n",
       "    <tr>\n",
       "      <th>0</th>\n",
       "      <td>has been working      to restore services in tallahassee  thank you  to all the voulenteers and people of this city for everything  you are our heros   hurricanemichael  blessed  unitedwestand  tallahasseeproud</td>\n",
       "      <td>1050898900582838272</td>\n",
       "      <td>0</td>\n",
       "    </tr>\n",
       "    <tr>\n",
       "      <th>1</th>\n",
       "      <td>in the wake of hurricane michael  we understand the importance of knowing where to find aid  for storm recovery resources  please visit the following link</td>\n",
       "      <td>1050898882526371842</td>\n",
       "      <td>1</td>\n",
       "    </tr>\n",
       "    <tr>\n",
       "      <th>2</th>\n",
       "      <td>maybe       hurricanemichael updates  body found on  florida beach with death toll already at</td>\n",
       "      <td>1050898882077442048</td>\n",
       "      <td>0</td>\n",
       "    </tr>\n",
       "    <tr>\n",
       "      <th>3</th>\n",
       "      <td>in other news praying for those affected by hurricane michael</td>\n",
       "      <td>1050898865988222976</td>\n",
       "      <td>0</td>\n",
       "    </tr>\n",
       "    <tr>\n",
       "      <th>4</th>\n",
       "      <td>ispy   or   who d be hard pressed to run in an emergency  i mention it cuz     potus is not honoring  hurricanemichael  wtf     suspect overweight unfit contributes to  excessiveforce  including especially fatally shooting fast     leo mostly giving heir carte blanche  like mbs</td>\n",
       "      <td>1050898841879236608</td>\n",
       "      <td>0</td>\n",
       "    </tr>\n",
       "  </tbody>\n",
       "</table>\n",
       "</div>"
      ],
      "text/plain": [
       "                                                                                                                                                                                                                                                                                   tweet_text  \\\n",
       "0   has been working      to restore services in tallahassee  thank you  to all the voulenteers and people of this city for everything  you are our heros   hurricanemichael  blessed  unitedwestand  tallahasseeproud                                                                          \n",
       "1  in the wake of hurricane michael  we understand the importance of knowing where to find aid  for storm recovery resources  please visit the following link                                                                                                                                   \n",
       "2  maybe       hurricanemichael updates  body found on  florida beach with death toll already at                                                                                                                                                                                                \n",
       "3  in other news praying for those affected by hurricane michael                                                                                                                                                                                                                                \n",
       "4  ispy   or   who d be hard pressed to run in an emergency  i mention it cuz     potus is not honoring  hurricanemichael  wtf     suspect overweight unfit contributes to  excessiveforce  including especially fatally shooting fast     leo mostly giving heir carte blanche  like mbs       \n",
       "\n",
       "                    id  predictions  \n",
       "0  1050898900582838272  0            \n",
       "1  1050898882526371842  1            \n",
       "2  1050898882077442048  0            \n",
       "3  1050898865988222976  0            \n",
       "4  1050898841879236608  0            "
      ]
     },
     "execution_count": 101,
     "metadata": {},
     "output_type": "execute_result"
    }
   ],
   "source": [
    "tweets.head()"
   ]
  },
  {
   "cell_type": "code",
   "execution_count": 102,
   "metadata": {},
   "outputs": [
    {
     "data": {
      "text/plain": [
       "0    30246\n",
       "1    11476\n",
       "Name: predictions, dtype: int64"
      ]
     },
     "execution_count": 102,
     "metadata": {},
     "output_type": "execute_result"
    }
   ],
   "source": [
    "tweets.predictions.value_counts()"
   ]
  },
  {
   "cell_type": "code",
   "execution_count": 103,
   "metadata": {},
   "outputs": [],
   "source": [
    "pd.set_option('display.max_colwidth', -1)"
   ]
  },
  {
   "cell_type": "code",
   "execution_count": 104,
   "metadata": {},
   "outputs": [],
   "source": [
    "sample_tweets = tweets[tweets.predictions == 1][['tweet_text','permalink']][:10]"
   ]
  },
  {
   "cell_type": "code",
   "execution_count": 105,
   "metadata": {},
   "outputs": [
    {
     "data": {
      "text/html": [
       "<div>\n",
       "<style scoped>\n",
       "    .dataframe tbody tr th:only-of-type {\n",
       "        vertical-align: middle;\n",
       "    }\n",
       "\n",
       "    .dataframe tbody tr th {\n",
       "        vertical-align: top;\n",
       "    }\n",
       "\n",
       "    .dataframe thead th {\n",
       "        text-align: right;\n",
       "    }\n",
       "</style>\n",
       "<table border=\"1\" class=\"dataframe\">\n",
       "  <thead>\n",
       "    <tr style=\"text-align: right;\">\n",
       "      <th></th>\n",
       "      <th>tweet_text</th>\n",
       "      <th>id</th>\n",
       "    </tr>\n",
       "  </thead>\n",
       "  <tbody>\n",
       "    <tr>\n",
       "      <th>1</th>\n",
       "      <td>in the wake of hurricane michael  we understand the importance of knowing where to find aid  for storm recovery resources  please visit the following link</td>\n",
       "      <td>1050898882526371842</td>\n",
       "    </tr>\n",
       "    <tr>\n",
       "      <th>7</th>\n",
       "      <td>hurricane michael leaves friends  relatives searching for thousands of people   miami herald</td>\n",
       "      <td>1050898807544864775</td>\n",
       "    </tr>\n",
       "    <tr>\n",
       "      <th>11</th>\n",
       "      <td>sorry  folks  we are located in tallahassee florida and were hit by hurricane michael    pic twitter com  izjgduxxu</td>\n",
       "      <td>1050898753190862850</td>\n",
       "    </tr>\n",
       "    <tr>\n",
       "      <th>13</th>\n",
       "      <td>short work trip to atl was fast and furious  thankfully  the hurricane avoided us   hurricanemichael  atl  atlanta  lightposts  symmetry  vsco  vscocam  rain  trees</td>\n",
       "      <td>1050898746404470785</td>\n",
       "    </tr>\n",
       "    <tr>\n",
       "      <th>15</th>\n",
       "      <td>o all victims of hurricane michael  alive or no more  my hope and prayers will go out to all of you  cling onto hope and don t give in</td>\n",
       "      <td>1050898709913964544</td>\n",
       "    </tr>\n",
       "    <tr>\n",
       "      <th>16</th>\n",
       "      <td>sorry folks  we are located in tallahassee florida and were hit by hurricane michael</td>\n",
       "      <td>1050898645414014976</td>\n",
       "    </tr>\n",
       "    <tr>\n",
       "      <th>17</th>\n",
       "      <td>i liked a  video  hurricane michael causes the unthinkable</td>\n",
       "      <td>1050898645195853824</td>\n",
       "    </tr>\n",
       "    <tr>\n",
       "      <th>36</th>\n",
       "      <td>i liked a  video  a message from president trump on hurricane michael</td>\n",
       "      <td>1050898318782533632</td>\n",
       "    </tr>\n",
       "    <tr>\n",
       "      <th>40</th>\n",
       "      <td>widespread  catastrophic damage   every building at tyndall afb totaled by hurricane michael</td>\n",
       "      <td>1050898256639811585</td>\n",
       "    </tr>\n",
       "    <tr>\n",
       "      <th>42</th>\n",
       "      <td>devastated beyond words   panama city the day after hurricane michael</td>\n",
       "      <td>1050898216131198976</td>\n",
       "    </tr>\n",
       "  </tbody>\n",
       "</table>\n",
       "</div>"
      ],
      "text/plain": [
       "                                                                                                                                                                  tweet_text  \\\n",
       "1   in the wake of hurricane michael  we understand the importance of knowing where to find aid  for storm recovery resources  please visit the following link                 \n",
       "7   hurricane michael leaves friends  relatives searching for thousands of people   miami herald                                                                               \n",
       "11  sorry  folks  we are located in tallahassee florida and were hit by hurricane michael    pic twitter com  izjgduxxu                                                        \n",
       "13  short work trip to atl was fast and furious  thankfully  the hurricane avoided us   hurricanemichael  atl  atlanta  lightposts  symmetry  vsco  vscocam  rain  trees       \n",
       "15  o all victims of hurricane michael  alive or no more  my hope and prayers will go out to all of you  cling onto hope and don t give in                                     \n",
       "16  sorry folks  we are located in tallahassee florida and were hit by hurricane michael                                                                                       \n",
       "17  i liked a  video  hurricane michael causes the unthinkable                                                                                                                 \n",
       "36  i liked a  video  a message from president trump on hurricane michael                                                                                                      \n",
       "40   widespread  catastrophic damage   every building at tyndall afb totaled by hurricane michael                                                                              \n",
       "42   devastated beyond words   panama city the day after hurricane michael                                                                                                     \n",
       "\n",
       "                     id  \n",
       "1   1050898882526371842  \n",
       "7   1050898807544864775  \n",
       "11  1050898753190862850  \n",
       "13  1050898746404470785  \n",
       "15  1050898709913964544  \n",
       "16  1050898645414014976  \n",
       "17  1050898645195853824  \n",
       "36  1050898318782533632  \n",
       "40  1050898256639811585  \n",
       "42  1050898216131198976  "
      ]
     },
     "execution_count": 105,
     "metadata": {},
     "output_type": "execute_result"
    }
   ],
   "source": [
    "sample_tweets"
   ]
  },
  {
   "cell_type": "code",
   "execution_count": 88,
   "metadata": {},
   "outputs": [],
   "source": [
    "sample_tweets.to_csv(\"../data/sample_tweets.csv\")"
   ]
  },
  {
   "cell_type": "code",
   "execution_count": null,
   "metadata": {},
   "outputs": [],
   "source": []
  }
 ],
 "metadata": {
  "kernelspec": {
   "display_name": "Python 3",
   "language": "python",
   "name": "python3"
  },
  "language_info": {
   "codemirror_mode": {
    "name": "ipython",
    "version": 3
   },
   "file_extension": ".py",
   "mimetype": "text/x-python",
   "name": "python",
   "nbconvert_exporter": "python",
   "pygments_lexer": "ipython3",
   "version": "3.6.8"
  }
 },
 "nbformat": 4,
 "nbformat_minor": 2
}
