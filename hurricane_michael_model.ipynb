{
 "cells": [
  {
   "cell_type": "code",
   "execution_count": 21,
   "metadata": {},
   "outputs": [
    {
     "name": "stdout",
     "output_type": "stream",
     "text": [
      "125.4078061580658\n"
     ]
    }
   ],
   "source": [
    "import pandas as pd\n",
    "import numpy as np\n",
    "import time\n",
    "import gensim\n",
    "from gensim.models.word2vec import Word2Vec\n",
    "import gensim.downloader as api\n",
    "\n",
    "# Start timer.\n",
    "t0 = time.time() # TIME.TIME GRABS CURRENT TIME OF RUNNINGN THIS CODE\n",
    "\n",
    "# Import word vectors into \"model.\"\n",
    "model = gensim.models.KeyedVectors.load_word2vec_format('./lexvec.enwiki+newscrawl.300d.W.pos.vectors')\n",
    "\n",
    "# Print results of timer.\n",
    "print(time.time() - t0)"
   ]
  },
  {
   "cell_type": "markdown",
   "metadata": {},
   "source": [
    "### Read `hurricane_michael` pickle"
   ]
  },
  {
   "cell_type": "code",
   "execution_count": 2,
   "metadata": {},
   "outputs": [],
   "source": [
    "hurricane_michael = pd.read_pickle('./hurricane_michael.pkl')"
   ]
  },
  {
   "cell_type": "code",
   "execution_count": 3,
   "metadata": {},
   "outputs": [
    {
     "data": {
      "text/html": [
       "<div>\n",
       "<style scoped>\n",
       "    .dataframe tbody tr th:only-of-type {\n",
       "        vertical-align: middle;\n",
       "    }\n",
       "\n",
       "    .dataframe tbody tr th {\n",
       "        vertical-align: top;\n",
       "    }\n",
       "\n",
       "    .dataframe thead th {\n",
       "        text-align: right;\n",
       "    }\n",
       "</style>\n",
       "<table border=\"1\" class=\"dataframe\">\n",
       "  <thead>\n",
       "    <tr style=\"text-align: right;\">\n",
       "      <th></th>\n",
       "      <th>date</th>\n",
       "      <th>favorites</th>\n",
       "      <th>geo</th>\n",
       "      <th>hashtags</th>\n",
       "      <th>id</th>\n",
       "      <th>mentions</th>\n",
       "      <th>permalink</th>\n",
       "      <th>retweets</th>\n",
       "      <th>text</th>\n",
       "      <th>to</th>\n",
       "      <th>username</th>\n",
       "    </tr>\n",
       "  </thead>\n",
       "  <tbody>\n",
       "    <tr>\n",
       "      <th>0</th>\n",
       "      <td>2018-10-12 23:59:57+00:00</td>\n",
       "      <td>4</td>\n",
       "      <td></td>\n",
       "      <td>#HurricaneMichael #blessed #UnitedWeStand #tal...</td>\n",
       "      <td>1050898900582838272</td>\n",
       "      <td>@COTNews</td>\n",
       "      <td>https://twitter.com/joeearenas/status/10508989...</td>\n",
       "      <td>0</td>\n",
       "      <td>@COTNews has been working 24/7 to restore serv...</td>\n",
       "      <td>None</td>\n",
       "      <td>joeearenas</td>\n",
       "    </tr>\n",
       "    <tr>\n",
       "      <th>1</th>\n",
       "      <td>2018-10-12 23:59:52+00:00</td>\n",
       "      <td>0</td>\n",
       "      <td></td>\n",
       "      <td>#HurricaneMichael #Florida</td>\n",
       "      <td>1050898882077442048</td>\n",
       "      <td></td>\n",
       "      <td>https://twitter.com/PRAISETRIUNEGOD/status/105...</td>\n",
       "      <td>0</td>\n",
       "      <td>Maybe 17 \" #HurricaneMichael Updates: Body Fou...</td>\n",
       "      <td>None</td>\n",
       "      <td>PRAISETRIUNEGOD</td>\n",
       "    </tr>\n",
       "    <tr>\n",
       "      <th>2</th>\n",
       "      <td>2018-10-12 23:59:43+00:00</td>\n",
       "      <td>0</td>\n",
       "      <td></td>\n",
       "      <td>#HurricaneMichael #ExcessiveForce</td>\n",
       "      <td>1050898841879236608</td>\n",
       "      <td></td>\n",
       "      <td>https://twitter.com/MindOfMo/status/1050898841...</td>\n",
       "      <td>0</td>\n",
       "      <td>iSpy 2 or 3 who'd be hard-pressed to RUN in an...</td>\n",
       "      <td>CBSNews</td>\n",
       "      <td>MindOfMo</td>\n",
       "    </tr>\n",
       "    <tr>\n",
       "      <th>3</th>\n",
       "      <td>2018-10-12 23:59:24+00:00</td>\n",
       "      <td>0</td>\n",
       "      <td></td>\n",
       "      <td>#HurricaneMichael #ExcessiveForce</td>\n",
       "      <td>1050898764649639936</td>\n",
       "      <td></td>\n",
       "      <td>https://twitter.com/MindOfMo/status/1050898764...</td>\n",
       "      <td>0</td>\n",
       "      <td>iSpy 2 or 3 who'd be hard-pressed to RUN in an...</td>\n",
       "      <td>CBSNews</td>\n",
       "      <td>MindOfMo</td>\n",
       "    </tr>\n",
       "    <tr>\n",
       "      <th>4</th>\n",
       "      <td>2018-10-12 23:59:20+00:00</td>\n",
       "      <td>0</td>\n",
       "      <td></td>\n",
       "      <td>#hurricanemichael #atl #atlanta #lightposts #s...</td>\n",
       "      <td>1050898746404470785</td>\n",
       "      <td>@Hartsfield</td>\n",
       "      <td>https://twitter.com/Noblerthanyou/status/10508...</td>\n",
       "      <td>0</td>\n",
       "      <td>Short work trip to ATL was fast and furious. T...</td>\n",
       "      <td>None</td>\n",
       "      <td>Noblerthanyou</td>\n",
       "    </tr>\n",
       "  </tbody>\n",
       "</table>\n",
       "</div>"
      ],
      "text/plain": [
       "                       date  favorites geo  \\\n",
       "0 2018-10-12 23:59:57+00:00          4       \n",
       "1 2018-10-12 23:59:52+00:00          0       \n",
       "2 2018-10-12 23:59:43+00:00          0       \n",
       "3 2018-10-12 23:59:24+00:00          0       \n",
       "4 2018-10-12 23:59:20+00:00          0       \n",
       "\n",
       "                                            hashtags                   id  \\\n",
       "0  #HurricaneMichael #blessed #UnitedWeStand #tal...  1050898900582838272   \n",
       "1                         #HurricaneMichael #Florida  1050898882077442048   \n",
       "2                  #HurricaneMichael #ExcessiveForce  1050898841879236608   \n",
       "3                  #HurricaneMichael #ExcessiveForce  1050898764649639936   \n",
       "4  #hurricanemichael #atl #atlanta #lightposts #s...  1050898746404470785   \n",
       "\n",
       "      mentions                                          permalink  retweets  \\\n",
       "0     @COTNews  https://twitter.com/joeearenas/status/10508989...         0   \n",
       "1               https://twitter.com/PRAISETRIUNEGOD/status/105...         0   \n",
       "2               https://twitter.com/MindOfMo/status/1050898841...         0   \n",
       "3               https://twitter.com/MindOfMo/status/1050898764...         0   \n",
       "4  @Hartsfield  https://twitter.com/Noblerthanyou/status/10508...         0   \n",
       "\n",
       "                                                text       to         username  \n",
       "0  @COTNews has been working 24/7 to restore serv...     None       joeearenas  \n",
       "1  Maybe 17 \" #HurricaneMichael Updates: Body Fou...     None  PRAISETRIUNEGOD  \n",
       "2  iSpy 2 or 3 who'd be hard-pressed to RUN in an...  CBSNews         MindOfMo  \n",
       "3  iSpy 2 or 3 who'd be hard-pressed to RUN in an...  CBSNews         MindOfMo  \n",
       "4  Short work trip to ATL was fast and furious. T...     None    Noblerthanyou  "
      ]
     },
     "execution_count": 3,
     "metadata": {},
     "output_type": "execute_result"
    }
   ],
   "source": [
    "hurricane_michael.head()"
   ]
  },
  {
   "cell_type": "code",
   "execution_count": 4,
   "metadata": {},
   "outputs": [
    {
     "data": {
      "text/plain": [
       "(27362, 11)"
      ]
     },
     "execution_count": 4,
     "metadata": {},
     "output_type": "execute_result"
    }
   ],
   "source": [
    "hurricane_michael.shape"
   ]
  },
  {
   "cell_type": "markdown",
   "metadata": {},
   "source": [
    "### Read in `hurricanemichael` pickle"
   ]
  },
  {
   "cell_type": "code",
   "execution_count": 5,
   "metadata": {},
   "outputs": [],
   "source": [
    "hurricane_michael_2 = pd.read_pickle('./hurricanemichael.pkl')"
   ]
  },
  {
   "cell_type": "code",
   "execution_count": 6,
   "metadata": {},
   "outputs": [
    {
     "data": {
      "text/plain": [
       "(13681, 11)"
      ]
     },
     "execution_count": 6,
     "metadata": {},
     "output_type": "execute_result"
    }
   ],
   "source": [
    "hurricane_michael_2.shape"
   ]
  },
  {
   "cell_type": "markdown",
   "metadata": {},
   "source": [
    "### Merge Dataframes"
   ]
  },
  {
   "cell_type": "code",
   "execution_count": 8,
   "metadata": {},
   "outputs": [],
   "source": [
    "hurricane_michael = pd.concat([hurricane_michael, hurricane_michael_2])"
   ]
  },
  {
   "cell_type": "code",
   "execution_count": 9,
   "metadata": {},
   "outputs": [
    {
     "data": {
      "text/plain": [
       "(41043, 11)"
      ]
     },
     "execution_count": 9,
     "metadata": {},
     "output_type": "execute_result"
    }
   ],
   "source": [
    "hurricane_michael.shape"
   ]
  },
  {
   "cell_type": "code",
   "execution_count": 10,
   "metadata": {},
   "outputs": [
    {
     "data": {
      "text/plain": [
       "date             0\n",
       "favorites        0\n",
       "geo              0\n",
       "hashtags         0\n",
       "id               0\n",
       "mentions         0\n",
       "permalink        0\n",
       "retweets         0\n",
       "text             0\n",
       "to           33588\n",
       "username         0\n",
       "dtype: int64"
      ]
     },
     "execution_count": 10,
     "metadata": {},
     "output_type": "execute_result"
    }
   ],
   "source": [
    "hurricane_michael.isnull().sum()"
   ]
  },
  {
   "cell_type": "code",
   "execution_count": 11,
   "metadata": {},
   "outputs": [
    {
     "data": {
      "text/plain": [
       "date         datetime64[ns, UTC]\n",
       "favorites                  int64\n",
       "geo                       object\n",
       "hashtags                  object\n",
       "id                        object\n",
       "mentions                  object\n",
       "permalink                 object\n",
       "retweets                   int64\n",
       "text                      object\n",
       "to                        object\n",
       "username                  object\n",
       "dtype: object"
      ]
     },
     "execution_count": 11,
     "metadata": {},
     "output_type": "execute_result"
    }
   ],
   "source": [
    "hurricane_michael.dtypes"
   ]
  },
  {
   "cell_type": "markdown",
   "metadata": {},
   "source": [
    "## Clean data"
   ]
  },
  {
   "cell_type": "markdown",
   "metadata": {},
   "source": [
    "### `hashtags` and `text` columns: Remove Punctutation"
   ]
  },
  {
   "cell_type": "code",
   "execution_count": 12,
   "metadata": {},
   "outputs": [],
   "source": [
    "hurricane_michael['hashtags'] = hurricane_michael['hashtags'].str.replace(\"[^a-zA-Z]\", \" \")"
   ]
  },
  {
   "cell_type": "code",
   "execution_count": 13,
   "metadata": {},
   "outputs": [],
   "source": [
    "hurricane_michael['text'] = hurricane_michael['text'].str.replace(\"[^a-zA-Z]\", \" \")"
   ]
  },
  {
   "cell_type": "markdown",
   "metadata": {},
   "source": [
    "### Define X"
   ]
  },
  {
   "cell_type": "code",
   "execution_count": 16,
   "metadata": {},
   "outputs": [],
   "source": [
    "X = hurricane_michael[['hashtags', 'text']]"
   ]
  },
  {
   "cell_type": "markdown",
   "metadata": {},
   "source": [
    "### Word2Vec Model"
   ]
  },
  {
   "cell_type": "code",
   "execution_count": 17,
   "metadata": {},
   "outputs": [
    {
     "name": "stderr",
     "output_type": "stream",
     "text": [
      "C:\\Users\\Michelle\\Anaconda3\\envs\\dsi\\lib\\site-packages\\gensim\\models\\base_any2vec.py:743: UserWarning: C extension not loaded, training will be slow. Install a C compiler and reinstall gensim for fast training.\n",
      "  \"C extension not loaded, training will be slow. \"\n"
     ]
    }
   ],
   "source": [
    "model = Word2Vec(X,      # Corpus of data.\n",
    "                 size=100,    # How many dimensions do you want in your word vector?\n",
    "                 window=5,    # How many \"context words\" do you want?\n",
    "                 min_count=1, # Ignores words below this threshold.\n",
    "                 sg=0,        # SG = 1 uses SkipGram, SG = 0 uses CBOW (default).\n",
    "                 workers=4)   # Number of \"worker threads\" to use (parallelizes process)."
   ]
  },
  {
   "cell_type": "code",
   "execution_count": 22,
   "metadata": {},
   "outputs": [
    {
     "data": {
      "text/plain": [
       "[('emergencies', 0.6039196252822876),\n",
       " ('ambulance', 0.5555874109268188),\n",
       " ('disaster', 0.5076570510864258),\n",
       " ('evacuation', 0.5072633624076843),\n",
       " ('urgent', 0.4988406002521515),\n",
       " ('rescue', 0.4979887306690216),\n",
       " ('triage', 0.49358129501342773),\n",
       " ('paramedics', 0.49310046434402466),\n",
       " ('standby', 0.4819432199001312),\n",
       " ('ambulances', 0.4794476330280304),\n",
       " ('preparedness', 0.4685181677341461),\n",
       " ('medical', 0.4678049683570862),\n",
       " ('fema', 0.4600025713443756),\n",
       " ('precautionary', 0.4564974308013916),\n",
       " ('paramedic', 0.44354248046875),\n",
       " ('responders', 0.4417320787906647),\n",
       " ('responder', 0.4378308057785034),\n",
       " ('outpatient', 0.4376698136329651),\n",
       " ('humanitarian', 0.4371011257171631),\n",
       " ('unscheduled', 0.43055665493011475),\n",
       " ('nonemergency', 0.42669689655303955),\n",
       " ('aid', 0.4249282479286194),\n",
       " ('medics', 0.42063137888908386),\n",
       " ('dispatchers', 0.4198247194290161),\n",
       " ('firefighting', 0.41936618089675903)]"
      ]
     },
     "execution_count": 22,
     "metadata": {},
     "output_type": "execute_result"
    }
   ],
   "source": [
    "model.most_similar('emergency', topn=25)"
   ]
  },
  {
   "cell_type": "code",
   "execution_count": 23,
   "metadata": {},
   "outputs": [
    {
     "data": {
      "text/plain": [
       "[('foods', 0.6212202310562134),\n",
       " ('seafood', 0.6099287867546082),\n",
       " ('meals', 0.6038150191307068),\n",
       " ('foodstuffs', 0.5895399451255798),\n",
       " ('meat', 0.5782395601272583),\n",
       " ('nutritious', 0.5607747435569763),\n",
       " ('meal', 0.5420812368392944),\n",
       " ('groceries', 0.5333590507507324),\n",
       " ('snack', 0.5314205288887024),\n",
       " ('nutrition', 0.5273828506469727),\n",
       " ('grocery', 0.5240978002548218),\n",
       " ('poultry', 0.5150964260101318),\n",
       " ('snacks', 0.5125464200973511),\n",
       " ('necessities', 0.5027074813842773),\n",
       " ('beverage', 0.49984222650527954),\n",
       " ('foodstuff', 0.49397554993629456),\n",
       " ('takeaway', 0.4935123026371002),\n",
       " ('dairy', 0.48863810300827026),\n",
       " ('vegetables', 0.48462727665901184),\n",
       " ('nutritional', 0.4812769293785095),\n",
       " ('ingredients', 0.47778424620628357),\n",
       " ('perishable', 0.4772763252258301),\n",
       " ('bottled', 0.4752594232559204),\n",
       " ('calorie', 0.4723014831542969),\n",
       " ('sustenance', 0.4694999158382416)]"
      ]
     },
     "execution_count": 23,
     "metadata": {},
     "output_type": "execute_result"
    }
   ],
   "source": [
    "model.most_similar('food', topn=25)"
   ]
  },
  {
   "cell_type": "code",
   "execution_count": 24,
   "metadata": {},
   "outputs": [
    {
     "data": {
      "text/plain": [
       "[('seawater', 0.6570144891738892),\n",
       " ('groundwater', 0.6502763032913208),\n",
       " ('sewage', 0.6035518646240234),\n",
       " ('potable', 0.587207555770874),\n",
       " ('wastewater', 0.5817205905914307),\n",
       " ('rainwater', 0.5797319412231445),\n",
       " ('stormwater', 0.5383915305137634),\n",
       " ('sewer', 0.5179448127746582),\n",
       " ('effluent', 0.5174242258071899),\n",
       " ('irrigation', 0.5160751938819885),\n",
       " ('sediment', 0.5143337249755859),\n",
       " ('floodwater', 0.5104843378067017),\n",
       " ('sewerage', 0.5085800886154175),\n",
       " ('aquifers', 0.508300244808197),\n",
       " ('brackish', 0.5063480138778687),\n",
       " ('liquid', 0.4911225140094757),\n",
       " ('bottled', 0.4858362674713135),\n",
       " ('evaporation', 0.4840138852596283),\n",
       " ('land', 0.47957533597946167),\n",
       " ('saltwater', 0.47671690583229065),\n",
       " ('seepage', 0.47353124618530273),\n",
       " ('moisture', 0.4711664617061615),\n",
       " ('oxygen', 0.46662917733192444),\n",
       " ('contaminate', 0.4646880030632019),\n",
       " ('polluted', 0.46368181705474854)]"
      ]
     },
     "execution_count": 24,
     "metadata": {},
     "output_type": "execute_result"
    }
   ],
   "source": [
    "model.most_similar('water', topn=25)"
   ]
  },
  {
   "cell_type": "code",
   "execution_count": 26,
   "metadata": {},
   "outputs": [
    {
     "data": {
      "text/plain": [
       "[('veterinary', 0.6589906811714172),\n",
       " ('dental', 0.6145017147064209),\n",
       " ('psychiatric', 0.5920779705047607),\n",
       " ('health', 0.5920690298080444),\n",
       " ('outpatient', 0.5774596929550171),\n",
       " ('hospital', 0.5629482269287109),\n",
       " ('medicine', 0.5626959800720215),\n",
       " ('surgical', 0.5600948333740234),\n",
       " ('nursing', 0.5600548386573792),\n",
       " ('clinical', 0.5514633655548096),\n",
       " ('pediatric', 0.5513782501220703),\n",
       " ('physicians', 0.5486127138137817),\n",
       " ('biomedical', 0.5468931794166565),\n",
       " ('orthopedic', 0.5442311763763428),\n",
       " ('radiology', 0.5297563076019287),\n",
       " ('palliative', 0.5220820903778076),\n",
       " ('healthcare', 0.5152167081832886),\n",
       " ('physician', 0.5142868757247925),\n",
       " ('hospitals', 0.51274573802948),\n",
       " ('orthopaedic', 0.5115314722061157),\n",
       " ('geriatric', 0.5042352676391602),\n",
       " ('doctors', 0.5006060004234314),\n",
       " ('dentistry', 0.5000715851783752),\n",
       " ('anesthesiology', 0.49136239290237427),\n",
       " ('pharmacy', 0.4911144971847534)]"
      ]
     },
     "execution_count": 26,
     "metadata": {},
     "output_type": "execute_result"
    }
   ],
   "source": [
    "model.most_similar('medical', topn=25)"
   ]
  },
  {
   "cell_type": "code",
   "execution_count": 27,
   "metadata": {},
   "outputs": [
    {
     "data": {
      "text/plain": [
       "[('shelters', 0.8452489972114563),\n",
       " ('refuge', 0.6221227645874023),\n",
       " ('sheltering', 0.5715663433074951),\n",
       " ('homeless', 0.5680542588233948),\n",
       " ('tents', 0.5575913190841675),\n",
       " ('sheltered', 0.5509488582611084),\n",
       " ('evacuees', 0.5110695362091064),\n",
       " ('accommodation', 0.5065698027610779),\n",
       " ('evacuate', 0.4875040650367737),\n",
       " ('blankets', 0.4782549738883972),\n",
       " ('huts', 0.4649191200733185),\n",
       " ('sanctuary', 0.4641597270965576),\n",
       " ('needy', 0.4640933871269226),\n",
       " ('campsite', 0.462602823972702),\n",
       " ('refuges', 0.46182799339294434),\n",
       " ('respite', 0.4608321487903595),\n",
       " ('assistance', 0.45172184705734253),\n",
       " ('destitute', 0.44732755422592163),\n",
       " ('sustenance', 0.4466785490512848),\n",
       " ('tarps', 0.44646328687667847),\n",
       " ('shacks', 0.44627612829208374),\n",
       " ('orphanage', 0.44555678963661194),\n",
       " ('makeshift', 0.4432254135608673),\n",
       " ('tarpaulins', 0.4413571059703827),\n",
       " ('homes', 0.43969133496284485)]"
      ]
     },
     "execution_count": 27,
     "metadata": {},
     "output_type": "execute_result"
    }
   ],
   "source": [
    "model.most_similar('shelter', topn=25)"
   ]
  },
  {
   "cell_type": "code",
   "execution_count": 28,
   "metadata": {},
   "outputs": [
    {
     "data": {
      "text/plain": [
       "[('energy', 0.6751303672790527),\n",
       " ('megawatts', 0.6466302871704102),\n",
       " ('power', 0.6386343836784363),\n",
       " ('renewable', 0.6368008852005005),\n",
       " ('renewables', 0.6112408638000488),\n",
       " ('generators', 0.5911064743995667),\n",
       " ('utilities', 0.5753559470176697),\n",
       " ('hydropower', 0.5750429630279541),\n",
       " ('kilowatts', 0.5726759433746338),\n",
       " ('hydroelectricity', 0.5711821913719177),\n",
       " ('gas', 0.5674902200698853),\n",
       " ('kilowatt', 0.5663821697235107),\n",
       " ('baseload', 0.5652947425842285),\n",
       " ('kwh', 0.5643448829650879),\n",
       " ('heating', 0.5573583245277405),\n",
       " ('fuel', 0.5544668436050415),\n",
       " ('mwh', 0.5429953336715698),\n",
       " ('gigawatts', 0.541540265083313),\n",
       " ('sewerage', 0.5400328636169434),\n",
       " ('biomass', 0.5393158793449402),\n",
       " ('supply', 0.5359727144241333),\n",
       " ('hydroelectric', 0.5322878360748291),\n",
       " ('megawatt', 0.5314869284629822),\n",
       " ('photovoltaic', 0.5290755033493042),\n",
       " ('biogas', 0.5242639780044556)]"
      ]
     },
     "execution_count": 28,
     "metadata": {},
     "output_type": "execute_result"
    }
   ],
   "source": [
    "model.most_similar('electricity', topn=25)"
   ]
  },
  {
   "cell_type": "code",
   "execution_count": 29,
   "metadata": {},
   "outputs": [
    {
     "data": {
      "text/plain": [
       "[('electricity', 0.6386343836784363),\n",
       " ('kilowatts', 0.5114115476608276),\n",
       " ('megawatts', 0.5108576416969299),\n",
       " ('generators', 0.5044735670089722),\n",
       " ('powers', 0.5036338567733765),\n",
       " ('energy', 0.49356985092163086),\n",
       " ('hydroelectric', 0.4765773415565491),\n",
       " ('clout', 0.469901978969574),\n",
       " ('hydropower', 0.46867555379867554),\n",
       " ('renewables', 0.44705966114997864),\n",
       " ('renewable', 0.44471052289009094),\n",
       " ('turbines', 0.43001532554626465),\n",
       " ('baseload', 0.42854470014572144),\n",
       " ('utilities', 0.4276842176914215),\n",
       " ('capacity', 0.4268409013748169),\n",
       " ('levers', 0.4164648652076721),\n",
       " ('substations', 0.4157220721244812),\n",
       " ('electric', 0.41195422410964966),\n",
       " ('control', 0.41183674335479736),\n",
       " ('kw', 0.4112171232700348),\n",
       " ('output', 0.4105415940284729),\n",
       " ('mw', 0.40955716371536255),\n",
       " ('hydroelectricity', 0.4082127809524536),\n",
       " ('generating', 0.40796446800231934),\n",
       " ('photovoltaic', 0.4064619839191437)]"
      ]
     },
     "execution_count": 29,
     "metadata": {},
     "output_type": "execute_result"
    }
   ],
   "source": [
    "model.most_similar('power', topn=25)"
   ]
  },
  {
   "cell_type": "code",
   "execution_count": null,
   "metadata": {},
   "outputs": [],
   "source": []
  }
 ],
 "metadata": {
  "kernelspec": {
   "display_name": "Python 3",
   "language": "python",
   "name": "python3"
  },
  "language_info": {
   "codemirror_mode": {
    "name": "ipython",
    "version": 3
   },
   "file_extension": ".py",
   "mimetype": "text/x-python",
   "name": "python",
   "nbconvert_exporter": "python",
   "pygments_lexer": "ipython3",
   "version": "3.6.5"
  }
 },
 "nbformat": 4,
 "nbformat_minor": 2
}
